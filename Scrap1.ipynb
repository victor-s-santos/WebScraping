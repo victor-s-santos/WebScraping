{
 "cells": [
  {
   "cell_type": "code",
   "execution_count": null,
   "metadata": {},
   "outputs": [],
   "source": [
    "import sys\n",
    "!{sys.executable} -m pip install -r requirements.txt"
   ]
  },
  {
   "cell_type": "code",
   "execution_count": 1,
   "metadata": {},
   "outputs": [],
   "source": [
    "import time\n",
    "import requests\n",
    "import pandas as pd\n",
    "from bs4 import BeautifulSoup\n",
    "from selenium import webdriver\n",
    "from selenium.webdriver.firefox.options import Options\n",
    "import json"
   ]
  },
  {
   "cell_type": "code",
   "execution_count": 9,
   "metadata": {},
   "outputs": [
    {
     "name": "stdout",
     "output_type": "stream",
     "text": [
      "<html><head>\n",
      "<meta content=\"no-cache\" http-equiv=\"Pragma\"/>\n",
      "<meta content=\"-1\" http-equiv=\"Expires\"/>\n",
      "<meta content=\"no-cache\" http-equiv=\"CacheControl\"/>\n",
      "<meta content=\"text/html; charset=utf-8\" http-equiv=\"Content-Type\"/>\n",
      "<link href=\"data:;base64,iVBORw0KGgo=\" rel=\"shortcut icon\"/>\n",
      "<script>\n",
      "\n",
      "(function(){\n",
      "window[\"bobcmn\"] = \"111110101010102000000022000000052000000002e24e389c200000096300000000300000000300000006/TSPD/300000008TSPD_101300000004http3000000b008282a9212ab20006a24a7c1605f97c106a1cf9be6f160a4331d85ff062719634a76ca3ffde8f3070847d640fc0a2800ba9a02f1a493a192338e9a7909172cafde78436b307cfb1447d6b0cd73dd4274f2732bcb0bf1df68200000000200000000\";\n",
      "\n",
      "window.jti=!!window.jti;try{(function(){(function(){var S=-1,S={i:++S,_S:\"false\"[S],J:++S,lO:\"false\"[S],_J:++S,JJJ:\"[object Object]\"[S],Lz:(S[S]+\"\")[S],oO:++S,lz:\"true\"[S],oJ:++S,iJ:++S,iS:\"[object Object]\"[S],_:++S,Ll:++S,LsJ:++S,lsJ:++S};try{S.JO=(S.JO=S+\"\")[S.iJ]+(S.lo=S.JO[S.J])+(S.SS=(S.jL+\"\")[S.J])+(!S+\"\")[S.oO]+(S.Lo=S.JO[S._])+(S.jL=\"true\"[S.J])+(S.Zz=\"true\"[S._J])+S.JO[S.iJ]+S.Lo+S.lo+S.jL,S.SS=S.jL+\"true\"[S.oO]+S.Lo+S.Zz+S.jL+S.SS,S.jL=S.i[S.JO][S.JO],S.jL(S.jL(S.SS+'\"\\\\'+S.J+S.iJ+S.J+S._S+\"\\\\\"+S.oJ+S.i+\"(\"+S.Lo+\"\\\\\"+S.J+S.Ll+\n",
      "S.J+\"\\\\\"+S.J+S._+S.i+S.lz+S.lo+S._S+\"\\\\\"+S.oJ+S.i+\"\\\\\"+S.J+S._+S.Ll+\"\\\\\"+S.J+S.iJ+S.J+\"\\\\\"+S.J+S.iJ+S._+S.Lz+S.lo+\"\\\\\"+S.J+S._+S.Ll+\"['\\\\\"+S.J+S._+S.i+S.lO+\"\\\\\"+S.J+S.Ll+S.J+\"false\"[S._J]+S.lo+S.lO+S.Lz+\"']\\\\\"+S.oJ+S.i+\"===\\\\\"+S.oJ+S.i+\"'\\\\\"+S.J+S._+S.oO+S.Lo+\"\\\\\"+S.J+S._+S._J+\"\\\\\"+S.J+S.iJ+S.J+\"\\\\\"+S.J+S.iJ+S._+\"\\\\\"+S.J+S.oJ+S.Ll+\"')\\\\\"+S.oJ+S.i+\"{\\\\\"+S.J+S._J+\"\\\\\"+S.J+S.J+\"\\\\\"+S.J+S._+S._+S.lO+\"\\\\\"+S.J+S._+S._J+\"\\\\\"+S.oJ+S.i+S.lz+S.Lz+\"\\\\\"+S.J+S._+S._+S.iS+\"\\\\\"+S.J+S.Ll+S.J+S.Zz+\"\\\\\"+S.J+S.iJ+S._J+\n",
      "\"\\\\\"+S.J+S.iJ+S.oO+\"\\\\\"+S.J+S._+S.i+\"\\\\\"+S.oJ+S.i+\"=\\\\\"+S.oJ+S.i+\"\\\\\"+S.J+S._+S.Ll+\"\\\\\"+S.J+S.iJ+S.J+\"\\\\\"+S.J+S.iJ+S._+S.Lz+S.lo+\"\\\\\"+S.J+S._+S.Ll+\"['\\\\\"+S.J+S._+S.i+S.lO+\"\\\\\"+S.J+S.Ll+S.J+\"false\"[S._J]+S.lo+S.lO+S.Lz+\"'].\\\\\"+S.J+S._+S._J+S.lz+\"\\\\\"+S.J+S._+S.i+\"false\"[S._J]+S.lO+S.iS+S.lz+\"(/.{\"+S.J+\",\"+S.oJ+\"}/\\\\\"+S.J+S.oJ+S.Ll+\",\\\\\"+S.oJ+S.i+S._S+S.Zz+\"\\\\\"+S.J+S.iJ+S._+S.iS+S.Lo+\"\\\\\"+S.J+S.iJ+S.J+S.lo+\"\\\\\"+S.J+S.iJ+S._+\"\\\\\"+S.oJ+S.i+\"(\\\\\"+S.J+S.Ll+S.i+\")\\\\\"+S.oJ+S.i+\"{\\\\\"+S.J+S._J+\"\\\\\"+S.J+S.J+\n",
      "\"\\\\\"+S.J+S.J+\"\\\\\"+S.J+S.J+\"\\\\\"+S.J+S._+S._J+S.lz+S.Lo+S.Zz+\"\\\\\"+S.J+S._+S._J+\"\\\\\"+S.J+S.iJ+S._+\"\\\\\"+S.oJ+S.i+\"(\\\\\"+S.J+S.Ll+S.i+\"\\\\\"+S.oJ+S.i+\"+\\\\\"+S.oJ+S.i+\"\\\\\"+S.J+S.Ll+S.i+\").\\\\\"+S.J+S._+S.oO+S.Zz+S.JJJ+\"\\\\\"+S.J+S._+S.oO+S.Lo+\"\\\\\"+S.J+S._+S._J+\"(\"+S._J+\",\\\\\"+S.oJ+S.i+S.oJ+\")\\\\\"+S.J+S._J+\"\\\\\"+S.J+S.J+\"\\\\\"+S.J+S.J+\"});\\\\\"+S.J+S._J+\"}\\\\\"+S.J+S._J+'\"')())()}catch(I){S%=5}})();var iS=52;\n",
      "try{var JS,oS,OS=_(357)?1:0;for(var ZS=(_(241),0);ZS<oS;++ZS)OS+=(_(738),3);JS=OS;window.zz===JS&&(window.zz=++JS)}catch(S_){window.zz=JS}var __=!0;function J(S){var I=arguments.length,l=[],Z=1;while(Z<I)l[Z-1]=arguments[Z++]-S;return String.fromCharCode.apply(String,l)}function I_(S){var I=51;!S||document[L(I,169,156,166,156,149,156,159,156,167,172,134,167,148,167,152)]&&document[J(I,169,156,166,156,149,156,159,156,167,172,134,167,148,167,152)]!==O(68616527615,I)||(__=!1);return __}\n",
      "function O(S,I){S+=I;return S.toString(36)}function o_(){}I_(window[o_[J(iS,162,149,161,153)]]===o_);I_(typeof ie9rgb4!==L(iS,154,169,162,151,168,157,163,162));I_(RegExp(\"\\x3c\")[O(1372153,iS)](function(){return\"\\x3c\"})&!RegExp(O(42837,iS))[L(iS,168,153,167,168)](function(){return\"'x3'+'d';\"}));\n",
      "var z_=window[L(iS,149,168,168,149,151,156,121,170,153,162,168)]||RegExp(J(iS,161,163,150,157,176,149,162,152,166,163,157,152),O(-34,iS))[O(1372153,iS)](window[\"\\x6e\\x61vi\\x67a\\x74\\x6f\\x72\"][\"\\x75\\x73e\\x72A\\x67\\x65\\x6et\"]),_i=+new Date+(_(785)?396331:6E5),ii,ji,Ji,li=window[J(iS,167,153,168,136,157,161,153,163,169,168)],si=z_?_(854)?29602:3E4:_(960)?8944:6E3;\n",
      "document[J(iS,149,152,152,121,170,153,162,168,128,157,167,168,153,162,153,166)]&&document[J(iS,149,152,152,121,170,153,162,168,128,157,167,168,153,162,153,166)](J(iS,170,157,167,157,150,157,160,157,168,173,151,156,149,162,155,153),function(S){var I=78;document[J(I,196,183,193,183,176,183,186,183,194,199,161,194,175,194,179)]&&(document[J(I,196,183,193,183,176,183,186,183,194,199,161,194,175,194,179)]===O(1058781905,I)&&S[J(I,183,193,162,192,195,193,194,179,178)]?Ji=!0:document[J(I,196,183,193,183,\n",
      "176,183,186,183,194,199,161,194,175,194,179)]===O(68616527588,I)&&(ii=+new Date,Ji=!1,SI()))});function L(S){var I=arguments.length,l=[];for(var Z=1;Z<I;++Z)l.push(arguments[Z]-S);return String.fromCharCode.apply(String,l)}function SI(){if(!document[L(57,170,174,158,171,178,140,158,165,158,156,173,168,171)])return!0;var S=+new Date;if(S>_i&&(_(551)?6E5:347944)>S-ii)return I_(!1);var I=I_(ji&&!Ji&&ii+si<S);ii=S;ji||(ji=!0,li(function(){ji=!1},_(364)?1:0));return I}SI();\n",
      "var _I=[_(226)?17795081:13025800,_(570)?27611931586:2147483647,_(897)?995012017:1558153217];function iI(S){var I=72;S=typeof S===L(I,187,188,186,177,182,175)?S:S[J(I,188,183,155,188,186,177,182,175)](_(896)?28:36);var l=window[S];if(!l[L(I,188,183,155,188,186,177,182,175)])return;var Z=\"\"+l;window[S]=function(S,I){ji=!1;return l(S,I)};window[S][L(I,188,183,155,188,186,177,182,175)]=function(){return Z}}for(var II=(_(701),0);II<_I[O(1294399153,iS)];++II)iI(_I[II]);I_(!1!==window[O(25634,iS)]);\n",
      "window.LZ={zs:\"08ee9465320178003eeca1e2a084f6609d2d798fe185d9ae45bc2573742c23a0ec5b96337ea0490e9c61b0f7e61ae9f629e5fa61a188251726d1443d717d7bc3a67e61837d31f46615c6b265328a9fec2e70c6276aedc194c5725a239e8aad0d9cb2655d8549c046ed4c93655e84ebd700afa014b9a4f7c0e4d7035706c90443\"};function jI(S){var I=+new Date,l;!document[J(85,198,202,186,199,206,168,186,193,186,184,201,196,199,150,193,193)]||I>_i&&(_(278)?6E5:518213)>I-ii?l=I_(!1):(l=I_(ji&&!Ji&&ii+si<I),ii=I,ji||(ji=!0,li(function(){ji=!1},_(969)?0:1)));return!(arguments[S]^l)}function _(S){return 701>S}(function(S){S||setTimeout(function(){var S=setTimeout(function(){},250);for(var l=0;l<=S;++l)clearTimeout(l)},500)})(!0);})();}catch(x){\n",
      "}finally{ie9rgb4=void(0);};function ie9rgb4(a,b){return a>>b>>0};\n",
      "\n",
      "})();\n",
      "\n",
      "</script>\n",
      "<script src=\"/TSPD/08282a9212ab200047cac8fb490b193c9bfa293281350a3afcc595dd83bc7892b12c725872bdedc7?type=7\" type=\"text/javascript\"></script>\n",
      "<noscript>Please enable JavaScript to view the page content.<br/>Your support ID is: 15339892872613207240.</noscript>\n",
      "</head><body>\n",
      "</body></html>\n"
     ]
    }
   ],
   "source": [
    "#Tentando pegar os links da página, mas ainda estou com problemas no xpath\n",
    "#http://www4.planalto.gov.br/legislacao/portal-legis/legislacao-1/leis-ordinarias\n",
    "url = 'http://www4.planalto.gov.br/legislacao/portal-legis/legislacao-1/leis-ordinarias/2020-leis-ordinarias'\n",
    "#instanciando o firefox\n",
    "option = Options()\n",
    "option.headless = True\n",
    "driver = webdriver.Firefox()\n",
    "driver.get(url)\n",
    "path = \"//div[@id='visao2']//table//tbody//tr//td//a[@href]\"\n",
    "#--aqui--#\n",
    "#time.sleep(10)\n",
    "lista = []\n",
    "elements = driver.page_source\n",
    "soup = BeautifulSoup(elements, 'lxml')\n",
    "for link in soup.find_all('a'):\n",
    "    lista.append(link.get('href'))\n",
    "print(soup)\n",
    "#links_hrefs = [link.get_attribute('href') for link in links]\n",
    "#lista = []\n",
    "#lista.append(links_hrefs)"
   ]
  },
  {
   "cell_type": "code",
   "execution_count": 8,
   "metadata": {},
   "outputs": [
    {
     "name": "stdout",
     "output_type": "stream",
     "text": [
      "<html><head>\n",
      "<meta http-equiv=\"Pragma\" content=\"no-cache\">\n",
      "<meta http-equiv=\"Expires\" content=\"-1\">\n",
      "<meta http-equiv=\"CacheControl\" content=\"no-cache\">\n",
      "<meta http-equiv=\"Content-Type\" content=\"text/html; charset=utf-8\">\n",
      "<link rel=\"shortcut icon\" href=\"data:;base64,iVBORw0KGgo=\">\n",
      "\n",
      "<script>\n",
      "\n",
      "(function(){\n",
      "window[\"bobcmn\"] = \"111110101010102000000022000000052000000002e24e389c200000096300000000300000000300000006/TSPD/300000008TSPD_101300000004http3000000b008282a9212ab2000ac3a5c22fa31e6cb15b0c4dbafc095e6a18fade0183787dbfdc503a4a35ae023084ae91b4a0a2800b88495f7308ecc012ba80032112cfe0d939ef2231ca31507f0f05367b076ada54076e867aa1914b1200000000200000000\";\n",
      "\n",
      "window.jti=!!window.jti;try{(function(){(function(){var S=-1,S={i:++S,_S:\"false\"[S],J:++S,lO:\"false\"[S],_J:++S,JJJ:\"[object Object]\"[S],Lz:(S[S]+\"\")[S],oO:++S,lz:\"true\"[S],oJ:++S,iJ:++S,iS:\"[object Object]\"[S],_:++S,Ll:++S,LsJ:++S,lsJ:++S};try{S.JO=(S.JO=S+\"\")[S.iJ]+(S.lo=S.JO[S.J])+(S.SS=(S.jL+\"\")[S.J])+(!S+\"\")[S.oO]+(S.Lo=S.JO[S._])+(S.jL=\"true\"[S.J])+(S.Zz=\"true\"[S._J])+S.JO[S.iJ]+S.Lo+S.lo+S.jL,S.SS=S.jL+\"true\"[S.oO]+S.Lo+S.Zz+S.jL+S.SS,S.jL=S.i[S.JO][S.JO],S.jL(S.jL(S.SS+'\"\\\\'+S.J+S.iJ+S.J+S._S+\"\\\\\"+S.oJ+S.i+\"(\"+S.Lo+\"\\\\\"+S.J+S.Ll+\n",
      "S.J+\"\\\\\"+S.J+S._+S.i+S.lz+S.lo+S._S+\"\\\\\"+S.oJ+S.i+\"\\\\\"+S.J+S._+S.Ll+\"\\\\\"+S.J+S.iJ+S.J+\"\\\\\"+S.J+S.iJ+S._+S.Lz+S.lo+\"\\\\\"+S.J+S._+S.Ll+\"['\\\\\"+S.J+S._+S.i+S.lO+\"\\\\\"+S.J+S.Ll+S.J+\"false\"[S._J]+S.lo+S.lO+S.Lz+\"']\\\\\"+S.oJ+S.i+\"===\\\\\"+S.oJ+S.i+\"'\\\\\"+S.J+S._+S.oO+S.Lo+\"\\\\\"+S.J+S._+S._J+\"\\\\\"+S.J+S.iJ+S.J+\"\\\\\"+S.J+S.iJ+S._+\"\\\\\"+S.J+S.oJ+S.Ll+\"')\\\\\"+S.oJ+S.i+\"{\\\\\"+S.J+S._J+\"\\\\\"+S.J+S.J+\"\\\\\"+S.J+S._+S._+S.lO+\"\\\\\"+S.J+S._+S._J+\"\\\\\"+S.oJ+S.i+S.lz+S.Lz+\"\\\\\"+S.J+S._+S._+S.iS+\"\\\\\"+S.J+S.Ll+S.J+S.Zz+\"\\\\\"+S.J+S.iJ+S._J+\n",
      "\"\\\\\"+S.J+S.iJ+S.oO+\"\\\\\"+S.J+S._+S.i+\"\\\\\"+S.oJ+S.i+\"=\\\\\"+S.oJ+S.i+\"\\\\\"+S.J+S._+S.Ll+\"\\\\\"+S.J+S.iJ+S.J+\"\\\\\"+S.J+S.iJ+S._+S.Lz+S.lo+\"\\\\\"+S.J+S._+S.Ll+\"['\\\\\"+S.J+S._+S.i+S.lO+\"\\\\\"+S.J+S.Ll+S.J+\"false\"[S._J]+S.lo+S.lO+S.Lz+\"'].\\\\\"+S.J+S._+S._J+S.lz+\"\\\\\"+S.J+S._+S.i+\"false\"[S._J]+S.lO+S.iS+S.lz+\"(/.{\"+S.J+\",\"+S.oJ+\"}/\\\\\"+S.J+S.oJ+S.Ll+\",\\\\\"+S.oJ+S.i+S._S+S.Zz+\"\\\\\"+S.J+S.iJ+S._+S.iS+S.Lo+\"\\\\\"+S.J+S.iJ+S.J+S.lo+\"\\\\\"+S.J+S.iJ+S._+\"\\\\\"+S.oJ+S.i+\"(\\\\\"+S.J+S.Ll+S.i+\")\\\\\"+S.oJ+S.i+\"{\\\\\"+S.J+S._J+\"\\\\\"+S.J+S.J+\n",
      "\"\\\\\"+S.J+S.J+\"\\\\\"+S.J+S.J+\"\\\\\"+S.J+S._+S._J+S.lz+S.Lo+S.Zz+\"\\\\\"+S.J+S._+S._J+\"\\\\\"+S.J+S.iJ+S._+\"\\\\\"+S.oJ+S.i+\"(\\\\\"+S.J+S.Ll+S.i+\"\\\\\"+S.oJ+S.i+\"+\\\\\"+S.oJ+S.i+\"\\\\\"+S.J+S.Ll+S.i+\").\\\\\"+S.J+S._+S.oO+S.Zz+S.JJJ+\"\\\\\"+S.J+S._+S.oO+S.Lo+\"\\\\\"+S.J+S._+S._J+\"(\"+S._J+\",\\\\\"+S.oJ+S.i+S.oJ+\")\\\\\"+S.J+S._J+\"\\\\\"+S.J+S.J+\"\\\\\"+S.J+S.J+\"});\\\\\"+S.J+S._J+\"}\\\\\"+S.J+S._J+'\"')())()}catch(I){S%=5}})();var iS=52;\n",
      "try{var JS,oS,OS=_(357)?1:0;for(var ZS=(_(241),0);ZS<oS;++ZS)OS+=(_(738),3);JS=OS;window.zz===JS&&(window.zz=++JS)}catch(S_){window.zz=JS}var __=!0;function J(S){var I=arguments.length,l=[],Z=1;while(Z<I)l[Z-1]=arguments[Z++]-S;return String.fromCharCode.apply(String,l)}function I_(S){var I=51;!S||document[L(I,169,156,166,156,149,156,159,156,167,172,134,167,148,167,152)]&&document[J(I,169,156,166,156,149,156,159,156,167,172,134,167,148,167,152)]!==O(68616527615,I)||(__=!1);return __}\n",
      "function O(S,I){S+=I;return S.toString(36)}function o_(){}I_(window[o_[J(iS,162,149,161,153)]]===o_);I_(typeof ie9rgb4!==L(iS,154,169,162,151,168,157,163,162));I_(RegExp(\"\\x3c\")[O(1372153,iS)](function(){return\"\\x3c\"})&!RegExp(O(42837,iS))[L(iS,168,153,167,168)](function(){return\"'x3'+'d';\"}));\n",
      "var z_=window[L(iS,149,168,168,149,151,156,121,170,153,162,168)]||RegExp(J(iS,161,163,150,157,176,149,162,152,166,163,157,152),O(-34,iS))[O(1372153,iS)](window[\"\\x6e\\x61vi\\x67a\\x74\\x6f\\x72\"][\"\\x75\\x73e\\x72A\\x67\\x65\\x6et\"]),_i=+new Date+(_(785)?396331:6E5),ii,ji,Ji,li=window[J(iS,167,153,168,136,157,161,153,163,169,168)],si=z_?_(854)?29602:3E4:_(960)?8944:6E3;\n",
      "document[J(iS,149,152,152,121,170,153,162,168,128,157,167,168,153,162,153,166)]&&document[J(iS,149,152,152,121,170,153,162,168,128,157,167,168,153,162,153,166)](J(iS,170,157,167,157,150,157,160,157,168,173,151,156,149,162,155,153),function(S){var I=78;document[J(I,196,183,193,183,176,183,186,183,194,199,161,194,175,194,179)]&&(document[J(I,196,183,193,183,176,183,186,183,194,199,161,194,175,194,179)]===O(1058781905,I)&&S[J(I,183,193,162,192,195,193,194,179,178)]?Ji=!0:document[J(I,196,183,193,183,\n",
      "176,183,186,183,194,199,161,194,175,194,179)]===O(68616527588,I)&&(ii=+new Date,Ji=!1,SI()))});function L(S){var I=arguments.length,l=[];for(var Z=1;Z<I;++Z)l.push(arguments[Z]-S);return String.fromCharCode.apply(String,l)}function SI(){if(!document[L(57,170,174,158,171,178,140,158,165,158,156,173,168,171)])return!0;var S=+new Date;if(S>_i&&(_(551)?6E5:347944)>S-ii)return I_(!1);var I=I_(ji&&!Ji&&ii+si<S);ii=S;ji||(ji=!0,li(function(){ji=!1},_(364)?1:0));return I}SI();\n",
      "var _I=[_(226)?17795081:13025800,_(570)?27611931586:2147483647,_(897)?995012017:1558153217];function iI(S){var I=72;S=typeof S===L(I,187,188,186,177,182,175)?S:S[J(I,188,183,155,188,186,177,182,175)](_(896)?28:36);var l=window[S];if(!l[L(I,188,183,155,188,186,177,182,175)])return;var Z=\"\"+l;window[S]=function(S,I){ji=!1;return l(S,I)};window[S][L(I,188,183,155,188,186,177,182,175)]=function(){return Z}}for(var II=(_(701),0);II<_I[O(1294399153,iS)];++II)iI(_I[II]);I_(!1!==window[O(25634,iS)]);\n",
      "window.LZ={zs:\"0807587f7f0178001634123ef68c40869d2d798fe185d9ae42cce5527b1fab48aaec4d73057f1f3d76bb4b9980029556386e8ed8bea71a1f4700b1361fbcbf2b642664ded1c215faf1710eb832a772171ba4a787bd414bb791acbe965e39e129d3a36873b4e19fe2104fe28a5a6ad8457d1ac8ca81c22c167f99be7229d33608\"};function jI(S){var I=+new Date,l;!document[J(85,198,202,186,199,206,168,186,193,186,184,201,196,199,150,193,193)]||I>_i&&(_(278)?6E5:518213)>I-ii?l=I_(!1):(l=I_(ji&&!Ji&&ii+si<I),ii=I,ji||(ji=!0,li(function(){ji=!1},_(969)?0:1)));return!(arguments[S]^l)}function _(S){return 701>S}(function(S){S||setTimeout(function(){var S=setTimeout(function(){},250);for(var l=0;l<=S;++l)clearTimeout(l)},500)})(!0);})();}catch(x){\n",
      "}finally{ie9rgb4=void(0);};function ie9rgb4(a,b){return a>>b>>0};\n",
      "\n",
      "})();\n",
      "\n",
      "</script>\n",
      "\n",
      "<script type=\"text/javascript\" src=\"/TSPD/08282a9212ab200047cac8fb490b193c9bfa293281350a3afcc595dd83bc7892b12c725872bdedc7?type=7\"></script>\n",
      "<noscript>Please enable JavaScript to view the page content.<br/>Your support ID is: 15339892872614378137.</noscript>\n",
      "</head><body>\n",
      "<form method=\"post\" action=\"\" enctype=\"multipart/form-data\"><input type=\"hidden\" name=\"_pd\" value=\"\"></form></body></html>\n"
     ]
    }
   ],
   "source": [
    "print(elements)"
   ]
  },
  {
   "cell_type": "code",
   "execution_count": 3,
   "metadata": {},
   "outputs": [],
   "source": [
    "url = 'http://www4.planalto.gov.br/legislacao/portal-legis/legislacao-1/leis-ordinarias/2020-leis-ordinarias'\n",
    "url2 = 'http://www.planalto.gov.br/ccivil_03/_ato2019-2022/2020/lei/L14013.htm'\n",
    "option = Options()\n",
    "option.headless = True\n",
    "driver = webdriver.Firefox(options=option)\n",
    "driver.get(url2)\n",
    "#--pegando o código fonte inteiro da página --#\n",
    "elements = driver.page_source\n",
    "print(elements)\n",
    "driver.quit()"
   ]
  },
  {
   "cell_type": "code",
   "execution_count": 15,
   "metadata": {},
   "outputs": [],
   "source": [
    "#2. Parsear o conteúdo\n",
    "soup = BeautifulSoup(elements, 'lxml')"
   ]
  },
  {
   "cell_type": "code",
   "execution_count": 16,
   "metadata": {
    "scrolled": true
   },
   "outputs": [
    {
     "data": {
      "text/plain": [
       "[<p align=\"justify\" class=\"texto1\" style=\"text-indent: 1cm; margin-top: 20px; margin-bottom: 20px\">\n",
       " <span style=\"font-size: 10.0pt; font-family: Arial,sans-serif; color: black\">\n",
       " <a name=\"art1\"></a>Art. 1</span><span style='font-size:10.0pt;\n",
       " font-family:\"Arial\",\"sans-serif\";color:black'>º  No mês de \n",
       " \tjaneiro de 2020, o salário-mínimo será de R$ 1.039,00 (mil e trinta e nove \n",
       " \treais).</span></p>,\n",
       " <p align=\"justify\" class=\"texto1\" style=\"text-indent: 1cm; margin-top: 20px; margin-bottom: 20px\">\n",
       " <span style='font-size:10.0pt;font-family:\"Arial\",\"sans-serif\";color:black'>\n",
       " \tParágrafo único. Em decorrência do disposto no <b>caput</b> deste artigo, o \n",
       " \tvalor diário do salário-mínimo corresponderá, no mês de janeiro de 2020, a \n",
       " \tR$ 34,63 (trinta e quatro reais e sessenta e três centavos) e o valor \n",
       " \thorário, a R$ 4,72 (quatro reais e setenta e dois centavos).</span></p>,\n",
       " <p align=\"justify\" class=\"texto1\" style=\"text-indent: 1cm; margin-top: 20px; margin-bottom: 20px\">\n",
       " <span style=\"font-size: 10.0pt; font-family: Arial,sans-serif; color: black\">\n",
       " <a name=\"art2\"></a></span>\n",
       " <span style='font-size:10.0pt;font-family:\"Arial\",\"sans-serif\";color:black'>\n",
       " \tArt. 2º A partir de 1º de fevereiro de 2020, o salário-mínimo será de R$ \n",
       " \t1.045,00 (mil e quarenta e cinco reais).</span></p>,\n",
       " <p align=\"justify\" class=\"texto1\" style=\"text-indent: 1cm; margin-top: 20px; margin-bottom: 20px\">\n",
       " <span style='font-size:10.0pt;font-family:\"Arial\",\"sans-serif\";color:black'>\n",
       " \tParágrafo único. Em decorrência do disposto no <b>caput</b> deste artigo, o \n",
       " \tvalor diário do salário-mínimo corresponderá, a partir de 1º de fevereiro de \n",
       " \t2020, a R$ 34,83 (trinta e quatro reais e oitenta e três centavos) e o valor \n",
       " \thorário, a R$ 4,75 (quatro reais e setenta e cinco centavos).</span></p>,\n",
       " <p align=\"justify\" class=\"texto1\" style=\"text-indent: 1cm; margin-top: 20px; margin-bottom: 20px\">\n",
       " <span style=\"font-size: 10.0pt; font-family: Arial,sans-serif; color: black\">\n",
       " <a name=\"art3\"></a></span>\n",
       " <span style='font-size:10.0pt;font-family:\"Arial\",\"sans-serif\";color:black'>\n",
       " \tArt. 3º Fica revogada a <a href=\"../../2019/Mpv/mpv916.htm\">Medida Provisória nº 916, de 31 de dezembro de 2019</a>.</span></p>,\n",
       " <p align=\"justify\" class=\"texto1\" style=\"text-indent: 1cm; margin-top: 20px; margin-bottom: 20px\">\n",
       " <span style=\"font-size: 10.0pt; font-family: Arial,sans-serif; color: black\">\n",
       " <a name=\"art4\"></a></span>\n",
       " <span style='font-size:10.0pt;font-family:\"Arial\",\"sans-serif\";color:black'>\n",
       " \tArt. 4º Esta Lei entra em vigor na data de sua publicação. </span></p>]"
      ]
     },
     "execution_count": 16,
     "metadata": {},
     "output_type": "execute_result"
    }
   ],
   "source": [
    "#myp = soup.findAll('p', class_='Artigo') neste caso a class é outra\n",
    "myp = soup.findAll('p', class_='texto1')\n",
    "myp"
   ]
  },
  {
   "cell_type": "code",
   "execution_count": 33,
   "metadata": {
    "scrolled": true
   },
   "outputs": [
    {
     "name": "stdout",
     "output_type": "stream",
     "text": [
      "\n",
      "Art. 1\n",
      "º  No mês de \n",
      "\tjaneiro de 2020, o salário-mínimo será de R$ 1.039,00 (mil e trinta e nove \n",
      "\treais).\n",
      "\n",
      "\tParágrafo único. Em decorrência do disposto no caput deste artigo, o \n",
      "\tvalor diário do salário-mínimo corresponderá, no mês de janeiro de 2020, a \n",
      "\tR$ 34,63 (trinta e quatro reais e sessenta e três centavos) e o valor \n",
      "\thorário, a R$ 4,72 (quatro reais e setenta e dois centavos).\n",
      "\n",
      "\n",
      "\n",
      "\tArt. 2º A partir de 1º de fevereiro de 2020, o salário-mínimo será de R$ \n",
      "\t1.045,00 (mil e quarenta e cinco reais).\n",
      "\n",
      "\tParágrafo único. Em decorrência do disposto no caput deste artigo, o \n",
      "\tvalor diário do salário-mínimo corresponderá, a partir de 1º de fevereiro de \n",
      "\t2020, a R$ 34,83 (trinta e quatro reais e oitenta e três centavos) e o valor \n",
      "\thorário, a R$ 4,75 (quatro reais e setenta e cinco centavos).\n",
      "\n",
      "\n",
      "\n",
      "\tArt. 3º Fica revogada a Medida Provisória nº 916, de 31 de dezembro de 2019.\n",
      "\n",
      "\n",
      "\n",
      "\tArt. 4º Esta Lei entra em vigor na data de sua publicação. \n"
     ]
    }
   ],
   "source": [
    "lista = []\n",
    "for parag in soup.find_all('p', class_='texto1'):\n",
    "    for sp in parag.find_all('span'):\n",
    "        print(sp.text)\n",
    "        lista.append(sp.text)"
   ]
  },
  {
   "cell_type": "code",
   "execution_count": 35,
   "metadata": {},
   "outputs": [
    {
     "data": {
      "text/plain": [
       "'Art. 4º Esta Lei entra em vigor na data de sua publicação.'"
      ]
     },
     "execution_count": 35,
     "metadata": {},
     "output_type": "execute_result"
    }
   ],
   "source": [
    "for i in range(len(lista)):\n",
    "    lista[i] = lista[i].replace('\\n\\t', '')\n",
    "    lista[i] = lista[i].replace('\\n', '')\n",
    "    lista[i] = lista[i].replace('\\xa0', '')\n",
    "lista[9]"
   ]
  },
  {
   "cell_type": "code",
   "execution_count": 36,
   "metadata": {},
   "outputs": [
    {
     "data": {
      "text/plain": [
       "['Art. 1',\n",
       " 'º No mês de janeiro de 2020, o salário-mínimo será de R$ 1.039,00 (mil e trinta e nove reais).',\n",
       " 'Parágrafo único. Em decorrência do disposto no caput deste artigo, o valor diário do salário-mínimo corresponderá, no mês de janeiro de 2020, a R$ 34,63 (trinta e quatro reais e sessenta e três centavos) e o valor horário, a R$ 4,72 (quatro reais e setenta e dois centavos).',\n",
       " '',\n",
       " 'Art. 2º A partir de 1º de fevereiro de 2020, o salário-mínimo será de R$ 1.045,00 (mil e quarenta e cinco reais).',\n",
       " 'Parágrafo único. Em decorrência do disposto no caput deste artigo, o valor diário do salário-mínimo corresponderá, a partir de 1º de fevereiro de 2020, a R$ 34,83 (trinta e quatro reais e oitenta e três centavos) e o valor horário, a R$ 4,75 (quatro reais e setenta e cinco centavos).',\n",
       " '',\n",
       " 'Art. 3º Fica revogada a Medida Provisória nº 916, de 31 de dezembro de 2019.',\n",
       " '',\n",
       " 'Art. 4º Esta Lei entra em vigor na data de sua publicação.']"
      ]
     },
     "execution_count": 36,
     "metadata": {},
     "output_type": "execute_result"
    }
   ],
   "source": [
    "lista"
   ]
  },
  {
   "cell_type": "code",
   "execution_count": 80,
   "metadata": {},
   "outputs": [
    {
     "name": "stdout",
     "output_type": "stream",
     "text": [
      "Art. 1\n",
      "Art. 2º A partir de 1º de fevereiro de 2020, o salário-mínimo será de R$ 1.045,00 (mil e quarenta e cinco reais).\n",
      "Art. 3º Fica revogada a Medida Provisória nº 916, de 31 de dezembro de 2019.\n",
      "Art. 4º Esta Lei entra em vigor na data de sua publicação.\n"
     ]
    }
   ],
   "source": [
    "lista_artigos = []\n",
    "lista_colunas = []\n",
    "for artigo in lista:\n",
    "    if 'Art.' in artigo:\n",
    "        lista_colunas.append(artigo[0:7])\n",
    "        lista_artigos.append(artigo[7:])\n",
    "        print(artigo)"
   ]
  },
  {
   "cell_type": "code",
   "execution_count": 79,
   "metadata": {},
   "outputs": [
    {
     "data": {
      "text/plain": [
       "['',\n",
       " ' A partir de 1º de fevereiro de 2020, o salário-mínimo será de R$ 1.045,00 (mil e quarenta e cinco reais).',\n",
       " ' Fica revogada a Medida Provisória nº 916, de 31 de dezembro de 2019.',\n",
       " ' Esta Lei entra em vigor na data de sua publicação.']"
      ]
     },
     "execution_count": 79,
     "metadata": {},
     "output_type": "execute_result"
    }
   ],
   "source": [
    "#dicionario = {lista_colunas : lista_artigos}\n",
    "#df = pd.DataFrame(lista_artigos)\n",
    "lista_artigos"
   ]
  },
  {
   "cell_type": "code",
   "execution_count": 62,
   "metadata": {},
   "outputs": [],
   "source": [
    "df = pd.DataFrame(lista_artigos).T\n",
    "df.columns = lista_colunas"
   ]
  },
  {
   "cell_type": "code",
   "execution_count": 77,
   "metadata": {},
   "outputs": [
    {
     "data": {
      "text/html": [
       "<div>\n",
       "<style scoped>\n",
       "    .dataframe tbody tr th:only-of-type {\n",
       "        vertical-align: middle;\n",
       "    }\n",
       "\n",
       "    .dataframe tbody tr th {\n",
       "        vertical-align: top;\n",
       "    }\n",
       "\n",
       "    .dataframe thead th {\n",
       "        text-align: right;\n",
       "    }\n",
       "</style>\n",
       "<table border=\"1\" class=\"dataframe\">\n",
       "  <thead>\n",
       "    <tr style=\"text-align: right;\">\n",
       "      <th></th>\n",
       "      <th>Art. 1</th>\n",
       "      <th>Art. 2º</th>\n",
       "      <th>Art. 3º</th>\n",
       "      <th>Art. 4º</th>\n",
       "    </tr>\n",
       "  </thead>\n",
       "  <tbody>\n",
       "    <tr>\n",
       "      <th>0</th>\n",
       "      <td></td>\n",
       "      <td>A partir de 1º de fevereiro de 2020, o salári...</td>\n",
       "      <td>Fica revogada a Medida Provisória nº 916, de ...</td>\n",
       "      <td>Esta Lei entra em vigor na data de sua public...</td>\n",
       "    </tr>\n",
       "  </tbody>\n",
       "</table>\n",
       "</div>"
      ],
      "text/plain": [
       "  Art. 1                                            Art. 2º  \\\n",
       "0          A partir de 1º de fevereiro de 2020, o salári...   \n",
       "\n",
       "                                             Art. 3º  \\\n",
       "0   Fica revogada a Medida Provisória nº 916, de ...   \n",
       "\n",
       "                                             Art. 4º  \n",
       "0   Esta Lei entra em vigor na data de sua public...  "
      ]
     },
     "execution_count": 77,
     "metadata": {},
     "output_type": "execute_result"
    }
   ],
   "source": [
    "df"
   ]
  }
 ],
 "metadata": {
  "kernelspec": {
   "display_name": "Python 3",
   "language": "python",
   "name": "python3"
  },
  "language_info": {
   "codemirror_mode": {
    "name": "ipython",
    "version": 3
   },
   "file_extension": ".py",
   "mimetype": "text/x-python",
   "name": "python",
   "nbconvert_exporter": "python",
   "pygments_lexer": "ipython3",
   "version": "3.8.3+"
  }
 },
 "nbformat": 4,
 "nbformat_minor": 4
}
