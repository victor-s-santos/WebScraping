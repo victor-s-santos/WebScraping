{
 "cells": [
  {
   "cell_type": "code",
   "execution_count": 19,
   "metadata": {},
   "outputs": [],
   "source": [
    "import re\n",
    "import time\n",
    "from bs4 import BeautifulSoup\n",
    "from selenium import webdriver\n",
    "from selenium.webdriver.firefox.options import Options\n",
    "#lei=law, n=article number, p=paragraph number, inciso=item, alinea=point\n",
    "class Scrap:\n",
    "    def __init__(self, lei, n=None, p=None, inciso=None):\n",
    "        \"\"\"Initializing the driver\"\"\"\n",
    "        self.lei = lei\n",
    "        self.n = n\n",
    "        self.p = p\n",
    "        self.inciso1 = inciso\n",
    "        #self.alinea1 = alinea\n",
    "    \n",
    "        self.art = str('Art. ' + str(self.n))\n",
    "        self.lista_paragrafo = []\n",
    "        self.lista_inciso = []\n",
    "        \n",
    "        #constantes auxiliares\n",
    "        self.z = 0\n",
    "        \n",
    "        url = 'https://www2.camara.leg.br/busca/?q=' + lei\n",
    "        option = Options()\n",
    "        option.headless = True\n",
    "        driver = webdriver.Firefox(options=option)\n",
    "        driver.get(url)\n",
    "        driver.find_element_by_xpath(\"//div[@id='resultadoBusca']//ul//li//span//a\").click()\n",
    "        driver.find_element_by_xpath(\"//div[@class='sessao']//a\").click()\n",
    "        element = driver.find_element_by_xpath(\"//div[@class='texto']\")\n",
    "        self.titulo = driver.find_element_by_class_name('ementa')\n",
    "        html_content = element.get_attribute('outerHTML')\n",
    "        self.titulo = self.titulo.get_attribute('outerHTML')\n",
    "        #time.sleep(2)\n",
    "        driver.quit()\n",
    "\n",
    "        self.soup = BeautifulSoup(html_content, 'lxml')\n",
    "        self.texto = self.soup.find_all(text=True)\n",
    "\n",
    "        self.titulo = BeautifulSoup(self.titulo, 'lxml')\n",
    "        self.titulo = self.titulo.find_all(text=True)\n",
    "        #limpando\n",
    "        for i in range(len(self.texto)):\n",
    "            self.texto[i] = self.texto[i].replace('\\n', '')\n",
    "            self.texto[i] = self.texto[i].replace('\\t', '')\n",
    "            self.texto[i] = self.texto[i].replace('\\xa0', '')\n",
    "        \n",
    "        \n",
    "    def title(self):\n",
    "        \"\"\"Returns the law title\"\"\" \n",
    "        for i in range(len(self.titulo)):\n",
    "            self.titulo[i] = self.titulo[i].replace('\\n', '')\n",
    "            self.titulo[i] = self.titulo[i].replace('\\t', '')\n",
    "            if '' in self.titulo:\n",
    "                self.titulo.remove('')\n",
    "            return(self.titulo[0])\n",
    "   \n",
    "    def article(self):\n",
    "        pattern0 = f'(Art\\. {self.n})'\n",
    "        patternf = r\"(\\'\\,)\"\n",
    "        self.artigo0 = re.search(pattern0, str(self.texto)).start()\n",
    "        self.artigof = re.search(patternf, str(self.texto)[self.artigo0:]).start()\n",
    "        self.total = self.artigo0 + self.artigof\n",
    "        return(str(self.texto)[self.artigo0:(self.total)])\n",
    "\n",
    "    def paragraph(self):\n",
    "        \"\"\"Must returns the requested paragraph for requested article\"\"\"\n",
    "        pattern0 = f'(Art\\. {self.n})'\n",
    "        patternf = r\"(\\'\\,)\"\n",
    "        artigo0 = re.search(pattern0, str(self.texto)).start()\n",
    "        artigof = re.search(patternf, str(self.texto)[artigo0:]).start()\n",
    "\n",
    "        pattern_paragraph0 = f'(§ {self.p})'\n",
    "        pattern_paragraphf = r\"(\\'\\,)\"\n",
    "        paragraph0 = re.search(pattern_paragraph0, str(self.texto)[artigof:]).start()\n",
    "        paragraph0 = paragraph0 + artigof\n",
    "        paragraphf = re.search(pattern_paragraphf, str(self.texto)[paragraph0:]).start()\n",
    "        paragraphf = paragraphf + paragraph0\n",
    "        try:\n",
    "            if (f'Art. {int(self.n) +1}') in str(self.texto)[(artigo0 + artigof): paragraphf].split(\"',\")[self.p]:\n",
    "                return('Parágrafo não encontrado!')\n",
    "            else:\n",
    "                return(str(self.texto)[(artigo0 + artigof): paragraphf].split(\"',\"))[self.p]\n",
    "        except:\n",
    "            if (f'Art. {int(self.n) +1}') in str(self.texto)[(artigo0 + artigof): paragraphf].split(\"',\")[self.p]:\n",
    "                return('Parágrafo não encontrado!')\n",
    "            else:\n",
    "                return(str(self.texto)[(artigo0 + artigof):].split(\"',\"))[self.p]\n",
    "    \n",
    "    \n",
    "    def inciso(self):\n",
    "        \"\"\"Returns the requested item from the article / law, \n",
    "        if no item was requested the entire list is returned\"\"\"\n",
    "        self.article()\n",
    "        if self.inciso1 is not None:\n",
    "            for i in range(self.i2, len(self.texto)):\n",
    "                if (f'Art. {int(self.n) +1}') in self.texto[i]:\n",
    "                    break\n",
    "                if (str(self.inciso1)) in self.texto[i]:\n",
    "                    self.texto[i] = self.texto[i].replace('\\xa0', '')\n",
    "                    return(self.texto[i])\n",
    "            return('O inciso requisitado não foi encontrado!')\n",
    "        else:\n",
    "            for i in range(self.i2, len(self.texto)):\n",
    "                if 'SEÇÃO' in self.texto[i]:\n",
    "                    if(len(self.lista_inciso) == 0):\n",
    "                        return('O artigo requisitado não possui incisos!')\n",
    "                    else: \n",
    "                        return(self.lista_inciso)\n",
    "                    \n",
    "                if (f'Art. {int(self.n) +1}') in self.texto[i]:\n",
    "                    if(len(self.lista_inciso) == 0):\n",
    "                        return('O artigo requisitado não possui incisos!')\n",
    "                    else: \n",
    "                        return(self.lista_inciso)\n",
    "                \n",
    "                if ('I') in self.texto[i]:\n",
    "                    for j in range(i, len(self.texto)):\n",
    "                        if (f'Art. {int(self.n) +1}') in self.texto[j]:\n",
    "                            if(len(self.lista_inciso) == 0):\n",
    "                                return('O artigo requisitado não possui incisos!')\n",
    "                            else: \n",
    "                                return(self.lista_inciso)\n",
    "                        if ('\\n') in self.texto[j]:\n",
    "                            return(self.lista_inciso)\n",
    "                        self.texto[j] = self.texto[j].replace('\\xa0', '')\n",
    "                        self.lista_inciso.append(self.texto[j])\n",
    "            if(len(self.lista_inciso) == 0):\n",
    "                return('O artigo requisitado não possui incisos!')\n",
    "            else:\n",
    "                return(self.lista_inciso)"
   ]
  },
  {
   "cell_type": "code",
   "execution_count": null,
   "metadata": {},
   "outputs": [],
   "source": [
    "teste = Scrap(lei='lei 1.060', n=4, p=1)"
   ]
  },
  {
   "cell_type": "code",
   "execution_count": null,
   "metadata": {},
   "outputs": [],
   "source": [
    "teste.title()"
   ]
  },
  {
   "cell_type": "code",
   "execution_count": null,
   "metadata": {},
   "outputs": [],
   "source": [
    "teste.article()"
   ]
  },
  {
   "cell_type": "code",
   "execution_count": null,
   "metadata": {},
   "outputs": [],
   "source": [
    "teste.paragraph()"
   ]
  },
  {
   "cell_type": "code",
   "execution_count": 177,
   "metadata": {},
   "outputs": [],
   "source": [
    "#teste.inciso()"
   ]
  },
  {
   "cell_type": "code",
   "execution_count": 112,
   "metadata": {},
   "outputs": [],
   "source": [
    "#outra instância\n",
    "teste2 = Scrap(lei='lei 1.060', n=7)"
   ]
  },
  {
   "cell_type": "code",
   "execution_count": 113,
   "metadata": {},
   "outputs": [
    {
     "data": {
      "text/plain": [
       "'Estabelece normas para a concessão de assistência judiciária aos necessitados. '"
      ]
     },
     "execution_count": 113,
     "metadata": {},
     "output_type": "execute_result"
    }
   ],
   "source": [
    "teste2.title()"
   ]
  },
  {
   "cell_type": "code",
   "execution_count": 114,
   "metadata": {},
   "outputs": [
    {
     "data": {
      "text/plain": [
       "'Art. 7ºA parte contrária poderá, em qualquer fase da lide, requerer a revogação dos benefícios de assistência, desde que prove a inexistência ou o desaparecimento dos requisitos essenciais à sua concessão. '"
      ]
     },
     "execution_count": 114,
     "metadata": {},
     "output_type": "execute_result"
    }
   ],
   "source": [
    "teste2.article()"
   ]
  },
  {
   "cell_type": "code",
   "execution_count": 115,
   "metadata": {},
   "outputs": [
    {
     "data": {
      "text/plain": [
       "('Art. 7ºA parte contrária poderá, em qualquer fase da lide, requerer a revogação dos benefícios de assistência, desde que prove a inexistência ou o desaparecimento dos requisitos essenciais à sua concessão. ',\n",
       " ['Tal requerimento não suspenderá o curso da ação e se processará pela forma estabelecida no final do artigo 6º desta Lei. '])"
      ]
     },
     "execution_count": 115,
     "metadata": {},
     "output_type": "execute_result"
    }
   ],
   "source": [
    "teste2.paragraph()"
   ]
  },
  {
   "cell_type": "code",
   "execution_count": 116,
   "metadata": {},
   "outputs": [
    {
     "data": {
      "text/plain": [
       "'O artigo requisitado não possui incisos!'"
      ]
     },
     "execution_count": 116,
     "metadata": {},
     "output_type": "execute_result"
    }
   ],
   "source": [
    "teste2.inciso()"
   ]
  },
  {
   "cell_type": "code",
   "execution_count": 117,
   "metadata": {},
   "outputs": [],
   "source": [
    "#outra instância\n",
    "teste3 = Scrap(lei ='lei 9503', n=6)"
   ]
  },
  {
   "cell_type": "code",
   "execution_count": 118,
   "metadata": {},
   "outputs": [
    {
     "data": {
      "text/plain": [
       "'Institui o Código de Trânsito Brasileiro. '"
      ]
     },
     "execution_count": 118,
     "metadata": {},
     "output_type": "execute_result"
    }
   ],
   "source": [
    "teste3.title()"
   ]
  },
  {
   "cell_type": "code",
   "execution_count": 119,
   "metadata": {},
   "outputs": [
    {
     "data": {
      "text/plain": [
       "'Art. 6º. São objetivos básicos do Sistema Nacional de Trânsito: '"
      ]
     },
     "execution_count": 119,
     "metadata": {},
     "output_type": "execute_result"
    }
   ],
   "source": [
    "teste3.article()"
   ]
  },
  {
   "cell_type": "code",
   "execution_count": 120,
   "metadata": {},
   "outputs": [
    {
     "data": {
      "text/plain": [
       "'O artigo requisitado não possui parágrafos.'"
      ]
     },
     "execution_count": 120,
     "metadata": {},
     "output_type": "execute_result"
    }
   ],
   "source": [
    "teste3.paragraph()"
   ]
  },
  {
   "cell_type": "code",
   "execution_count": 121,
   "metadata": {},
   "outputs": [
    {
     "data": {
      "text/plain": [
       "['I - estabelecer diretrizes da Política Nacional de Trânsito, com vistas à segurança, à fluidez, ao conforto, à defesa ambiental e à educação para o trânsito, e fiscalizar seu cumprimento; ',\n",
       " 'II - fixar, mediante normas e procedimentos, a padronização de critérios técnicos, financeiros e administrativos para a execução das atividades de trânsito; ',\n",
       " 'III - estabelecer a sistemática de fluxos permanentes de informações entre os seus diversos órgãos e entidades, a fim de facilitar o processo decisório e a integração do Sistema. ']"
      ]
     },
     "execution_count": 121,
     "metadata": {},
     "output_type": "execute_result"
    }
   ],
   "source": [
    "teste3.inciso()"
   ]
  },
  {
   "cell_type": "code",
   "execution_count": 145,
   "metadata": {},
   "outputs": [],
   "source": [
    "#outra instancia\n",
    "teste4 = Scrap(lei ='lei 9503', n=7)"
   ]
  },
  {
   "cell_type": "code",
   "execution_count": 146,
   "metadata": {},
   "outputs": [
    {
     "data": {
      "text/plain": [
       "'Institui o Código de Trânsito Brasileiro. '"
      ]
     },
     "execution_count": 146,
     "metadata": {},
     "output_type": "execute_result"
    }
   ],
   "source": [
    "teste4.title()"
   ]
  },
  {
   "cell_type": "code",
   "execution_count": 147,
   "metadata": {},
   "outputs": [
    {
     "data": {
      "text/plain": [
       "'Art. 7º. Compõem o Sistema Nacional de Trânsito os seguintes órgãos e entidades: '"
      ]
     },
     "execution_count": 147,
     "metadata": {},
     "output_type": "execute_result"
    }
   ],
   "source": [
    "teste4.article()"
   ]
  },
  {
   "cell_type": "code",
   "execution_count": 148,
   "metadata": {},
   "outputs": [
    {
     "data": {
      "text/plain": [
       "'O artigo requisitado não possui parágrafos.'"
      ]
     },
     "execution_count": 148,
     "metadata": {},
     "output_type": "execute_result"
    }
   ],
   "source": [
    "teste4.paragraph()"
   ]
  },
  {
   "cell_type": "code",
   "execution_count": 149,
   "metadata": {},
   "outputs": [
    {
     "data": {
      "text/plain": [
       "['I - o Conselho Nacional de Trânsito - CONTRAN, coordenador do Sistema e órgão máximo normativo e consultivo; ',\n",
       " 'II - os Conselhos Estaduais de Trânsito - CETRAN e o Conselho de Trânsito do Distrito Federal - CONTRANDIFE, órgãos normativos, consultivos e coordenadores; ',\n",
       " 'III - os órgãos e entidades executivos de trânsito da União, dos Estados, do Distrito Federal e dos Municípios; ',\n",
       " 'IV - os órgãos e entidades executivos rodoviários da União, dos Estados, do Distrito Federal e dos Municípios; ',\n",
       " 'V - a Policia Rodoviária Federal; ',\n",
       " ' VI - as Polícias Militares dos Estados e do Distrito Federal; e ',\n",
       " 'VII - as Juntas Administrativas de Recursos de Infrações - JARI. ']"
      ]
     },
     "execution_count": 149,
     "metadata": {},
     "output_type": "execute_result"
    }
   ],
   "source": [
    "teste4.inciso()"
   ]
  },
  {
   "cell_type": "code",
   "execution_count": 127,
   "metadata": {},
   "outputs": [],
   "source": [
    "teste5 = Scrap(lei = 'lei 1060', n = 13)"
   ]
  },
  {
   "cell_type": "code",
   "execution_count": 128,
   "metadata": {},
   "outputs": [
    {
     "data": {
      "text/plain": [
       "'Aprova o texto do Decreto-Lei nº 1104, de 30 de abril de 1970, que altera o Decreto-Lei nº 1060, de 21 de outubro de 1969.'"
      ]
     },
     "execution_count": 128,
     "metadata": {},
     "output_type": "execute_result"
    }
   ],
   "source": [
    "teste5.title()"
   ]
  },
  {
   "cell_type": "code",
   "execution_count": 129,
   "metadata": {},
   "outputs": [],
   "source": [
    "teste5.article()"
   ]
  },
  {
   "cell_type": "code",
   "execution_count": 130,
   "metadata": {},
   "outputs": [
    {
     "ename": "AttributeError",
     "evalue": "'Scrap' object has no attribute 'i2'",
     "output_type": "error",
     "traceback": [
      "\u001b[0;31m---------------------------------------------------------------------------\u001b[0m",
      "\u001b[0;31mAttributeError\u001b[0m                            Traceback (most recent call last)",
      "\u001b[0;32m<ipython-input-130-51ff7fb441f6>\u001b[0m in \u001b[0;36m<module>\u001b[0;34m\u001b[0m\n\u001b[0;32m----> 1\u001b[0;31m \u001b[0mteste5\u001b[0m\u001b[0;34m.\u001b[0m\u001b[0mparagraph\u001b[0m\u001b[0;34m(\u001b[0m\u001b[0;34m)\u001b[0m\u001b[0;34m\u001b[0m\u001b[0;34m\u001b[0m\u001b[0m\n\u001b[0m",
      "\u001b[0;32m<ipython-input-106-6bb0ed49bc06>\u001b[0m in \u001b[0;36mparagraph\u001b[0;34m(self)\u001b[0m\n\u001b[1;32m     61\u001b[0m         \u001b[0;34m\"\"\"Returns every laws paragraph of the inserted article or the requested paragraph\"\"\"\u001b[0m\u001b[0;34m\u001b[0m\u001b[0;34m\u001b[0m\u001b[0m\n\u001b[1;32m     62\u001b[0m         \u001b[0mself\u001b[0m\u001b[0;34m.\u001b[0m\u001b[0marticle\u001b[0m\u001b[0;34m(\u001b[0m\u001b[0;34m)\u001b[0m\u001b[0;34m\u001b[0m\u001b[0;34m\u001b[0m\u001b[0m\n\u001b[0;32m---> 63\u001b[0;31m         \u001b[0;32mfor\u001b[0m \u001b[0mi\u001b[0m \u001b[0;32min\u001b[0m \u001b[0mrange\u001b[0m\u001b[0;34m(\u001b[0m\u001b[0mself\u001b[0m\u001b[0;34m.\u001b[0m\u001b[0mi2\u001b[0m\u001b[0;34m,\u001b[0m\u001b[0mlen\u001b[0m\u001b[0;34m(\u001b[0m\u001b[0mself\u001b[0m\u001b[0;34m.\u001b[0m\u001b[0mtexto\u001b[0m\u001b[0;34m)\u001b[0m\u001b[0;34m)\u001b[0m\u001b[0;34m:\u001b[0m\u001b[0;34m\u001b[0m\u001b[0;34m\u001b[0m\u001b[0m\n\u001b[0m\u001b[1;32m     64\u001b[0m             \u001b[0;32mif\u001b[0m \u001b[0;34m''\u001b[0m \u001b[0;32min\u001b[0m \u001b[0mself\u001b[0m\u001b[0;34m.\u001b[0m\u001b[0mtexto\u001b[0m\u001b[0;34m:\u001b[0m\u001b[0;34m\u001b[0m\u001b[0;34m\u001b[0m\u001b[0m\n\u001b[1;32m     65\u001b[0m                 \u001b[0mself\u001b[0m\u001b[0;34m.\u001b[0m\u001b[0mtexto\u001b[0m\u001b[0;34m.\u001b[0m\u001b[0mremove\u001b[0m\u001b[0;34m(\u001b[0m\u001b[0;34m''\u001b[0m\u001b[0;34m)\u001b[0m\u001b[0;34m\u001b[0m\u001b[0;34m\u001b[0m\u001b[0m\n",
      "\u001b[0;31mAttributeError\u001b[0m: 'Scrap' object has no attribute 'i2'"
     ]
    }
   ],
   "source": [
    "teste5.paragraph()"
   ]
  },
  {
   "cell_type": "code",
   "execution_count": null,
   "metadata": {},
   "outputs": [],
   "source": []
  }
 ],
 "metadata": {
  "kernelspec": {
   "display_name": "Python 3",
   "language": "python",
   "name": "python3"
  },
  "language_info": {
   "codemirror_mode": {
    "name": "ipython",
    "version": 3
   },
   "file_extension": ".py",
   "mimetype": "text/x-python",
   "name": "python",
   "nbconvert_exporter": "python",
   "pygments_lexer": "ipython3",
   "version": "3.8.3"
  }
 },
 "nbformat": 4,
 "nbformat_minor": 4
}
