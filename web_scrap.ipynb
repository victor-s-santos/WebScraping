{
 "cells": [
  {
   "cell_type": "code",
   "execution_count": 78,
   "metadata": {},
   "outputs": [],
   "source": [
    "#Defining the webscrapper class\n",
    "import time\n",
    "from bs4 import BeautifulSoup\n",
    "from selenium import webdriver\n",
    "from selenium.webdriver.firefox.options import Options\n",
    "#lei=law, n=article number, p=paragraph number, inciso=item, alinea=point\n",
    "class Scrap:\n",
    "    def __init__(self, lei, n=None, p=None, inciso=None, alinea=None):\n",
    "        \"\"\"Initializing the driver\"\"\"\n",
    "        self.lei = lei\n",
    "        self.n = n\n",
    "        self.p = p\n",
    "        self.inciso = inciso\n",
    "        self.alinea = alinea\n",
    "        \n",
    "        self.m = 0\n",
    "        self.a = 0\n",
    "        self.an = 0\n",
    "        self.at = 0\n",
    "        self.inc = 0\n",
    "        self.art = str('Art. ' + str(self.n))\n",
    "        self.lista_paragrafo = []\n",
    "        self.lista_inciso = []\n",
    "        self.lista_alinea = []\n",
    "        \n",
    "        url = 'https://www2.camara.leg.br/busca/?q=' + lei\n",
    "        option = Options()\n",
    "        option.headless = True\n",
    "        driver = webdriver.Firefox(options=option)\n",
    "        driver.get(url)\n",
    "        driver.find_element_by_xpath(\"//div[@id='resultadoBusca']//ul//li//span//a\").click()\n",
    "        driver.find_element_by_xpath(\"//div[@class='sessao']//a\").click()\n",
    "        element = driver.find_element_by_xpath(\"//div[@class='texto']\")\n",
    "        self.titulo = driver.find_element_by_class_name('ementa')\n",
    "        html_content = element.get_attribute('outerHTML')\n",
    "        self.titulo = self.titulo.get_attribute('outerHTML')\n",
    "        #time.sleep(2)\n",
    "        driver.quit()\n",
    "\n",
    "        self.soup = BeautifulSoup(html_content, 'lxml')\n",
    "        self.texto = self.soup.find_all(text=True)\n",
    "\n",
    "        self.titulo = BeautifulSoup(self.titulo, 'lxml')\n",
    "        self.titulo = self.titulo.find_all(text=True)\n",
    "        \n",
    "    def title(self):\n",
    "        \"\"\"Returns the law title\"\"\" \n",
    "        for i in range(len(self.titulo)):\n",
    "            self.titulo[i] = self.titulo[i].replace('\\n', '')\n",
    "            self.titulo[i] = self.titulo[i].replace('\\t', '')\n",
    "        for i in range(len(self.titulo)):\n",
    "            if '' in self.titulo:\n",
    "                self.titulo.remove('')\n",
    "            return(self.titulo[0])\n",
    "   \n",
    "    def article(self):\n",
    "        for i in range(len(self.texto)):\n",
    "            if (f'Art. {int(self.n)}') in self.texto[i]:\n",
    "                self.texto[i] = self.texto[i].replace('\\n', '')\n",
    "                self.texto[i] = self.texto[i].replace('\\t', '')\n",
    "                self.texto[i] = self.texto[i].replace('\\xa0', '')\n",
    "                self.i2 = i\n",
    "                return(self.texto[i])\n",
    "\n",
    "    def paragraph(self):\n",
    "        \"\"\"Returns every laws paragraph of the inserted article\"\"\"\n",
    "        for i in range(self.i2,len(self.texto)):\n",
    "            if '' in self.texto:\n",
    "                self.texto.remove('')\n",
    "        \n",
    "\n",
    "        for i in range(self.i2, len(self.texto)):\n",
    "            if (f'Art. {int(self.n) +1}') in self.texto[i]:\n",
    "                break\n",
    "\n",
    "            if '§' in self.texto[i]:\n",
    "                self.texto[i] = self.texto[i].replace('\\n', '')\n",
    "                self.texto[i] = self.texto[i].replace('\\t', '')\n",
    "                self.texto[i] = self.texto[i].replace('\\xa0', '')\n",
    "                self.lista_paragrafo.append(self.texto[i])\n",
    "                \n",
    "                \n",
    "        return(self.lista_paragrafo)"
   ]
  },
  {
   "cell_type": "code",
   "execution_count": 79,
   "metadata": {},
   "outputs": [],
   "source": [
    "teste = Scrap(lei='lei 1.060', n=5)"
   ]
  },
  {
   "cell_type": "code",
   "execution_count": 80,
   "metadata": {},
   "outputs": [
    {
     "data": {
      "text/plain": [
       "'Estabelece normas para a concessão de assistência judiciária aos necessitados. '"
      ]
     },
     "execution_count": 80,
     "metadata": {},
     "output_type": "execute_result"
    }
   ],
   "source": [
    "teste.title()"
   ]
  },
  {
   "cell_type": "code",
   "execution_count": 81,
   "metadata": {},
   "outputs": [
    {
     "data": {
      "text/plain": [
       "'Art. 5ºO Juiz, se não tiver fundadas razões para indeferir o pedido, deverá julgá-lo de plano, motivando ou não o deferimento dentro do prazo de setenta e duas horas. '"
      ]
     },
     "execution_count": 81,
     "metadata": {},
     "output_type": "execute_result"
    }
   ],
   "source": [
    "teste.article()"
   ]
  },
  {
   "cell_type": "code",
   "execution_count": 82,
   "metadata": {},
   "outputs": [
    {
     "data": {
      "text/plain": [
       "[' § 1º Deferido o pedido, o Juiz determinará que o serviço de assistência judiciária, organizado e mantido pelo Estado, onde houver, indique, no prazo de dois dias úteis o advogado que patrocinará a causa do necessitado. ',\n",
       " ' § 2º Se no Estado não houver serviço de assistência judiciária, por êle mantido, caberá a indicação à Ordem dos Advogados, por suas Seções Estaduais, ou Subseções Municipais. ',\n",
       " ' § 3º Nos municípios em que não existirem Subseções da Ordem dos Advogados do Brasil, o próprio Juiz fará a nomeação do advogado que patrocinará a causa do necessitado. ',\n",
       " ' § 4º Será preferido para a defesa da causa o advogado que o interessado indicar e que declare aceitar o encargo. ']"
      ]
     },
     "execution_count": 82,
     "metadata": {},
     "output_type": "execute_result"
    }
   ],
   "source": [
    "teste.paragraph()"
   ]
  }
 ],
 "metadata": {
  "kernelspec": {
   "display_name": "Python 3",
   "language": "python",
   "name": "python3"
  },
  "language_info": {
   "codemirror_mode": {
    "name": "ipython",
    "version": 3
   },
   "file_extension": ".py",
   "mimetype": "text/x-python",
   "name": "python",
   "nbconvert_exporter": "python",
   "pygments_lexer": "ipython3",
   "version": "3.8.3"
  }
 },
 "nbformat": 4,
 "nbformat_minor": 4
}
