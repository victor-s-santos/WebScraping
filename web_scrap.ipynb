{
 "cells": [
  {
   "cell_type": "code",
   "execution_count": 74,
   "metadata": {},
   "outputs": [],
   "source": [
    "#Defining the webscrapper class\n",
    "import time\n",
    "from bs4 import BeautifulSoup\n",
    "from selenium import webdriver\n",
    "from selenium.webdriver.firefox.options import Options\n",
    "\n",
    "class Scrap:\n",
    "    def __init__(self, lei, n=None, inciso=None, alinea=None):\n",
    "        \"\"\"Initializing the driver\"\"\"\n",
    "        self.lei = lei\n",
    "        self.n = n\n",
    "        self.inciso = inciso\n",
    "        self.alinea = alinea\n",
    "        \n",
    "        self.m = 0\n",
    "        self.a = 0\n",
    "        self.an = 0\n",
    "        self.at = 0\n",
    "        self.inc = 0\n",
    "        self.art = str('Art. ' + str(self.n))\n",
    "        self.lista_paragrafo = []\n",
    "        self.lista_inciso = []\n",
    "        self.lista_alinea = []\n",
    "        \n",
    "        url = 'https://www2.camara.leg.br/busca/?q=' + lei\n",
    "        option = Options()\n",
    "        option.headless = True\n",
    "        driver = webdriver.Firefox(options=option)\n",
    "        driver.get(url)\n",
    "        driver.find_element_by_xpath(\"//div[@id='resultadoBusca']//ul//li//span//a\").click()\n",
    "        driver.find_element_by_xpath(\"//div[@class='sessao']//a\").click()\n",
    "        element = driver.find_element_by_xpath(\"//div[@class='texto']\")\n",
    "        self.titulo = driver.find_element_by_class_name('ementa')\n",
    "        html_content = element.get_attribute('outerHTML')\n",
    "        self.titulo = self.titulo.get_attribute('outerHTML')\n",
    "        #time.sleep(2)\n",
    "        driver.quit()\n",
    "\n",
    "        self.soup = BeautifulSoup(html_content, 'lxml')\n",
    "        self.texto = self.soup.find_all(text=True)\n",
    "\n",
    "        self.titulo = BeautifulSoup(self.titulo, 'lxml')\n",
    "        self.titulo = self.titulo.find_all(text=True)\n",
    "        \n",
    "    def title(self):\n",
    "        \"\"\"Returns the law title\"\"\" \n",
    "        for i in range(len(self.titulo)):\n",
    "            self.titulo[i] = self.titulo[i].replace('\\n', '')\n",
    "            self.titulo[i] = self.titulo[i].replace('\\t', '')\n",
    "        for i in range(len(self.titulo)):\n",
    "            if '' in self.titulo:\n",
    "                self.titulo.remove('')\n",
    "            return(self.titulo[0])\n",
    "    \n",
    "    def paragraph(self):\n",
    "        \"\"\"Returns every laws paragraph\"\"\"\n",
    "        for i in range(len(self.texto)):\n",
    "            self.texto[i] = self.texto[i].replace('\\n', '')\n",
    "            self.texto[i] = self.texto[i].replace('\\t', '')\n",
    "            self.texto[i] = self.texto[i].replace('\\xa0', '')\n",
    "        for i in range(len(self.texto)):\n",
    "            if '' in self.texto:\n",
    "                self.texto.remove('')\n",
    "\n",
    "        for i in range(len(self.texto)):\n",
    "            #caso do inciso vir primeiro\n",
    "            if self.inciso == self.texto[i].split() and self.inc == 0:\n",
    "                for j in range(len(self.texto)):\n",
    "                    self.lista_inciso.append(self.texto[j])\n",
    "                    self.inc += 1\n",
    "\n",
    "            if '§' in self.texto[i]:\n",
    "                self.lista_paragrafo.append(self.texto[i])\n",
    "\n",
    "                \n",
    "            if self.a != 0 and self.an == 0 and self.alinea != '' and self.alinea in self.texto[i]:\n",
    "                self.lista_alinea.append('Alinea '+ self.alinea + self.texto[i+1])\n",
    "                self.an += 1\n",
    "                \n",
    "\n",
    "            if 'CAPÍTULO' in self.texto[i]:\n",
    "                break\n",
    "\n",
    "            if self.art in self.texto[i]:\n",
    "                self.lista_paragrafo.append(self.texto[i])\n",
    "                self.m += 1\n",
    "            if self.m != 0 and '§' in self.texto[i]:\n",
    "                self.lista_paragrafo.append(self.texto[i])\n",
    "        return(self.lista_paragrafo)"
   ]
  },
  {
   "cell_type": "code",
   "execution_count": 78,
   "metadata": {},
   "outputs": [],
   "source": [
    "teste = Scrap(lei='lei 1.060', n=4)"
   ]
  },
  {
   "cell_type": "code",
   "execution_count": 79,
   "metadata": {},
   "outputs": [
    {
     "data": {
      "text/plain": [
       "'Estabelece normas para a concessão de assistência judiciária aos necessitados. '"
      ]
     },
     "execution_count": 79,
     "metadata": {},
     "output_type": "execute_result"
    }
   ],
   "source": [
    "teste.title()"
   ]
  },
  {
   "cell_type": "code",
   "execution_count": 80,
   "metadata": {},
   "outputs": [
    {
     "data": {
      "text/plain": [
       "['Art. 4ºA parte, que pretender gozar os benefícios da assistência judiciária, requererá ao Juiz competente lhos conceda, mencionando, na petição, o rendimento ou vencimento que percebe e os encargos próprios e os da família. ',\n",
       " ' § 1º A petição será instruída por um atestado de que conste ser o requerente necessitado, não podendo pagar as despesas do processo. Êste documento será expedido, isento de selos e emolumentos, pela autoridade policial ou pelo Prefeito municipal. ',\n",
       " ' § 1º A petição será instruída por um atestado de que conste ser o requerente necessitado, não podendo pagar as despesas do processo. Êste documento será expedido, isento de selos e emolumentos, pela autoridade policial ou pelo Prefeito municipal. ',\n",
       " ' § 2º Nas capitais dos Estados e no Distrito Federal, o atestado da competência do Prefeito poderá ser expedido por autoridade expressamente designada pelo mesmo. ',\n",
       " ' § 2º Nas capitais dos Estados e no Distrito Federal, o atestado da competência do Prefeito poderá ser expedido por autoridade expressamente designada pelo mesmo. ',\n",
       " ' § 1º Deferido o pedido, o Juiz determinará que o serviço de assistência judiciária, organizado e mantido pelo Estado, onde houver, indique, no prazo de dois dias úteis o advogado que patrocinará a causa do necessitado. ',\n",
       " ' § 1º Deferido o pedido, o Juiz determinará que o serviço de assistência judiciária, organizado e mantido pelo Estado, onde houver, indique, no prazo de dois dias úteis o advogado que patrocinará a causa do necessitado. ',\n",
       " ' § 2º Se no Estado não houver serviço de assistência judiciária, por êle mantido, caberá a indicação à Ordem dos Advogados, por suas Seções Estaduais, ou Subseções Municipais. ',\n",
       " ' § 2º Se no Estado não houver serviço de assistência judiciária, por êle mantido, caberá a indicação à Ordem dos Advogados, por suas Seções Estaduais, ou Subseções Municipais. ',\n",
       " ' § 3º Nos municípios em que não existirem Subseções da Ordem dos Advogados do Brasil, o próprio Juiz fará a nomeação do advogado que patrocinará a causa do necessitado. ',\n",
       " ' § 3º Nos municípios em que não existirem Subseções da Ordem dos Advogados do Brasil, o próprio Juiz fará a nomeação do advogado que patrocinará a causa do necessitado. ',\n",
       " ' § 4º Será preferido para a defesa da causa o advogado que o interessado indicar e que declare aceitar o encargo. ',\n",
       " ' § 4º Será preferido para a defesa da causa o advogado que o interessado indicar e que declare aceitar o encargo. ',\n",
       " ' § 1º Os honorários do advogado serão arbitrados pelo Juiz até o máximo de 15% (quinze por cento) sôbre o líquido apurado na execução da sentença.',\n",
       " ' § 1º Os honorários do advogado serão arbitrados pelo Juiz até o máximo de 15% (quinze por cento) sôbre o líquido apurado na execução da sentença.',\n",
       " ' § 2º A parte vencida poderá acionar a vencedora para rehaver as despesas do processo, inclusive honorários do advogado, desde que prove ter a última perdido a condição legal de necessitada. ',\n",
       " ' § 2º A parte vencida poderá acionar a vencedora para rehaver as despesas do processo, inclusive honorários do advogado, desde que prove ter a última perdido a condição legal de necessitada. ']"
      ]
     },
     "execution_count": 80,
     "metadata": {},
     "output_type": "execute_result"
    }
   ],
   "source": [
    "teste.paragraph()"
   ]
  }
 ],
 "metadata": {
  "kernelspec": {
   "display_name": "Python 3",
   "language": "python",
   "name": "python3"
  },
  "language_info": {
   "codemirror_mode": {
    "name": "ipython",
    "version": 3
   },
   "file_extension": ".py",
   "mimetype": "text/x-python",
   "name": "python",
   "nbconvert_exporter": "python",
   "pygments_lexer": "ipython3",
   "version": "3.8.3"
  }
 },
 "nbformat": 4,
 "nbformat_minor": 4
}
