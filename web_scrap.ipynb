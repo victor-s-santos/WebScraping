{
 "cells": [
  {
   "cell_type": "code",
   "execution_count": 99,
   "metadata": {},
   "outputs": [],
   "source": [
    "#Defining the webscrapper class\n",
    "import time\n",
    "from bs4 import BeautifulSoup\n",
    "from selenium import webdriver\n",
    "from selenium.webdriver.firefox.options import Options\n",
    "#lei=law, n=article number, p=paragraph number, inciso=item, alinea=point\n",
    "class Scrap:\n",
    "    def __init__(self, lei, n=None, p=None, inciso=None, alinea=None):\n",
    "        \"\"\"Initializing the driver\"\"\"\n",
    "        self.lei = lei\n",
    "        self.n = n\n",
    "        self.p = p\n",
    "        self.inciso1 = inciso\n",
    "        self.alinea = alinea\n",
    "        \n",
    "        self.m = 0\n",
    "        self.a = 0\n",
    "        self.an = 0\n",
    "        self.at = 0\n",
    "        self.inc = 0\n",
    "        self.art = str('Art. ' + str(self.n))\n",
    "        self.lista_paragrafo = []\n",
    "        self.lista_inciso = []\n",
    "        self.lista_alinea = []\n",
    "        \n",
    "        url = 'https://www2.camara.leg.br/busca/?q=' + lei\n",
    "        option = Options()\n",
    "        option.headless = True\n",
    "        driver = webdriver.Firefox(options=option)\n",
    "        driver.get(url)\n",
    "        driver.find_element_by_xpath(\"//div[@id='resultadoBusca']//ul//li//span//a\").click()\n",
    "        driver.find_element_by_xpath(\"//div[@class='sessao']//a\").click()\n",
    "        element = driver.find_element_by_xpath(\"//div[@class='texto']\")\n",
    "        self.titulo = driver.find_element_by_class_name('ementa')\n",
    "        html_content = element.get_attribute('outerHTML')\n",
    "        self.titulo = self.titulo.get_attribute('outerHTML')\n",
    "        #time.sleep(2)\n",
    "        driver.quit()\n",
    "\n",
    "        self.soup = BeautifulSoup(html_content, 'lxml')\n",
    "        self.texto = self.soup.find_all(text=True)\n",
    "\n",
    "        self.titulo = BeautifulSoup(self.titulo, 'lxml')\n",
    "        self.titulo = self.titulo.find_all(text=True)\n",
    "        \n",
    "    def title(self):\n",
    "        \"\"\"Returns the law title\"\"\" \n",
    "        for i in range(len(self.titulo)):\n",
    "            self.titulo[i] = self.titulo[i].replace('\\n', '')\n",
    "            self.titulo[i] = self.titulo[i].replace('\\t', '')\n",
    "            if '' in self.titulo:\n",
    "                self.titulo.remove('')\n",
    "            return(self.titulo[0])\n",
    "   \n",
    "    def article(self):\n",
    "        for i in range(len(self.texto)):\n",
    "            if (f'Art. {int(self.n)}') in self.texto[i]:\n",
    "                self.texto[i] = self.texto[i].replace('\\n', '')\n",
    "                self.texto[i] = self.texto[i].replace('\\t', '')\n",
    "                self.texto[i] = self.texto[i].replace('\\xa0', '')\n",
    "                self.i2 = i\n",
    "                return(self.texto[i])\n",
    "\n",
    "    def paragraph(self):\n",
    "        self.article()\n",
    "        \"\"\"Returns every laws paragraph of the inserted article or the requested paragraph\"\"\"\n",
    "        for i in range(self.i2,len(self.texto)):\n",
    "            if '' in self.texto:\n",
    "                self.texto.remove('')\n",
    "        \n",
    "        for i in range(self.i2, len(self.texto)):\n",
    "            if (f'Art. {int(self.n) +1}') in self.texto[i]:\n",
    "                break\n",
    "\n",
    "            if '§' in self.texto[i]:\n",
    "                self.texto[i] = self.texto[i].replace('\\n', '')\n",
    "                self.texto[i] = self.texto[i].replace('\\t', '')\n",
    "                self.texto[i] = self.texto[i].replace('\\xa0', '')\n",
    "                self.lista_paragrafo.append(self.texto[i])\n",
    "                \n",
    "        if len(self.lista_paragrafo) == 0:\n",
    "            return('O artigo requisitado não possui parágrafos.')\n",
    "        \n",
    "        if self.p is not None:\n",
    "            return(self.article(),self.lista_paragrafo[(self.p)-1])\n",
    "        else:\n",
    "            return(self.article(),self.lista_paragrafo)\n",
    "    \n",
    "    \n",
    "    def inciso(self):\n",
    "        \"\"\"Returns the requested item from the article / law, \n",
    "        if no item was requested the entire list is returned\"\"\"\n",
    "        if self.inciso1 is not None:\n",
    "            for i in range(self.i2, len(self.texto)):\n",
    "                if (f'Art. {int(self.n) +1}') in self.texto[i]:\n",
    "                    break\n",
    "                if (str(self.inciso1)) in self.texto[i]:\n",
    "                    self.texto[i] = self.texto[i].replace('\\xa0', '')\n",
    "                    return(self.texto[i])\n",
    "                return('O inciso requisitado não foi encontrado!')\n",
    "        else:\n",
    "            for i in range(self.i2, len(self.texto)):\n",
    "                if (f'Art. {int(self.n) +1}') in self.texto[i]:\n",
    "                    break\n",
    "                if ('I' or 'II' or 'III' or 'IV' or 'V'\n",
    "                   or 'VI' or 'VII' or 'VIII' or 'IX' or 'X') in self.texto[i]:\n",
    "                    self.texto[i] = self.texto[i].replace('\\xa0', '')\n",
    "                    self.lista_inciso.append(self.texto[i])\n",
    "            if(len(self.lista_inciso) == 0):\n",
    "                return('O artigo requisitado não possui incisos!')\n",
    "            else:\n",
    "                return(self.lista_inciso)            "
   ]
  },
  {
   "cell_type": "code",
   "execution_count": 88,
   "metadata": {},
   "outputs": [],
   "source": [
    "teste = Scrap(lei='lei 1.060', n=3, p=1)"
   ]
  },
  {
   "cell_type": "code",
   "execution_count": 89,
   "metadata": {},
   "outputs": [
    {
     "data": {
      "text/plain": [
       "'Estabelece normas para a concessão de assistência judiciária aos necessitados. '"
      ]
     },
     "execution_count": 89,
     "metadata": {},
     "output_type": "execute_result"
    }
   ],
   "source": [
    "teste.title()"
   ]
  },
  {
   "cell_type": "code",
   "execution_count": 90,
   "metadata": {},
   "outputs": [
    {
     "data": {
      "text/plain": [
       "'Art. 3ºA assistência judiciária compreende as seguintes isenções: '"
      ]
     },
     "execution_count": 90,
     "metadata": {},
     "output_type": "execute_result"
    }
   ],
   "source": [
    "teste.article()"
   ]
  },
  {
   "cell_type": "code",
   "execution_count": 91,
   "metadata": {},
   "outputs": [
    {
     "data": {
      "text/plain": [
       "'O artigo requisitado não possui parágrafos.'"
      ]
     },
     "execution_count": 91,
     "metadata": {},
     "output_type": "execute_result"
    }
   ],
   "source": [
    "teste.paragraph()"
   ]
  },
  {
   "cell_type": "code",
   "execution_count": 92,
   "metadata": {},
   "outputs": [
    {
     "data": {
      "text/plain": [
       "[' I - das taxas judiciárias e dos selos; ',\n",
       " ' II - dos emolumentos e custas devidos aos Juízes, órgãos do Ministério Público e serventuários da Justiça; ',\n",
       " ' III - das despesas com as publicações indispensáveis no jornal encarregado da divulgação dos atos oficiais; ',\n",
       " ' IV - das indenizações devidas às testemunhas que, quando empregados, receberão do empregador salário integral, como se em serviço estivessem, ressalvado o direito regressivo contra o poder público federal, no Distrito Federal e nos Territórios; ou contra o poder público estadual, nos Estados; ']"
      ]
     },
     "execution_count": 92,
     "metadata": {},
     "output_type": "execute_result"
    }
   ],
   "source": [
    "teste.inciso()"
   ]
  },
  {
   "cell_type": "code",
   "execution_count": 105,
   "metadata": {},
   "outputs": [],
   "source": [
    "#outra classe\n",
    "teste2 = Scrap(lei='lei 1.060', n=5)"
   ]
  },
  {
   "cell_type": "code",
   "execution_count": 107,
   "metadata": {},
   "outputs": [
    {
     "data": {
      "text/plain": [
       "'Estabelece normas para a concessão de assistência judiciária aos necessitados. '"
      ]
     },
     "execution_count": 107,
     "metadata": {},
     "output_type": "execute_result"
    }
   ],
   "source": [
    "teste2.title()"
   ]
  },
  {
   "cell_type": "code",
   "execution_count": 108,
   "metadata": {},
   "outputs": [
    {
     "data": {
      "text/plain": [
       "'Art. 5ºO Juiz, se não tiver fundadas razões para indeferir o pedido, deverá julgá-lo de plano, motivando ou não o deferimento dentro do prazo de setenta e duas horas. '"
      ]
     },
     "execution_count": 108,
     "metadata": {},
     "output_type": "execute_result"
    }
   ],
   "source": [
    "teste2.article()"
   ]
  },
  {
   "cell_type": "code",
   "execution_count": 109,
   "metadata": {},
   "outputs": [
    {
     "data": {
      "text/plain": [
       "('Art. 5ºO Juiz, se não tiver fundadas razões para indeferir o pedido, deverá julgá-lo de plano, motivando ou não o deferimento dentro do prazo de setenta e duas horas. ',\n",
       " [' § 1º Deferido o pedido, o Juiz determinará que o serviço de assistência judiciária, organizado e mantido pelo Estado, onde houver, indique, no prazo de dois dias úteis o advogado que patrocinará a causa do necessitado. ',\n",
       "  ' § 2º Se no Estado não houver serviço de assistência judiciária, por êle mantido, caberá a indicação à Ordem dos Advogados, por suas Seções Estaduais, ou Subseções Municipais. ',\n",
       "  ' § 3º Nos municípios em que não existirem Subseções da Ordem dos Advogados do Brasil, o próprio Juiz fará a nomeação do advogado que patrocinará a causa do necessitado. ',\n",
       "  ' § 4º Será preferido para a defesa da causa o advogado que o interessado indicar e que declare aceitar o encargo. '])"
      ]
     },
     "execution_count": 109,
     "metadata": {},
     "output_type": "execute_result"
    }
   ],
   "source": [
    "teste2.paragraph()"
   ]
  },
  {
   "cell_type": "code",
   "execution_count": 110,
   "metadata": {},
   "outputs": [
    {
     "data": {
      "text/plain": [
       "'O artigo requisitado não possui incisos!'"
      ]
     },
     "execution_count": 110,
     "metadata": {},
     "output_type": "execute_result"
    }
   ],
   "source": [
    "teste2.inciso()"
   ]
  },
  {
   "cell_type": "code",
   "execution_count": null,
   "metadata": {},
   "outputs": [],
   "source": [
    "\"\"\"O programa funciona bem para os casos em que os incisos aparecem após o parágrafo, \n",
    "ao invés do título do artigo\"\"\""
   ]
  },
  {
   "cell_type": "code",
   "execution_count": 37,
   "metadata": {},
   "outputs": [],
   "source": [
    "teste3 = Scrap(lei ='lei 9503', n=6)"
   ]
  },
  {
   "cell_type": "code",
   "execution_count": 38,
   "metadata": {},
   "outputs": [
    {
     "data": {
      "text/plain": [
       "'Institui o Código de Trânsito Brasileiro. '"
      ]
     },
     "execution_count": 38,
     "metadata": {},
     "output_type": "execute_result"
    }
   ],
   "source": [
    "teste3.title()"
   ]
  },
  {
   "cell_type": "code",
   "execution_count": 39,
   "metadata": {},
   "outputs": [
    {
     "data": {
      "text/plain": [
       "'Art. 6º. São objetivos básicos do Sistema Nacional de Trânsito: '"
      ]
     },
     "execution_count": 39,
     "metadata": {},
     "output_type": "execute_result"
    }
   ],
   "source": [
    "teste3.article()"
   ]
  },
  {
   "cell_type": "code",
   "execution_count": 40,
   "metadata": {},
   "outputs": [
    {
     "data": {
      "text/plain": [
       "'O artigo requisitado não possui parágrafos.'"
      ]
     },
     "execution_count": 40,
     "metadata": {},
     "output_type": "execute_result"
    }
   ],
   "source": [
    "teste3.paragraph()"
   ]
  },
  {
   "cell_type": "code",
   "execution_count": 41,
   "metadata": {},
   "outputs": [
    {
     "data": {
      "text/plain": [
       "['I - estabelecer diretrizes da Política Nacional de Trânsito, com vistas à segurança, à fluidez, ao conforto, à defesa ambiental e à educação para o trânsito, e fiscalizar seu cumprimento; ',\n",
       " 'II - fixar, mediante normas e procedimentos, a padronização de critérios técnicos, financeiros e administrativos para a execução das atividades de trânsito; ',\n",
       " 'III - estabelecer a sistemática de fluxos permanentes de informações entre os seus diversos órgãos e entidades, a fim de facilitar o processo decisório e a integração do Sistema. ']"
      ]
     },
     "execution_count": 41,
     "metadata": {},
     "output_type": "execute_result"
    }
   ],
   "source": [
    "teste3.inciso()"
   ]
  },
  {
   "cell_type": "code",
   "execution_count": 49,
   "metadata": {},
   "outputs": [],
   "source": [
    "teste4 = Scrap(lei ='lei 9503', n=8, inciso='I')"
   ]
  },
  {
   "cell_type": "code",
   "execution_count": 50,
   "metadata": {},
   "outputs": [
    {
     "data": {
      "text/plain": [
       "'Institui o Código de Trânsito Brasileiro. '"
      ]
     },
     "execution_count": 50,
     "metadata": {},
     "output_type": "execute_result"
    }
   ],
   "source": [
    "teste4.title()"
   ]
  },
  {
   "cell_type": "code",
   "execution_count": 51,
   "metadata": {},
   "outputs": [
    {
     "data": {
      "text/plain": [
       "'Art. 8º. Os Estados, o Distrito Federal e os Municípios organização os respectivos órgãos e entidades executivos de trânsito e executivos rodoviários, estabelecendo os limites circunscricionais de suas atuações. '"
      ]
     },
     "execution_count": 51,
     "metadata": {},
     "output_type": "execute_result"
    }
   ],
   "source": [
    "teste4.article()"
   ]
  },
  {
   "cell_type": "code",
   "execution_count": 52,
   "metadata": {},
   "outputs": [
    {
     "data": {
      "text/plain": [
       "'O artigo requisitado não possui parágrafos.'"
      ]
     },
     "execution_count": 52,
     "metadata": {},
     "output_type": "execute_result"
    }
   ],
   "source": [
    "teste4.paragraph()"
   ]
  },
  {
   "cell_type": "code",
   "execution_count": 53,
   "metadata": {},
   "outputs": [
    {
     "data": {
      "text/plain": [
       "'I - (VETADO) '"
      ]
     },
     "execution_count": 53,
     "metadata": {},
     "output_type": "execute_result"
    }
   ],
   "source": [
    "teste4.inciso()"
   ]
  }
 ],
 "metadata": {
  "kernelspec": {
   "display_name": "Python 3",
   "language": "python",
   "name": "python3"
  },
  "language_info": {
   "codemirror_mode": {
    "name": "ipython",
    "version": 3
   },
   "file_extension": ".py",
   "mimetype": "text/x-python",
   "name": "python",
   "nbconvert_exporter": "python",
   "pygments_lexer": "ipython3",
   "version": "3.8.3"
  }
 },
 "nbformat": 4,
 "nbformat_minor": 4
}
