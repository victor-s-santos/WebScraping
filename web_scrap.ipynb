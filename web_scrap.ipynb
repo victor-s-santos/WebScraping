{
 "cells": [
  {
   "cell_type": "code",
   "execution_count": 114,
   "metadata": {},
   "outputs": [],
   "source": [
    "#Defining the webscrapper class\n",
    "import time\n",
    "from bs4 import BeautifulSoup\n",
    "from selenium import webdriver\n",
    "from selenium.webdriver.firefox.options import Options\n",
    "\n",
    "class Scrap:\n",
    "    def __init__(self, lei, n=None, inciso=None, alinea=None):\n",
    "        \"\"\"Initializing the driver\"\"\"\n",
    "        self.lei = lei\n",
    "        self.n = n\n",
    "        self.inciso = inciso\n",
    "        self.alinea = alinea\n",
    "        \n",
    "        self.m = 0\n",
    "        self.a = 0\n",
    "        self.an = 0\n",
    "        self.at = 0\n",
    "        self.inc = 0\n",
    "        self.art = str('Art. ' + str(self.n))\n",
    "        self.lista_paragrafo = []\n",
    "        self.lista_inciso = []\n",
    "        self.lista_alinea = []\n",
    "        \n",
    "        url = 'https://www2.camara.leg.br/busca/?q=' + lei\n",
    "        option = Options()\n",
    "        option.headless = True\n",
    "        driver = webdriver.Firefox(options=option)\n",
    "        driver.get(url)\n",
    "        driver.find_element_by_xpath(\"//div[@id='resultadoBusca']//ul//li//span//a\").click()\n",
    "        driver.find_element_by_xpath(\"//div[@class='sessao']//a\").click()\n",
    "        element = driver.find_element_by_xpath(\"//div[@class='texto']\")\n",
    "        self.titulo = driver.find_element_by_class_name('ementa')\n",
    "        html_content = element.get_attribute('outerHTML')\n",
    "        self.titulo = self.titulo.get_attribute('outerHTML')\n",
    "        #time.sleep(2)\n",
    "        driver.quit()\n",
    "\n",
    "        self.soup = BeautifulSoup(html_content, 'lxml')\n",
    "        self.texto = self.soup.find_all(text=True)\n",
    "\n",
    "        self.titulo = BeautifulSoup(self.titulo, 'lxml')\n",
    "        self.titulo = self.titulo.find_all(text=True)\n",
    "        \n",
    "    def title(self):\n",
    "        \"\"\"Returns the law title\"\"\" \n",
    "        for i in range(len(self.titulo)):\n",
    "            self.titulo[i] = self.titulo[i].replace('\\n', '')\n",
    "            self.titulo[i] = self.titulo[i].replace('\\t', '')\n",
    "        for i in range(len(self.titulo)):\n",
    "            if '' in self.titulo:\n",
    "                self.titulo.remove('')\n",
    "            return(self.titulo[0])\n",
    "    \n",
    "    def paragraph(self):\n",
    "        \"\"\"Returns every laws paragraph\"\"\"\n",
    "        for i in range(len(self.texto)):\n",
    "            self.texto[i] = self.texto[i].replace('\\n', '')\n",
    "            self.texto[i] = self.texto[i].replace('\\t', '')\n",
    "            self.texto[i] = self.texto[i].replace('\\xa0', '')\n",
    "        for i in range(len(self.texto)):\n",
    "            if '' in self.texto:\n",
    "                self.texto.remove('')\n",
    "\n",
    "        for i in range(len(self.texto)):\n",
    "            if (f'Art. {self.n+1}') in self.texto[i]:\n",
    "                break\n",
    "\n",
    "            if '§' in self.texto[i]:\n",
    "                self.lista_paragrafo.append(self.texto[i])\n",
    "                \n",
    "                \n",
    "        return(self.lista_paragrafo, f'Art. {self.n+1}')"
   ]
  },
  {
   "cell_type": "code",
   "execution_count": 115,
   "metadata": {},
   "outputs": [],
   "source": [
    "teste = Scrap(lei='lei 1.060', n=4)"
   ]
  },
  {
   "cell_type": "code",
   "execution_count": 116,
   "metadata": {},
   "outputs": [
    {
     "data": {
      "text/plain": [
       "'Estabelece normas para a concessão de assistência judiciária aos necessitados. '"
      ]
     },
     "execution_count": 116,
     "metadata": {},
     "output_type": "execute_result"
    }
   ],
   "source": [
    "teste.title()"
   ]
  },
  {
   "cell_type": "code",
   "execution_count": 117,
   "metadata": {},
   "outputs": [
    {
     "data": {
      "text/plain": [
       "([' § 1º A petição será instruída por um atestado de que conste ser o requerente necessitado, não podendo pagar as despesas do processo. Êste documento será expedido, isento de selos e emolumentos, pela autoridade policial ou pelo Prefeito municipal. ',\n",
       "  ' § 2º Nas capitais dos Estados e no Distrito Federal, o atestado da competência do Prefeito poderá ser expedido por autoridade expressamente designada pelo mesmo. '],\n",
       " 'Art. 5')"
      ]
     },
     "execution_count": 117,
     "metadata": {},
     "output_type": "execute_result"
    }
   ],
   "source": [
    "teste.paragraph()"
   ]
  }
 ],
 "metadata": {
  "kernelspec": {
   "display_name": "Python 3",
   "language": "python",
   "name": "python3"
  },
  "language_info": {
   "codemirror_mode": {
    "name": "ipython",
    "version": 3
   },
   "file_extension": ".py",
   "mimetype": "text/x-python",
   "name": "python",
   "nbconvert_exporter": "python",
   "pygments_lexer": "ipython3",
   "version": "3.8.3"
  }
 },
 "nbformat": 4,
 "nbformat_minor": 4
}
