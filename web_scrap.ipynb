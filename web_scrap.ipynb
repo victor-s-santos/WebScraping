{
 "cells": [
  {
   "cell_type": "code",
   "execution_count": 84,
   "metadata": {},
   "outputs": [],
   "source": [
    "import re\n",
    "import time\n",
    "from bs4 import BeautifulSoup\n",
    "from selenium import webdriver\n",
    "from selenium.webdriver.firefox.options import Options\n",
    "#lei=law, n=article number, p=paragraph number, inciso=item, alinea=point\n",
    "class Scrap:\n",
    "    def __init__(self, lei, n=None, p=None, inciso=None):\n",
    "        \"\"\"Initializing the driver\"\"\"\n",
    "        self.lei = lei\n",
    "        self.n = n\n",
    "        self.p = p\n",
    "        \n",
    "        self.art = str('Art. ' + str(self.n))\n",
    "        self.lista_paragrafo = []\n",
    "        self.lista_inciso = []\n",
    "        \n",
    "        url = 'https://www2.camara.leg.br/busca/?q=' + lei\n",
    "        option = Options()\n",
    "        option.headless = True\n",
    "        driver = webdriver.Firefox(options=option)\n",
    "        driver.get(url)\n",
    "        driver.find_element_by_xpath(\"//div[@id='resultadoBusca']//ul//li//span//a\").click()\n",
    "        driver.find_element_by_xpath(\"//div[@class='sessao']//a\").click()\n",
    "        element = driver.find_element_by_xpath(\"//div[@class='texto']\")\n",
    "        self.titulo = driver.find_element_by_class_name('ementa')\n",
    "        html_content = element.get_attribute('outerHTML')\n",
    "        self.titulo = self.titulo.get_attribute('outerHTML')\n",
    "        driver.quit()\n",
    "\n",
    "        self.soup = BeautifulSoup(html_content, 'lxml')\n",
    "        self.texto = self.soup.find_all(text=True)\n",
    "\n",
    "        self.titulo = BeautifulSoup(self.titulo, 'lxml')\n",
    "        self.titulo = self.titulo.find_all(text=True)\n",
    "        #limpando\n",
    "        for i in range(len(self.texto)):\n",
    "            self.texto[i] = self.texto[i].replace('\\n', '')\n",
    "            self.texto[i] = self.texto[i].replace('\\t', '')\n",
    "            self.texto[i] = self.texto[i].replace('\\xa0', '')\n",
    "        \n",
    "        \n",
    "    def title(self):\n",
    "        \"\"\"Returns the law title\"\"\" \n",
    "        for i in range(len(self.titulo)):\n",
    "            self.titulo[i] = self.titulo[i].replace('\\n', '')\n",
    "            self.titulo[i] = self.titulo[i].replace('\\t', '')\n",
    "            if '' in self.titulo:\n",
    "                self.titulo.remove('')\n",
    "            return(self.titulo[0])\n",
    "   \n",
    "    def article(self):\n",
    "        pattern0 = f'(Art\\. {self.n})'\n",
    "        patternf = r\"(\\'\\,)\"\n",
    "        self.artigo0 = re.search(pattern0, str(self.texto)).start()\n",
    "        self.artigof = re.search(patternf, str(self.texto)[self.artigo0:]).start()\n",
    "        self.total = self.artigo0 + self.artigof\n",
    "        return(str(self.texto)[self.artigo0:(self.total)])\n",
    "\n",
    "    def paragraph(self):\n",
    "        \"\"\"Must returns the requested paragraph for requested article\"\"\"\n",
    "        pattern0 = f'(Art\\. {self.n})'\n",
    "        patternf = r\"(\\'\\,)\"\n",
    "        artigo0 = re.search(pattern0, str(self.texto)).start()\n",
    "        artigof = re.search(patternf, str(self.texto)[artigo0:]).start()\n",
    "        pattern_paragraph0 = f'(§ {self.p})'\n",
    "        pattern_paragraphf = r\"(\\'\\,)\"\n",
    "        paragraph0 = re.search(pattern_paragraph0, str(self.texto)[artigof:]).start()\n",
    "        paragraph0 = paragraph0 + artigof\n",
    "        paragraphf = re.search(pattern_paragraphf, str(self.texto)[paragraph0:]).start()\n",
    "        paragraphf = paragraphf + paragraph0\n",
    "        \n",
    "        paragraph_single = f'Parágrafo único.'\n",
    "        paragraph_single_end = f'\\n'\n",
    "        article1 = f'(Art\\. {self.n+1})'\n",
    "        article1 = re.search(article1, str(self.texto)[artigof:])\n",
    "        #agora que possuo os limites(artigo0 e article1), vou buscar pelos padrões\n",
    "        paragraph_single = re.search(paragraph_single, str(self.texto)[artigo0:artigo1])\n",
    "        paragraph_singlef = re.search(paragraph_single_end, str(self.texto)[artigo1: paragraph_single])\n",
    "        try:\n",
    "            if (f'Art. {int(self.n) +1}') in str(self.texto)[(artigo0 + artigof): paragraphf].split(\"',\")[self.p]:\n",
    "                return('Parágrafo não encontrado!')\n",
    "            elif ('Parágrafo único.') in str(self.texto)[(artigo0 + artigof): paragraphf].split(\"',\")[self.p]:\n",
    "                return('Parágrafo único. É uma boa seguir por aqui!')\n",
    "            else:\n",
    "                return(str(self.texto)[(artigo0 + artigof): paragraphf].split(\"',\"))[self.p]\n",
    "        except:\n",
    "            if (f'Art. {int(self.n) +1}') in str(self.texto)[(artigo0 + artigof): paragraphf].split(\"',\")[self.p]:\n",
    "                return('Parágrafo não encontrado!')\n",
    "            else:\n",
    "                return(str(self.texto)[(artigo0 + artigof):].split(\"',\"))[self.p]        "
   ]
  },
  {
   "cell_type": "code",
   "execution_count": 85,
   "metadata": {},
   "outputs": [],
   "source": [
    "teste = Scrap(lei='lei 1.060', n=4, p=1)"
   ]
  },
  {
   "cell_type": "code",
   "execution_count": 86,
   "metadata": {},
   "outputs": [
    {
     "data": {
      "text/plain": [
       "'Estabelece normas para a concessão de assistência judiciária aos necessitados. '"
      ]
     },
     "execution_count": 86,
     "metadata": {},
     "output_type": "execute_result"
    }
   ],
   "source": [
    "teste.title()"
   ]
  },
  {
   "cell_type": "code",
   "execution_count": 87,
   "metadata": {},
   "outputs": [
    {
     "data": {
      "text/plain": [
       "'Art. 4ºA parte, que pretender gozar os benefícios da assistência judiciária, requererá ao Juiz competente lhos conceda, mencionando, na petição, o rendimento ou vencimento que percebe e os encargos próprios e os da família. '"
      ]
     },
     "execution_count": 87,
     "metadata": {},
     "output_type": "execute_result"
    }
   ],
   "source": [
    "teste.article()"
   ]
  },
  {
   "cell_type": "code",
   "execution_count": 88,
   "metadata": {},
   "outputs": [
    {
     "data": {
      "text/plain": [
       "\" ' § 1º A petição será instruída por um atestado de que conste ser o requerente necessitado, não podendo pagar as despesas do processo. Êste documento será expedido, isento de selos e emolumentos, pela autoridade policial ou pelo Prefeito municipal. \""
      ]
     },
     "execution_count": 88,
     "metadata": {},
     "output_type": "execute_result"
    }
   ],
   "source": [
    "teste.paragraph()"
   ]
  },
  {
   "cell_type": "code",
   "execution_count": 89,
   "metadata": {},
   "outputs": [],
   "source": [
    "#parágrafo único\n",
    "teste2 = Scrap(lei='lei 1.060', n=2, p=1)"
   ]
  },
  {
   "cell_type": "code",
   "execution_count": 90,
   "metadata": {},
   "outputs": [
    {
     "data": {
      "text/plain": [
       "'Estabelece normas para a concessão de assistência judiciária aos necessitados. '"
      ]
     },
     "execution_count": 90,
     "metadata": {},
     "output_type": "execute_result"
    }
   ],
   "source": [
    "teste2.title()"
   ]
  },
  {
   "cell_type": "code",
   "execution_count": 91,
   "metadata": {},
   "outputs": [
    {
     "data": {
      "text/plain": [
       "'Art. 2ºGozarão dos benefícios desta Lei os nacionais ou estrangeiros residentes no país, que necessitarem recorrer à Justiça penal, civil, militar ou do trabalho. '"
      ]
     },
     "execution_count": 91,
     "metadata": {},
     "output_type": "execute_result"
    }
   ],
   "source": [
    "teste2.article()"
   ]
  },
  {
   "cell_type": "code",
   "execution_count": 92,
   "metadata": {},
   "outputs": [
    {
     "data": {
      "text/plain": [
       "\" ' \""
      ]
     },
     "execution_count": 92,
     "metadata": {},
     "output_type": "execute_result"
    }
   ],
   "source": [
    "teste2.paragraph()"
   ]
  }
 ],
 "metadata": {
  "kernelspec": {
   "display_name": "Python 3",
   "language": "python",
   "name": "python3"
  },
  "language_info": {
   "codemirror_mode": {
    "name": "ipython",
    "version": 3
   },
   "file_extension": ".py",
   "mimetype": "text/x-python",
   "name": "python",
   "nbconvert_exporter": "python",
   "pygments_lexer": "ipython3",
   "version": "3.8.3"
  }
 },
 "nbformat": 4,
 "nbformat_minor": 4
}
