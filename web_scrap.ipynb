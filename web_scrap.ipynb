{
 "cells": [
  {
   "cell_type": "code",
   "execution_count": 35,
   "metadata": {},
   "outputs": [],
   "source": [
    "import re\n",
    "import pandas as pd\n",
    "import time\n",
    "from bs4 import BeautifulSoup\n",
    "from selenium import webdriver\n",
    "from selenium.webdriver.firefox.options import Options\n",
    "#lei=law, n=article number, p=paragraph number, inciso=item, alinea=point\n",
    "class Scrap:\n",
    "    def __init__(self, lei, n=None, p=None, inciso=None):\n",
    "        \"\"\"Initializing the driver\"\"\"\n",
    "        self.lei = lei\n",
    "        self.n = n\n",
    "        self.p = p\n",
    "        self.art = str('Art. ' + str(self.n))\n",
    "        self.lista_paragrafo = []\n",
    "        self.lista_inciso = []\n",
    "    \n",
    "    def conecta(self):\n",
    "        self.url = 'https://www2.camara.leg.br/busca/?q=' + self.lei\n",
    "        option = Options()\n",
    "        option.headless = False\n",
    "        driver = webdriver.Firefox(options=option)\n",
    "        driver.get(self.url)\n",
    "        driver.find_element_by_xpath(\"//div[@id='resultadoBusca']//ul//li//span//a\").click()\n",
    "        time.sleep(2)\n",
    "        driver.find_element_by_xpath(\"//div[@class='sessao']//a\").click()\n",
    "        time.sleep(1)\n",
    "        element = driver.find_element_by_xpath(\"//div[@class='texto']\")\n",
    "        self.titulo = driver.find_element_by_class_name('ementa')\n",
    "        self.html_content = element.get_attribute('outerHTML')\n",
    "        self.titulo = self.titulo.get_attribute('outerHTML')\n",
    "        driver.quit()\n",
    "        return self.html_content\n",
    "        \n",
    "    def title(self):\n",
    "        \"\"\"Returns the law title\"\"\"\n",
    "        self.soup = BeautifulSoup(self.html_content, 'lxml')\n",
    "        self.texto = self.soup.find_all(text=True)\n",
    "        self.titulo = BeautifulSoup(self.titulo, 'lxml')\n",
    "        self.titulo = self.titulo.find_all(text=True)\n",
    "        for i in range(len(self.titulo)):\n",
    "            self.titulo[i] = self.titulo[i].replace('\\n', '')\n",
    "            self.titulo[i] = self.titulo[i].replace('\\t', '')\n",
    "        return self.titulo[0]\n",
    "   \n",
    "    def article(self):\n",
    "        self.inicio_article = re.search(f'Art. {self.n}', self.html_content).start()\n",
    "        return self.html_content[self.inicio_article:].replace('&nbsp;', '-').split('<br>')[0]\n",
    "    \n",
    "    def paragraph(self):\n",
    "        \"\"\"Returns the requested paragraph\"\"\"\n",
    "        self.conteudo = BeautifulSoup(self.html_content, 'lxml').find_all()[0]\n",
    "        self.conteudo = str(self.conteudo).replace('\\xa0', '')\n",
    "        \"\"\"buscando o artigo\"\"\"\n",
    "        inicio_artigo = re.search(f'Art. {self.n}', self.conteudo).start()\n",
    "        fim_artigo = re.search('<b', self.conteudo[(inicio_artigo):]).start()\n",
    "        #str(paragrafo[0])[inicio_artigo:].replace('\\xa0', '').split('<br/>')[0]\n",
    "        fim_artigo += inicio_artigo\n",
    "        self.conteudo[inicio_artigo: fim_artigo]\n",
    "        if self.p == 0:\n",
    "            inicio_article = re.search(f'Art. {self.n}', self.html_content).start()\n",
    "            inicio_paragrafo_unico = re.search('Parágrafo único.', self.conteudo[fim_artigo:]).start()\n",
    "            fim_paragrafo_unico = re.search('<br/>', self.conteudo[(fim_artigo + inicio_paragrafo_unico):]).start()\n",
    "            fim_paragrafo_unico += inicio_paragrafo_unico\n",
    "            conteudo2 = self.conteudo[fim_artigo:]\n",
    "            conteudo2 = conteudo2[inicio_paragrafo_unico : fim_paragrafo_unico].replace('</i>', '')\n",
    "            return(conteudo2)\n",
    "        return('Ainda não implementado a busca de parágrafos numerados.')\n",
    "    \n",
    "    def run(self):\n",
    "        self.conecta()\n",
    "        nomes = ['Título', 'Artigo', 'Parágrafo']\n",
    "        self.title()\n",
    "        self.article()\n",
    "        self.paragraph()"
   ]
  },
  {
   "cell_type": "code",
   "execution_count": 36,
   "metadata": {},
   "outputs": [],
   "source": [
    "teste = Scrap('lei 1.060', n=2, p=0)\n",
    "conteudo = teste.conecta()"
   ]
  },
  {
   "cell_type": "code",
   "execution_count": 37,
   "metadata": {},
   "outputs": [
    {
     "data": {
      "text/plain": [
       "'Estabelece normas para a concessão de assistência judiciária aos necessitados. '"
      ]
     },
     "execution_count": 37,
     "metadata": {},
     "output_type": "execute_result"
    }
   ],
   "source": [
    "teste.title()"
   ]
  },
  {
   "cell_type": "code",
   "execution_count": 38,
   "metadata": {},
   "outputs": [
    {
     "data": {
      "text/plain": [
       "'Art. 2º-Gozarão dos benefícios desta Lei os nacionais ou estrangeiros residentes no país, que necessitarem recorrer à Justiça penal, civil, militar ou do trabalho. '"
      ]
     },
     "execution_count": 38,
     "metadata": {},
     "output_type": "execute_result"
    }
   ],
   "source": [
    "teste.article()"
   ]
  },
  {
   "cell_type": "code",
   "execution_count": 39,
   "metadata": {},
   "outputs": [
    {
     "data": {
      "text/plain": [
       "'Parágrafo único. Considera-se necessitado, para os fins legais, todo aquêle cuja situação econômica não lhe permita pagar as custas do processo e os honorários de advogado, sem prejuízo do sustento próprio ou da família. '"
      ]
     },
     "execution_count": 39,
     "metadata": {},
     "output_type": "execute_result"
    }
   ],
   "source": [
    "teste.paragraph()"
   ]
  },
  {
   "cell_type": "code",
   "execution_count": 31,
   "metadata": {},
   "outputs": [],
   "source": [
    "teste2 = Scrap('lei 1.060', n=2, p=0)\n",
    "teste2.run()"
   ]
  }
 ],
 "metadata": {
  "kernelspec": {
   "display_name": "Python 3",
   "language": "python",
   "name": "python3"
  },
  "language_info": {
   "codemirror_mode": {
    "name": "ipython",
    "version": 3
   },
   "file_extension": ".py",
   "mimetype": "text/x-python",
   "name": "python",
   "nbconvert_exporter": "python",
   "pygments_lexer": "ipython3",
   "version": "3.6.10"
  }
 },
 "nbformat": 4,
 "nbformat_minor": 4
}
