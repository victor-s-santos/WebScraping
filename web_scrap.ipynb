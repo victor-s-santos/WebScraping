{
 "cells": [
  {
   "cell_type": "code",
   "execution_count": null,
   "metadata": {},
   "outputs": [],
   "source": [
    "#Defining the webscrapper class\n",
    "import time\n",
    "from bs4 import BeautifulSoup\n",
    "from selenium import webdriver\n",
    "from selenium.webdriver.firefox.options import Options\n",
    "\n",
    "class Scrap:\n",
    "    def __init__(self, lei, n=None, inciso=None, alinea=None):\n",
    "        self.lei = lei\n",
    "        self.n = n\n",
    "        self.inciso = inciso\n",
    "        self.alinea = alinea\n",
    "        url = 'https://www2.camara.leg.br/busca/?q=' + lei\n",
    "        option = Options()\n",
    "        option.headless = True\n",
    "        driver = webdriver.Firefox(options=option)\n",
    "        driver.get(url)\n",
    "        time.sleep(2)\n",
    "        driver.find_element_by_xpath(\"//div[@id='resultadoBusca']//ul//li//span//a\").click()\n",
    "        time.sleep(2)\n",
    "        driver.find_element_by_xpath(\"//div[@class='sessao']//a\").click()\n",
    "        time.sleep(2)\n",
    "        element = driver.find_element_by_xpath(\"//div[@class='texto']\")\n",
    "        titulo = driver.find_element_by_class_name('ementa')\n",
    "        html_content = element.get_attribute('outerHTML')\n",
    "        titulo = titulo.get_attribute('outerHTML')\n",
    "        #time.sleep(2)\n",
    "        driver.quit()\n",
    "\n",
    "        soup = BeautifulSoup(html_content, 'lxml')\n",
    "        text = soup.find_all(text=True)\n",
    "\n",
    "        titulo = BeautifulSoup(titulo, 'lxml')\n",
    "        titulo = titulo.find_all(text=True)\n",
    "        "
   ]
  }
 ],
 "metadata": {
  "kernelspec": {
   "display_name": "Python 3",
   "language": "python",
   "name": "python3"
  },
  "language_info": {
   "codemirror_mode": {
    "name": "ipython",
    "version": 3
   },
   "file_extension": ".py",
   "mimetype": "text/x-python",
   "name": "python",
   "nbconvert_exporter": "python",
   "pygments_lexer": "ipython3",
   "version": "3.8.3"
  }
 },
 "nbformat": 4,
 "nbformat_minor": 4
}
