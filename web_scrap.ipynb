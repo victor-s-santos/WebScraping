{
 "cells": [
  {
   "cell_type": "code",
   "execution_count": 72,
   "metadata": {},
   "outputs": [],
   "source": [
    "import time\n",
    "from bs4 import BeautifulSoup\n",
    "from selenium import webdriver\n",
    "from selenium.webdriver.firefox.options import Options\n",
    "#lei=law, n=article number, p=paragraph number, inciso=item, alinea=point\n",
    "class Scrap:\n",
    "    def __init__(self, lei, n=None, p=None, inciso=None):\n",
    "        \"\"\"Initializing the driver\"\"\"\n",
    "        self.lei = lei\n",
    "        self.n = n\n",
    "        self.p = p\n",
    "        self.inciso1 = inciso\n",
    "    \n",
    "        self.art = str('Art. ' + str(self.n))\n",
    "        self.lista_paragrafo = []\n",
    "        self.lista_inciso = []\n",
    "        \n",
    "        #constantes auxiliares\n",
    "        self.z = 0\n",
    "        \n",
    "        url = 'https://www2.camara.leg.br/busca/?q=' + lei\n",
    "        option = Options()\n",
    "        option.headless = True\n",
    "        driver = webdriver.Firefox(options=option)\n",
    "        driver.get(url)\n",
    "        driver.find_element_by_xpath(\"//div[@id='resultadoBusca']//ul//li//span//a\").click()\n",
    "        driver.find_element_by_xpath(\"//div[@class='sessao']//a\").click()\n",
    "        element = driver.find_element_by_xpath(\"//div[@class='texto']\")\n",
    "        self.titulo = driver.find_element_by_class_name('ementa')\n",
    "        html_content = element.get_attribute('outerHTML')\n",
    "        self.titulo = self.titulo.get_attribute('outerHTML')\n",
    "        #time.sleep(2)\n",
    "        driver.quit()\n",
    "\n",
    "        self.soup = BeautifulSoup(html_content, 'lxml')\n",
    "        self.texto = self.soup.find_all(text=True)\n",
    "\n",
    "        self.titulo = BeautifulSoup(self.titulo, 'lxml')\n",
    "        self.titulo = self.titulo.find_all(text=True)\n",
    "        \n",
    "    def title(self):\n",
    "        \"\"\"Returns the law title\"\"\" \n",
    "        for i in range(len(self.titulo)):\n",
    "            self.titulo[i] = self.titulo[i].replace('\\n', '')\n",
    "            self.titulo[i] = self.titulo[i].replace('\\t', '')\n",
    "            if '' in self.titulo:\n",
    "                self.titulo.remove('')\n",
    "            return(self.titulo[0])\n",
    "   \n",
    "    def article(self):\n",
    "        for i in range(len(self.texto)):\n",
    "            if (f'Art. {int(self.n)}') in self.texto[i]:\n",
    "                self.texto[i] = self.texto[i].replace('\\n', '')\n",
    "                self.texto[i] = self.texto[i].replace('\\t', '')\n",
    "                self.texto[i] = self.texto[i].replace('\\xa0', '')\n",
    "                self.i2 = i\n",
    "                return(self.texto[i])\n",
    "\n",
    "    def paragraph(self):\n",
    "        \"\"\"Returns every laws paragraph of the inserted article or the requested paragraph\"\"\"\n",
    "        self.article()\n",
    "        for i in range(self.i2,len(self.texto)):\n",
    "            if '' in self.texto:\n",
    "                self.texto.remove('')\n",
    "        \n",
    "        for i in range(self.i2, len(self.texto)):\n",
    "            if (f'Art. {int(self.n) +1}') in self.texto[i]:\n",
    "                break\n",
    "\n",
    "            if '§' in self.texto[i]:\n",
    "                self.texto[i] = self.texto[i].replace('\\n', '')\n",
    "                self.texto[i] = self.texto[i].replace('\\t', '')\n",
    "                self.texto[i] = self.texto[i].replace('\\xa0', '')\n",
    "                self.lista_paragrafo.append(self.texto[i])\n",
    "            \n",
    "            elif 'Parágrafo único' in self.texto[i]:\n",
    "                self.texto[i] = self.texto[i].replace('\\n', '')\n",
    "                self.texto[i] = self.texto[i].replace('\\t', '')\n",
    "                self.texto[i] = self.texto[i].replace('\\xa0', '')\n",
    "                self.lista_paragrafo.append(self.texto[i+1])\n",
    "    \n",
    "                \n",
    "        if len(self.lista_paragrafo) == 0:\n",
    "            return('O artigo requisitado não possui parágrafos.')\n",
    "        \n",
    "        if self.p is not None:\n",
    "            return(self.article(),self.lista_paragrafo[(self.p)-1])\n",
    "        else:\n",
    "            return(self.article(),self.lista_paragrafo)\n",
    "    \n",
    "    \n",
    "    def inciso(self):\n",
    "        \"\"\"Returns the requested item from the article / law, \n",
    "        if no item was requested the entire list is returned\"\"\"\n",
    "        self.article()\n",
    "        if self.inciso1 is not None:\n",
    "            for i in range(self.i2, len(self.texto)):\n",
    "                if (f'Art. {int(self.n) +1}') in self.texto[i]:\n",
    "                    break\n",
    "                if (str(self.inciso1)) in self.texto[i]:\n",
    "                    self.texto[i] = self.texto[i].replace('\\xa0', '')\n",
    "                    return(self.texto[i])\n",
    "            return('O inciso requisitado não foi encontrado!')\n",
    "        else:\n",
    "            for i in range(self.i2, len(self.texto)):\n",
    "                if 'SEÇÃO' in self.texto[i]:\n",
    "                    if(len(self.lista_inciso) == 0):\n",
    "                        return('O artigo requisitado não possui incisos!')\n",
    "                    else: \n",
    "                        return(self.lista_inciso)\n",
    "                    \n",
    "                if (f'Art. {int(self.n) +1}') in self.texto[i]:\n",
    "                    if(len(self.lista_inciso) == 0):\n",
    "                        return('O artigo requisitado não possui incisos!')\n",
    "                    else: \n",
    "                        return(self.lista_inciso)\n",
    "                \n",
    "                if ('I') in self.texto[i]:\n",
    "                    for j in range(i, len(self.texto)):\n",
    "                        if (f'Art. {int(self.n) +1}') in self.texto[j]:\n",
    "                            if(len(self.lista_inciso) == 0):\n",
    "                                return('O artigo requisitado não possui incisos!')\n",
    "                            else: \n",
    "                                return(self.lista_inciso)\n",
    "                        if ('\\n') in self.texto[j]:\n",
    "                            return(self.lista_inciso)\n",
    "                        self.texto[j] = self.texto[j].replace('\\xa0', '')\n",
    "                        self.lista_inciso.append(self.texto[j])\n",
    "            #return(self.lista_inciso)\n",
    "            if(len(self.lista_inciso) == 0):\n",
    "                return('O artigo requisitado não possui incisos!')\n",
    "            else:\n",
    "                return(self.lista_inciso)"
   ]
  },
  {
   "cell_type": "code",
   "execution_count": 73,
   "metadata": {},
   "outputs": [],
   "source": [
    "teste = Scrap(lei='lei 1.060', n=3, p=1)"
   ]
  },
  {
   "cell_type": "code",
   "execution_count": 74,
   "metadata": {},
   "outputs": [
    {
     "data": {
      "text/plain": [
       "'Estabelece normas para a concessão de assistência judiciária aos necessitados. '"
      ]
     },
     "execution_count": 74,
     "metadata": {},
     "output_type": "execute_result"
    }
   ],
   "source": [
    "teste.title()"
   ]
  },
  {
   "cell_type": "code",
   "execution_count": 75,
   "metadata": {},
   "outputs": [
    {
     "data": {
      "text/plain": [
       "'Art. 3ºA assistência judiciária compreende as seguintes isenções: '"
      ]
     },
     "execution_count": 75,
     "metadata": {},
     "output_type": "execute_result"
    }
   ],
   "source": [
    "teste.article()"
   ]
  },
  {
   "cell_type": "code",
   "execution_count": 76,
   "metadata": {},
   "outputs": [
    {
     "data": {
      "text/plain": [
       "'O artigo requisitado não possui parágrafos.'"
      ]
     },
     "execution_count": 76,
     "metadata": {},
     "output_type": "execute_result"
    }
   ],
   "source": [
    "teste.paragraph()"
   ]
  },
  {
   "cell_type": "code",
   "execution_count": 77,
   "metadata": {},
   "outputs": [
    {
     "data": {
      "text/plain": [
       "[' I - das taxas judiciárias e dos selos; ',\n",
       " ' II - dos emolumentos e custas devidos aos Juízes, órgãos do Ministério Público e serventuários da Justiça; ',\n",
       " ' III - das despesas com as publicações indispensáveis no jornal encarregado da divulgação dos atos oficiais; ',\n",
       " ' IV - das indenizações devidas às testemunhas que, quando empregados, receberão do empregador salário integral, como se em serviço estivessem, ressalvado o direito regressivo contra o poder público federal, no Distrito Federal e nos Territórios; ou contra o poder público estadual, nos Estados; ',\n",
       " ' V - dos honorários de advogado e peritos. ']"
      ]
     },
     "execution_count": 77,
     "metadata": {},
     "output_type": "execute_result"
    }
   ],
   "source": [
    "teste.inciso()"
   ]
  },
  {
   "cell_type": "code",
   "execution_count": 78,
   "metadata": {},
   "outputs": [],
   "source": [
    "#outra instância\n",
    "teste2 = Scrap(lei='lei 1.060', n=7)"
   ]
  },
  {
   "cell_type": "code",
   "execution_count": 79,
   "metadata": {},
   "outputs": [
    {
     "data": {
      "text/plain": [
       "'Estabelece normas para a concessão de assistência judiciária aos necessitados. '"
      ]
     },
     "execution_count": 79,
     "metadata": {},
     "output_type": "execute_result"
    }
   ],
   "source": [
    "teste2.title()"
   ]
  },
  {
   "cell_type": "code",
   "execution_count": 80,
   "metadata": {},
   "outputs": [
    {
     "data": {
      "text/plain": [
       "'Art. 7ºA parte contrária poderá, em qualquer fase da lide, requerer a revogação dos benefícios de assistência, desde que prove a inexistência ou o desaparecimento dos requisitos essenciais à sua concessão. '"
      ]
     },
     "execution_count": 80,
     "metadata": {},
     "output_type": "execute_result"
    }
   ],
   "source": [
    "teste2.article()"
   ]
  },
  {
   "cell_type": "code",
   "execution_count": 81,
   "metadata": {},
   "outputs": [
    {
     "data": {
      "text/plain": [
       "('Art. 7ºA parte contrária poderá, em qualquer fase da lide, requerer a revogação dos benefícios de assistência, desde que prove a inexistência ou o desaparecimento dos requisitos essenciais à sua concessão. ',\n",
       " ['Tal requerimento não suspenderá o curso da ação e se processará pela forma estabelecida no final do artigo 6º desta Lei. '])"
      ]
     },
     "execution_count": 81,
     "metadata": {},
     "output_type": "execute_result"
    }
   ],
   "source": [
    "teste2.paragraph()"
   ]
  },
  {
   "cell_type": "code",
   "execution_count": 82,
   "metadata": {},
   "outputs": [
    {
     "data": {
      "text/plain": [
       "'O artigo requisitado não possui incisos!'"
      ]
     },
     "execution_count": 82,
     "metadata": {},
     "output_type": "execute_result"
    }
   ],
   "source": [
    "teste2.inciso()"
   ]
  },
  {
   "cell_type": "code",
   "execution_count": 83,
   "metadata": {},
   "outputs": [],
   "source": [
    "#outra instância\n",
    "teste3 = Scrap(lei ='lei 9503', n=6)"
   ]
  },
  {
   "cell_type": "code",
   "execution_count": 84,
   "metadata": {},
   "outputs": [
    {
     "data": {
      "text/plain": [
       "'Institui o Código de Trânsito Brasileiro. '"
      ]
     },
     "execution_count": 84,
     "metadata": {},
     "output_type": "execute_result"
    }
   ],
   "source": [
    "teste3.title()"
   ]
  },
  {
   "cell_type": "code",
   "execution_count": 85,
   "metadata": {},
   "outputs": [
    {
     "data": {
      "text/plain": [
       "'Art. 6º. São objetivos básicos do Sistema Nacional de Trânsito: '"
      ]
     },
     "execution_count": 85,
     "metadata": {},
     "output_type": "execute_result"
    }
   ],
   "source": [
    "teste3.article()"
   ]
  },
  {
   "cell_type": "code",
   "execution_count": 86,
   "metadata": {},
   "outputs": [
    {
     "data": {
      "text/plain": [
       "'O artigo requisitado não possui parágrafos.'"
      ]
     },
     "execution_count": 86,
     "metadata": {},
     "output_type": "execute_result"
    }
   ],
   "source": [
    "teste3.paragraph()"
   ]
  },
  {
   "cell_type": "code",
   "execution_count": 87,
   "metadata": {},
   "outputs": [
    {
     "data": {
      "text/plain": [
       "['I - estabelecer diretrizes da Política Nacional de Trânsito, com vistas à segurança, à fluidez, ao conforto, à defesa ambiental e à educação para o trânsito, e fiscalizar seu cumprimento; ',\n",
       " 'II - fixar, mediante normas e procedimentos, a padronização de critérios técnicos, financeiros e administrativos para a execução das atividades de trânsito; ',\n",
       " 'III - estabelecer a sistemática de fluxos permanentes de informações entre os seus diversos órgãos e entidades, a fim de facilitar o processo decisório e a integração do Sistema. ']"
      ]
     },
     "execution_count": 87,
     "metadata": {},
     "output_type": "execute_result"
    }
   ],
   "source": [
    "teste3.inciso()"
   ]
  },
  {
   "cell_type": "code",
   "execution_count": 88,
   "metadata": {},
   "outputs": [],
   "source": [
    "#outra instancia\n",
    "teste4 = Scrap(lei ='lei 9503', n=7)"
   ]
  },
  {
   "cell_type": "code",
   "execution_count": 89,
   "metadata": {},
   "outputs": [
    {
     "data": {
      "text/plain": [
       "'Institui o Código de Trânsito Brasileiro. '"
      ]
     },
     "execution_count": 89,
     "metadata": {},
     "output_type": "execute_result"
    }
   ],
   "source": [
    "teste4.title()"
   ]
  },
  {
   "cell_type": "code",
   "execution_count": 90,
   "metadata": {},
   "outputs": [
    {
     "data": {
      "text/plain": [
       "'Art. 7º. Compõem o Sistema Nacional de Trânsito os seguintes órgãos e entidades: '"
      ]
     },
     "execution_count": 90,
     "metadata": {},
     "output_type": "execute_result"
    }
   ],
   "source": [
    "teste4.article()"
   ]
  },
  {
   "cell_type": "code",
   "execution_count": 91,
   "metadata": {},
   "outputs": [
    {
     "data": {
      "text/plain": [
       "'O artigo requisitado não possui parágrafos.'"
      ]
     },
     "execution_count": 91,
     "metadata": {},
     "output_type": "execute_result"
    }
   ],
   "source": [
    "teste4.paragraph()"
   ]
  },
  {
   "cell_type": "code",
   "execution_count": 92,
   "metadata": {},
   "outputs": [
    {
     "data": {
      "text/plain": [
       "['I - o Conselho Nacional de Trânsito - CONTRAN, coordenador do Sistema e órgão máximo normativo e consultivo; ',\n",
       " 'II - os Conselhos Estaduais de Trânsito - CETRAN e o Conselho de Trânsito do Distrito Federal - CONTRANDIFE, órgãos normativos, consultivos e coordenadores; ',\n",
       " 'III - os órgãos e entidades executivos de trânsito da União, dos Estados, do Distrito Federal e dos Municípios; ',\n",
       " 'IV - os órgãos e entidades executivos rodoviários da União, dos Estados, do Distrito Federal e dos Municípios; ',\n",
       " 'V - a Policia Rodoviária Federal; ',\n",
       " ' VI - as Polícias Militares dos Estados e do Distrito Federal; e ',\n",
       " 'VII - as Juntas Administrativas de Recursos de Infrações - JARI. ']"
      ]
     },
     "execution_count": 92,
     "metadata": {},
     "output_type": "execute_result"
    }
   ],
   "source": [
    "teste4.inciso()"
   ]
  }
 ],
 "metadata": {
  "kernelspec": {
   "display_name": "Python 3",
   "language": "python",
   "name": "python3"
  },
  "language_info": {
   "codemirror_mode": {
    "name": "ipython",
    "version": 3
   },
   "file_extension": ".py",
   "mimetype": "text/x-python",
   "name": "python",
   "nbconvert_exporter": "python",
   "pygments_lexer": "ipython3",
   "version": "3.8.3"
  }
 },
 "nbformat": 4,
 "nbformat_minor": 4
}
