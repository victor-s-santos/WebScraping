{
 "cells": [
  {
   "cell_type": "code",
   "execution_count": 1,
   "metadata": {},
   "outputs": [],
   "source": [
    "import re\n",
    "import time\n",
    "from bs4 import BeautifulSoup\n",
    "from selenium import webdriver\n",
    "from selenium.webdriver.firefox.options import Options\n",
    "#lei=law, n=article number, p=paragraph number, inciso=item, alinea=point\n",
    "class Scrap:\n",
    "    def __init__(self, lei, n=None, p=None, inciso=None):\n",
    "        \"\"\"Initializing the driver\"\"\"\n",
    "        self.lei = lei\n",
    "        self.n = n\n",
    "        self.p = p\n",
    "        \n",
    "        self.art = str('Art. ' + str(self.n))\n",
    "        self.lista_paragrafo = []\n",
    "        self.lista_inciso = []\n",
    "    \n",
    "    def conecta(self):\n",
    "        self.url = 'https://www2.camara.leg.br/busca/?q=' + self.lei\n",
    "        option = Options()\n",
    "        option.headless = True\n",
    "        driver = webdriver.Firefox(options=option)\n",
    "        driver.get(self.url)\n",
    "        driver.find_element_by_xpath(\"//div[@id='resultadoBusca']//ul//li//span//a\").click()\n",
    "        driver.find_element_by_xpath(\"//div[@class='sessao']//a\").click()\n",
    "        element = driver.find_element_by_xpath(\"//div[@class='texto']\")\n",
    "        self.titulo = driver.find_element_by_class_name('ementa')\n",
    "        self.html_content = element.get_attribute('outerHTML')\n",
    "        self.titulo = self.titulo.get_attribute('outerHTML')\n",
    "        driver.quit()\n",
    "        return self.html_content\n",
    "        \n",
    "    def title(self):\n",
    "        \"\"\"Returns the law title\"\"\"\n",
    "        self.soup = BeautifulSoup(self.html_content, 'lxml')\n",
    "        self.texto = self.soup.find_all(text=True)\n",
    "        self.titulo = BeautifulSoup(self.titulo, 'lxml')\n",
    "        self.titulo = self.titulo.find_all(text=True)\n",
    "        for i in range(len(self.titulo)):\n",
    "            self.titulo[i] = self.titulo[i].replace('\\n', '')\n",
    "            self.titulo[i] = self.titulo[i].replace('\\t', '')\n",
    "        return self.titulo[0]\n",
    "   \n",
    "    def article(self):\n",
    "        self.inicio_article = re.search(f'Art. {self.n}', self.html_content).start()\n",
    "        return self.html_content[self.inicio_article:].replace('&nbsp;', '-').split('<br>')[0]\n",
    "    \n",
    "    def paragraph(self):\n",
    "        inicio_article = re.search(f'Art. {self.n}', self.html_content).start()\n",
    "        #return inicio_article\n",
    "        try:\n",
    "            inicio_paragraph = re.search(f'§ {self.n}º', self.html_content[inicio_article:]).start()\n",
    "            fim_paragraph = re.search('<br>', self.html_content[(inicio_paragraph+inicio_article):]).start()\n",
    "            #return[inicio_paragraph, fim_paragraph]\n",
    "            #return self.inicio_paragraph\n",
    "            return self.html_content[inicio_paragraph:]\n",
    "        except:\n",
    "            return f'deu ruim'"
   ]
  },
  {
   "cell_type": "code",
   "execution_count": 4,
   "metadata": {},
   "outputs": [
    {
     "data": {
      "text/plain": [
       "'<div class=\"texto\">\\n\\t\\t\\t\\t\\t\\t\\t<p>O PRESIDENTE DA REPÚBLICA:&nbsp;<br>Faço saber que o CONGRESSO NACIONAL decreta e eu sanciono a seguinte Lei:&nbsp;<br><br>&nbsp;&nbsp;&nbsp;&nbsp;&nbsp;Art. 1º&nbsp;Os poderes públicos federal e estadual concederão assistência judiciária aos necessitados nos têrmos da presente Lei. <br><br>&nbsp;&nbsp;&nbsp;&nbsp;&nbsp;Art. 2º&nbsp;Gozarão dos benefícios desta Lei os nacionais ou estrangeiros residentes no país, que necessitarem recorrer à Justiça penal, civil, militar ou do trabalho. <br><br>&nbsp;&nbsp;&nbsp;&nbsp;&nbsp; <i>Parágrafo único. </i>Considera-se necessitado, para os fins legais, todo aquêle cuja situação econômica não lhe permita pagar as custas do processo e os honorários de advogado, sem prejuízo do sustento próprio ou da família. <br><br>&nbsp;&nbsp;&nbsp;&nbsp;&nbsp;Art. 3º&nbsp;A assistência judiciária compreende as seguintes isenções: <br><br>&nbsp;&nbsp;&nbsp;&nbsp;&nbsp; I - das taxas judiciárias e dos selos; <br>&nbsp;&nbsp;&nbsp;&nbsp;&nbsp; II - dos emolumentos e custas devidos aos Juízes, órgãos do Ministério Público e serventuários da Justiça; <br>&nbsp;&nbsp;&nbsp;&nbsp;&nbsp; III - das despesas com as publicações indispensáveis no jornal encarregado da divulgação dos atos oficiais; <br>&nbsp;&nbsp;&nbsp;&nbsp;&nbsp; IV - das indenizações devidas às testemunhas que, quando empregados, receberão do empregador salário integral, como se em serviço estivessem, ressalvado o direito regressivo contra o poder público federal, no Distrito Federal e nos Territórios; ou contra o poder público estadual, nos Estados; <br>&nbsp;&nbsp;&nbsp;&nbsp;&nbsp; V - dos honorários de advogado e peritos. <br><br>&nbsp;&nbsp;&nbsp;&nbsp;&nbsp;Art. 4º&nbsp;A parte, que pretender gozar os benefícios da assistência judiciária, requererá ao Juiz competente lhos conceda, mencionando, na petição, o rendimento ou vencimento que percebe e os encargos próprios e os da família. <br><br>&nbsp;&nbsp;&nbsp;&nbsp;&nbsp; § 1º A petição será instruída por um atestado de que conste ser o requerente necessitado, não podendo pagar as despesas do processo. Êste documento será expedido, isento de selos e emolumentos, pela autoridade policial ou pelo Prefeito municipal. <br><br>&nbsp;&nbsp;&nbsp;&nbsp;&nbsp; § 2º Nas capitais dos Estados e no Distrito Federal, o atestado da competência do Prefeito poderá ser expedido por autoridade expressamente designada pelo mesmo. <br><br>&nbsp;&nbsp;&nbsp;&nbsp;&nbsp;Art. 5º&nbsp;O Juiz, se não tiver fundadas razões para indeferir o pedido, deverá julgá-lo de plano, motivando ou não o deferimento dentro do prazo de setenta e duas horas. <br><br>&nbsp;&nbsp;&nbsp;&nbsp;&nbsp; § 1º Deferido o pedido, o Juiz determinará que o serviço de assistência judiciária, organizado e mantido pelo Estado, onde houver, indique, no prazo de dois dias úteis o advogado que patrocinará a causa do necessitado. <br><br>&nbsp;&nbsp;&nbsp;&nbsp;&nbsp; § 2º Se no Estado não houver serviço de assistência judiciária, por êle mantido, caberá a indicação à Ordem dos Advogados, por suas Seções Estaduais, ou Subseções Municipais. <br><br>&nbsp;&nbsp;&nbsp;&nbsp;&nbsp; § 3º Nos municípios em que não existirem Subseções da Ordem dos Advogados do Brasil, o próprio Juiz fará a nomeação do advogado que patrocinará a causa do necessitado. <br><br>&nbsp;&nbsp;&nbsp;&nbsp;&nbsp; § 4º Será preferido para a defesa da causa o advogado que o interessado indicar e que declare aceitar o encargo. <br><br>&nbsp;&nbsp;&nbsp;&nbsp;&nbsp;Art. 6º&nbsp;O pedido, quando formulado no curso da ação, não a suspenderá, podendo o Juiz, em face das provas, conceder ou denegar de plano o benefício de assistência. A petição, nêste caso, será autuada em separado, apensando-se os respectivos autos aos da causa principal, depois de resolvido o incidente. <br><br>&nbsp;&nbsp;&nbsp;&nbsp;&nbsp;Art. 7º&nbsp;A parte contrária poderá, em qualquer fase da lide, requerer a revogação dos benefícios de assistência, desde que prove a inexistência ou o desaparecimento dos requisitos essenciais à sua concessão. <br><br>&nbsp;&nbsp;&nbsp;&nbsp;&nbsp; <i>Parágrafo único. </i>Tal requerimento não suspenderá o curso da ação e se processará pela forma estabelecida no final do artigo 6º desta Lei. <br><br>&nbsp;&nbsp;&nbsp;&nbsp;&nbsp;Art. 8º&nbsp;Ocorrendo as circunstâncias mencionadas no artigo anterior, poderá o Juiz,<em> ex-officio,</em> decretar a revogação dos benefícios, ouvida a parte interessada dentro de quarenta e oito horas improrrogáveis. <br><br>&nbsp;&nbsp;&nbsp;&nbsp;&nbsp;Art. 9º&nbsp;Os benefícios da assistência judiciária compreendem todos os atos do processo até decisão final do litígio, em tôdas as instâncias. <br><br>&nbsp;&nbsp;&nbsp;&nbsp;&nbsp;Art. 10.&nbsp;São individuais e concedidos em cada caso ocorrente os benefícios de assistência judiciária, que se não transmitem ao cessionário de direito e se extinguem pela morte do beneficiário, podendo, entretanto, ser concedidos aos herdeiros que continuarem a demanda e que necessitarem de tais favores, na forma estabelecida nesta Lei. <br><br>&nbsp;&nbsp;&nbsp;&nbsp;&nbsp;Art. 11.&nbsp;Os honorários de advogado e peritos, as custas do processo, as taxas e selos judiciários serão pagos pelo vencido, quando o beneficiário de assistência fôr vencedor na causa. <br><br>&nbsp;&nbsp;&nbsp;&nbsp;&nbsp; § 1º Os honorários do advogado serão arbitrados pelo Juiz até o máximo de 15% (quinze por cento) sôbre o líquido apurado na execução da sentença.&nbsp;<br><br>&nbsp;&nbsp;&nbsp;&nbsp;&nbsp; § 2º A parte vencida poderá acionar a vencedora para rehaver as despesas do processo, inclusive honorários do advogado, desde que prove ter a última perdido a condição legal de necessitada. <br><br>&nbsp;&nbsp;&nbsp;&nbsp;&nbsp;Art. 12.&nbsp;A parte beneficiada pela isenção do pagamento das custas ficará obrigada a pagá-las, desde que possa fazê-lo, sem prejuízo do sustento próprio ou da família. Se dentro de cinco anos, a contar da sentença final, o assistido não puder satisfazer tal pagamento, a obrigação ficará prescrita. <br><br>&nbsp;&nbsp;&nbsp;&nbsp;&nbsp;Art. 13.&nbsp;Se o assistido puder atender, em parte, as despesas do processo, o Juiz mandará pagar as custas que serão rateadas entre os que tiverem direito ao seu recebimento. <br><br>&nbsp;&nbsp;&nbsp;&nbsp;&nbsp;Art. 14.&nbsp;Os advogados indicados pela assistência ou nomeados pelo Juiz serão obrigados, salvo justo motivo, a critério do Juiz, a patrocinar as causas dos necessitados, sob pena de multa de Cr$ 200,00 (duzentos cruzeiros) a Cr$ 1.000,00 (mil cruzeiros). <br><br>&nbsp;&nbsp;&nbsp;&nbsp;&nbsp; <i>Parágrafo único. </i>As multas previstas nêste artigo reverterão em proveito do advogado que assumir o patrocínio da causa. <br><br>&nbsp;&nbsp;&nbsp;&nbsp;&nbsp;Art. 15.&nbsp;São motivos para a recusa do mandato pelo advogado designado ou nomeado:</p>\\n<p>&nbsp;&nbsp;&nbsp;&nbsp; 1º - estar impedido de exercer a advocacia;<br><br>&nbsp;&nbsp;&nbsp;&nbsp; 2º - ser procurador constituído pela parte contrária ou ter com ela relações profissionais de interêsse atual;<br><br>&nbsp;&nbsp;&nbsp;&nbsp; 3º - ter necessidade de se ausentar da sede do Juízo para atender a outro mandato anteriormente outorgado ou para defender interêsses próprios inadiáveis;<br><br>&nbsp;&nbsp;&nbsp;&nbsp;&nbsp;4º - já haver manifestado por escrito sua opinião contrária ao direito que o necessitado pretende pleitear;<br><br>&nbsp;&nbsp;&nbsp;&nbsp; 5º - haver dado à parte contrária parecer escrito sôbre a contenda. <br><br>&nbsp;&nbsp;&nbsp;&nbsp;&nbsp; <i>Parágrafo único. </i>A recusa será solicitada ao Juiz, que, de plano, a concederá, temporária ou definitivamente, ou a denegará. <br><br>&nbsp;&nbsp;&nbsp;&nbsp;&nbsp;Art. 16.&nbsp;Se o advogado, ao comparecer em juízo, não exibir o instrumento do mandato outorgado pelo assistido, o Juiz determinará que se exarem na ata da audiência os têrmos da referida outorga. <br><br>&nbsp;&nbsp;&nbsp;&nbsp;&nbsp;Art. 17.&nbsp;Caberá recurso de agravo de instrumento das decisões proferidas em conseqüência de aplicação desta Lei, salvo quando a decisão fôr denegatória da assistência, caso em que o agravo será de petição. <br><br>&nbsp;&nbsp;&nbsp;&nbsp;&nbsp;Art. 18.&nbsp;Os acadêmicos de direito, a partir da 4ª série, poderão ser indicados pela assistência judiciária, ou nomeados pelo Juiz para auxiliar o patrocínio das causas dos necessitados, ficando sujeitos às mesmas obrigações impostas por esta Lei aos advogados. <br><br>&nbsp;&nbsp;&nbsp;&nbsp;&nbsp;Art. 19.&nbsp;Esta Lei entrará em vigor trinta dias depois da sua publicação no <em>Diário Oficial da União</em>, revogadas as disposições em contrário.</p>\\n<p>Rio de Janeiro, 5 de fevereiro de 1950; 129º da Independência e 62º da República.</p>\\n<p>EURICO G. DUTRA. <br>Adroaldo Mesquita da Costa <br></p>\\n\\t\\t\\t\\t\\t\\t</div>'"
      ]
     },
     "execution_count": 4,
     "metadata": {},
     "output_type": "execute_result"
    }
   ],
   "source": [
    "teste = Scrap(lei='lei 1.060', n=4, p=1)\n",
    "conteudo = teste.conecta()\n",
    "conteudo"
   ]
  },
  {
   "cell_type": "code",
   "execution_count": 3,
   "metadata": {},
   "outputs": [
    {
     "data": {
      "text/plain": [
       "'Estabelece normas para a concessão de assistência judiciária aos necessitados. '"
      ]
     },
     "execution_count": 3,
     "metadata": {},
     "output_type": "execute_result"
    }
   ],
   "source": [
    "teste.title()"
   ]
  },
  {
   "cell_type": "code",
   "execution_count": 23,
   "metadata": {},
   "outputs": [
    {
     "data": {
      "text/plain": [
       "<html><body><div class=\"texto\">\n",
       "<p>O PRESIDENTE DA REPÚBLICA: <br/>Faço saber que o CONGRESSO NACIONAL decreta e eu sanciono a seguinte Lei: <br/><br/>     Art. 1º Os poderes públicos federal e estadual concederão assistência judiciária aos necessitados nos têrmos da presente Lei. <br/><br/>     Art. 2º Gozarão dos benefícios desta Lei os nacionais ou estrangeiros residentes no país, que necessitarem recorrer à Justiça penal, civil, militar ou do trabalho. <br/><br/>      <i>Parágrafo único. </i>Considera-se necessitado, para os fins legais, todo aquêle cuja situação econômica não lhe permita pagar as custas do processo e os honorários de advogado, sem prejuízo do sustento próprio ou da família. <br/><br/>     Art. 3º A assistência judiciária compreende as seguintes isenções: <br/><br/>      I - das taxas judiciárias e dos selos; <br/>      II - dos emolumentos e custas devidos aos Juízes, órgãos do Ministério Público e serventuários da Justiça; <br/>      III - das despesas com as publicações indispensáveis no jornal encarregado da divulgação dos atos oficiais; <br/>      IV - das indenizações devidas às testemunhas que, quando empregados, receberão do empregador salário integral, como se em serviço estivessem, ressalvado o direito regressivo contra o poder público federal, no Distrito Federal e nos Territórios; ou contra o poder público estadual, nos Estados; <br/>      V - dos honorários de advogado e peritos. <br/><br/>     Art. 4º A parte, que pretender gozar os benefícios da assistência judiciária, requererá ao Juiz competente lhos conceda, mencionando, na petição, o rendimento ou vencimento que percebe e os encargos próprios e os da família. <br/><br/>      § 1º A petição será instruída por um atestado de que conste ser o requerente necessitado, não podendo pagar as despesas do processo. Êste documento será expedido, isento de selos e emolumentos, pela autoridade policial ou pelo Prefeito municipal. <br/><br/>      § 2º Nas capitais dos Estados e no Distrito Federal, o atestado da competência do Prefeito poderá ser expedido por autoridade expressamente designada pelo mesmo. <br/><br/>     Art. 5º O Juiz, se não tiver fundadas razões para indeferir o pedido, deverá julgá-lo de plano, motivando ou não o deferimento dentro do prazo de setenta e duas horas. <br/><br/>      § 1º Deferido o pedido, o Juiz determinará que o serviço de assistência judiciária, organizado e mantido pelo Estado, onde houver, indique, no prazo de dois dias úteis o advogado que patrocinará a causa do necessitado. <br/><br/>      § 2º Se no Estado não houver serviço de assistência judiciária, por êle mantido, caberá a indicação à Ordem dos Advogados, por suas Seções Estaduais, ou Subseções Municipais. <br/><br/>      § 3º Nos municípios em que não existirem Subseções da Ordem dos Advogados do Brasil, o próprio Juiz fará a nomeação do advogado que patrocinará a causa do necessitado. <br/><br/>      § 4º Será preferido para a defesa da causa o advogado que o interessado indicar e que declare aceitar o encargo. <br/><br/>     Art. 6º O pedido, quando formulado no curso da ação, não a suspenderá, podendo o Juiz, em face das provas, conceder ou denegar de plano o benefício de assistência. A petição, nêste caso, será autuada em separado, apensando-se os respectivos autos aos da causa principal, depois de resolvido o incidente. <br/><br/>     Art. 7º A parte contrária poderá, em qualquer fase da lide, requerer a revogação dos benefícios de assistência, desde que prove a inexistência ou o desaparecimento dos requisitos essenciais à sua concessão. <br/><br/>      <i>Parágrafo único. </i>Tal requerimento não suspenderá o curso da ação e se processará pela forma estabelecida no final do artigo 6º desta Lei. <br/><br/>     Art. 8º Ocorrendo as circunstâncias mencionadas no artigo anterior, poderá o Juiz,<em> ex-officio,</em> decretar a revogação dos benefícios, ouvida a parte interessada dentro de quarenta e oito horas improrrogáveis. <br/><br/>     Art. 9º Os benefícios da assistência judiciária compreendem todos os atos do processo até decisão final do litígio, em tôdas as instâncias. <br/><br/>     Art. 10. São individuais e concedidos em cada caso ocorrente os benefícios de assistência judiciária, que se não transmitem ao cessionário de direito e se extinguem pela morte do beneficiário, podendo, entretanto, ser concedidos aos herdeiros que continuarem a demanda e que necessitarem de tais favores, na forma estabelecida nesta Lei. <br/><br/>     Art. 11. Os honorários de advogado e peritos, as custas do processo, as taxas e selos judiciários serão pagos pelo vencido, quando o beneficiário de assistência fôr vencedor na causa. <br/><br/>      § 1º Os honorários do advogado serão arbitrados pelo Juiz até o máximo de 15% (quinze por cento) sôbre o líquido apurado na execução da sentença. <br/><br/>      § 2º A parte vencida poderá acionar a vencedora para rehaver as despesas do processo, inclusive honorários do advogado, desde que prove ter a última perdido a condição legal de necessitada. <br/><br/>     Art. 12. A parte beneficiada pela isenção do pagamento das custas ficará obrigada a pagá-las, desde que possa fazê-lo, sem prejuízo do sustento próprio ou da família. Se dentro de cinco anos, a contar da sentença final, o assistido não puder satisfazer tal pagamento, a obrigação ficará prescrita. <br/><br/>     Art. 13. Se o assistido puder atender, em parte, as despesas do processo, o Juiz mandará pagar as custas que serão rateadas entre os que tiverem direito ao seu recebimento. <br/><br/>     Art. 14. Os advogados indicados pela assistência ou nomeados pelo Juiz serão obrigados, salvo justo motivo, a critério do Juiz, a patrocinar as causas dos necessitados, sob pena de multa de Cr$ 200,00 (duzentos cruzeiros) a Cr$ 1.000,00 (mil cruzeiros). <br/><br/>      <i>Parágrafo único. </i>As multas previstas nêste artigo reverterão em proveito do advogado que assumir o patrocínio da causa. <br/><br/>     Art. 15. São motivos para a recusa do mandato pelo advogado designado ou nomeado:</p>\n",
       "<p>     1º - estar impedido de exercer a advocacia;<br/><br/>     2º - ser procurador constituído pela parte contrária ou ter com ela relações profissionais de interêsse atual;<br/><br/>     3º - ter necessidade de se ausentar da sede do Juízo para atender a outro mandato anteriormente outorgado ou para defender interêsses próprios inadiáveis;<br/><br/>     4º - já haver manifestado por escrito sua opinião contrária ao direito que o necessitado pretende pleitear;<br/><br/>     5º - haver dado à parte contrária parecer escrito sôbre a contenda. <br/><br/>      <i>Parágrafo único. </i>A recusa será solicitada ao Juiz, que, de plano, a concederá, temporária ou definitivamente, ou a denegará. <br/><br/>     Art. 16. Se o advogado, ao comparecer em juízo, não exibir o instrumento do mandato outorgado pelo assistido, o Juiz determinará que se exarem na ata da audiência os têrmos da referida outorga. <br/><br/>     Art. 17. Caberá recurso de agravo de instrumento das decisões proferidas em conseqüência de aplicação desta Lei, salvo quando a decisão fôr denegatória da assistência, caso em que o agravo será de petição. <br/><br/>     Art. 18. Os acadêmicos de direito, a partir da 4ª série, poderão ser indicados pela assistência judiciária, ou nomeados pelo Juiz para auxiliar o patrocínio das causas dos necessitados, ficando sujeitos às mesmas obrigações impostas por esta Lei aos advogados. <br/><br/>     Art. 19. Esta Lei entrará em vigor trinta dias depois da sua publicação no <em>Diário Oficial da União</em>, revogadas as disposições em contrário.</p>\n",
       "<p>Rio de Janeiro, 5 de fevereiro de 1950; 129º da Independência e 62º da República.</p>\n",
       "<p>EURICO G. DUTRA. <br/>Adroaldo Mesquita da Costa <br/></p>\n",
       "</div></body></html>"
      ]
     },
     "execution_count": 23,
     "metadata": {},
     "output_type": "execute_result"
    }
   ],
   "source": [
    "#usar esta variável para testas o parágrafo\n",
    "paragrafo = BeautifulSoup(conteudo, 'lxml').find_all()\n",
    "paragrafo[0]#desta forma é retornado tudo dentro da tag <html>"
   ]
  },
  {
   "cell_type": "code",
   "execution_count": 98,
   "metadata": {},
   "outputs": [],
   "source": [
    "str(paragrafo[0]).replace('\\xa0', '')\n",
    "paragrafo2 = str(paragrafo[0]).replace('\\xa0', '')"
   ]
  },
  {
   "cell_type": "code",
   "execution_count": 120,
   "metadata": {},
   "outputs": [
    {
     "data": {
      "text/plain": [
       "'Art. 4ºA parte, que pretender gozar os benefícios da assistência judiciária, requererá ao Juiz competente lhos conceda, mencionando, na petição, o rendimento ou vencimento que percebe e os encargos próprios e os da família. '"
      ]
     },
     "execution_count": 120,
     "metadata": {},
     "output_type": "execute_result"
    }
   ],
   "source": [
    "#outra maneira de Buscar o artigo, para poder usar para buscar os parágrafos!\n",
    "n = 4\n",
    "inicio_artigo = re.search(f'Art. {n}', paragrafo2).start()\n",
    "fim_artigo = re.search('<b', paragrafo2[(inicio_artigo):]).start()\n",
    "#str(paragrafo[0])[inicio_artigo:].replace('\\xa0', '').split('<br/>')[0]\n",
    "fim_artigo += inicio_artigo\n",
    "paragrafo2[inicio_artigo: fim_artigo]\n",
    "#Coooooonseguuuuuuiii!!"
   ]
  },
  {
   "cell_type": "code",
   "execution_count": 65,
   "metadata": {},
   "outputs": [
    {
     "data": {
      "text/plain": [
       "'Art. 4º-A parte, que pretender gozar os benefícios da assistência judiciária, requererá ao Juiz competente lhos conceda, mencionando, na petição, o rendimento ou vencimento que percebe e os encargos próprios e os da família. '"
      ]
     },
     "execution_count": 65,
     "metadata": {},
     "output_type": "execute_result"
    }
   ],
   "source": [
    "teste.article()"
   ]
  },
  {
   "cell_type": "code",
   "execution_count": 170,
   "metadata": {},
   "outputs": [
    {
     "data": {
      "text/plain": [
       "'Estabelece normas para a concessão de assistência judiciária aos necessitados. '"
      ]
     },
     "execution_count": 170,
     "metadata": {},
     "output_type": "execute_result"
    }
   ],
   "source": [
    "teste.title()"
   ]
  },
  {
   "cell_type": "code",
   "execution_count": 171,
   "metadata": {},
   "outputs": [
    {
     "data": {
      "text/plain": [
       "'Art. 4º-A parte, que pretender gozar os benefícios da assistência judiciária, requererá ao Juiz competente lhos conceda, mencionando, na petição, o rendimento ou vencimento que percebe e os encargos próprios e os da família. '"
      ]
     },
     "execution_count": 171,
     "metadata": {},
     "output_type": "execute_result"
    }
   ],
   "source": [
    "teste.article()"
   ]
  },
  {
   "cell_type": "code",
   "execution_count": 66,
   "metadata": {},
   "outputs": [
    {
     "data": {
      "text/plain": [
       "' advogado e peritos. <br><br>&nbsp;&nbsp;&nbsp;&nbsp;&nbsp;Art. 4º&nbsp;A parte, que pretender gozar os benefícios da assistência judiciária, requererá ao Juiz competente lhos conceda, mencionando, na petição, o rendimento ou vencimento que percebe e os encargos próprios e os da família. <br><br>&nbsp;&nbsp;&nbsp;&nbsp;&nbsp; § 1º A petição será instruída por um atestado de que conste ser o requerente necessitado, não podendo pagar as despesas do processo. Êste documento será expedido, isento de selos e emolumentos, pela autoridade policial ou pelo Prefeito municipal. <br><br>&nbsp;&nbsp;&nbsp;&nbsp;&nbsp; § 2º Nas capitais dos Estados e no Distrito Federal, o atestado da competência do Prefeito poderá ser expedido por autoridade expressamente designada pelo mesmo. <br><br>&nbsp;&nbsp;&nbsp;&nbsp;&nbsp;Art. 5º&nbsp;O Juiz, se não tiver fundadas razões para indeferir o pedido, deverá julgá-lo de plano, motivando ou não o deferimento dentro do prazo de setenta e duas horas. <br><br>&nbsp;&nbsp;&nbsp;&nbsp;&nbsp; § 1º Deferido o pedido, o Juiz determinará que o serviço de assistência judiciária, organizado e mantido pelo Estado, onde houver, indique, no prazo de dois dias úteis o advogado que patrocinará a causa do necessitado. <br><br>&nbsp;&nbsp;&nbsp;&nbsp;&nbsp; § 2º Se no Estado não houver serviço de assistência judiciária, por êle mantido, caberá a indicação à Ordem dos Advogados, por suas Seções Estaduais, ou Subseções Municipais. <br><br>&nbsp;&nbsp;&nbsp;&nbsp;&nbsp; § 3º Nos municípios em que não existirem Subseções da Ordem dos Advogados do Brasil, o próprio Juiz fará a nomeação do advogado que patrocinará a causa do necessitado. <br><br>&nbsp;&nbsp;&nbsp;&nbsp;&nbsp; § 4º Será preferido para a defesa da causa o advogado que o interessado indicar e que declare aceitar o encargo. <br><br>&nbsp;&nbsp;&nbsp;&nbsp;&nbsp;Art. 6º&nbsp;O pedido, quando formulado no curso da ação, não a suspenderá, podendo o Juiz, em face das provas, conceder ou denegar de plano o benefício de assistência. A petição, nêste caso, será autuada em separado, apensando-se os respectivos autos aos da causa principal, depois de resolvido o incidente. <br><br>&nbsp;&nbsp;&nbsp;&nbsp;&nbsp;Art. 7º&nbsp;A parte contrária poderá, em qualquer fase da lide, requerer a revogação dos benefícios de assistência, desde que prove a inexistência ou o desaparecimento dos requisitos essenciais à sua concessão. <br><br>&nbsp;&nbsp;&nbsp;&nbsp;&nbsp; <i>Parágrafo único. </i>Tal requerimento não suspenderá o curso da ação e se processará pela forma estabelecida no final do artigo 6º desta Lei. <br><br>&nbsp;&nbsp;&nbsp;&nbsp;&nbsp;Art. 8º&nbsp;Ocorrendo as circunstâncias mencionadas no artigo anterior, poderá o Juiz,<em> ex-officio,</em> decretar a revogação dos benefícios, ouvida a parte interessada dentro de quarenta e oito horas improrrogáveis. <br><br>&nbsp;&nbsp;&nbsp;&nbsp;&nbsp;Art. 9º&nbsp;Os benefícios da assistência judiciária compreendem todos os atos do processo até decisão final do litígio, em tôdas as instâncias. <br><br>&nbsp;&nbsp;&nbsp;&nbsp;&nbsp;Art. 10.&nbsp;São individuais e concedidos em cada caso ocorrente os benefícios de assistência judiciária, que se não transmitem ao cessionário de direito e se extinguem pela morte do beneficiário, podendo, entretanto, ser concedidos aos herdeiros que continuarem a demanda e que necessitarem de tais favores, na forma estabelecida nesta Lei. <br><br>&nbsp;&nbsp;&nbsp;&nbsp;&nbsp;Art. 11.&nbsp;Os honorários de advogado e peritos, as custas do processo, as taxas e selos judiciários serão pagos pelo vencido, quando o beneficiário de assistência fôr vencedor na causa. <br><br>&nbsp;&nbsp;&nbsp;&nbsp;&nbsp; § 1º Os honorários do advogado serão arbitrados pelo Juiz até o máximo de 15% (quinze por cento) sôbre o líquido apurado na execução da sentença.&nbsp;<br><br>&nbsp;&nbsp;&nbsp;&nbsp;&nbsp; § 2º A parte vencida poderá acionar a vencedora para rehaver as despesas do processo, inclusive honorários do advogado, desde que prove ter a última perdido a condição legal de necessitada. <br><br>&nbsp;&nbsp;&nbsp;&nbsp;&nbsp;Art. 12.&nbsp;A parte beneficiada pela isenção do pagamento das custas ficará obrigada a pagá-las, desde que possa fazê-lo, sem prejuízo do sustento próprio ou da família. Se dentro de cinco anos, a contar da sentença final, o assistido não puder satisfazer tal pagamento, a obrigação ficará prescrita. <br><br>&nbsp;&nbsp;&nbsp;&nbsp;&nbsp;Art. 13.&nbsp;Se o assistido puder atender, em parte, as despesas do processo, o Juiz mandará pagar as custas que serão rateadas entre os que tiverem direito ao seu recebimento. <br><br>&nbsp;&nbsp;&nbsp;&nbsp;&nbsp;Art. 14.&nbsp;Os advogados indicados pela assistência ou nomeados pelo Juiz serão obrigados, salvo justo motivo, a critério do Juiz, a patrocinar as causas dos necessitados, sob pena de multa de Cr$ 200,00 (duzentos cruzeiros) a Cr$ 1.000,00 (mil cruzeiros). <br><br>&nbsp;&nbsp;&nbsp;&nbsp;&nbsp; <i>Parágrafo único. </i>As multas previstas nêste artigo reverterão em proveito do advogado que assumir o patrocínio da causa. <br><br>&nbsp;&nbsp;&nbsp;&nbsp;&nbsp;Art. 15.&nbsp;São motivos para a recusa do mandato pelo advogado designado ou nomeado:</p>\\n<p>&nbsp;&nbsp;&nbsp;&nbsp; 1º - estar impedido de exercer a advocacia;<br><br>&nbsp;&nbsp;&nbsp;&nbsp; 2º - ser procurador constituído pela parte contrária ou ter com ela relações profissionais de interêsse atual;<br><br>&nbsp;&nbsp;&nbsp;&nbsp; 3º - ter necessidade de se ausentar da sede do Juízo para atender a outro mandato anteriormente outorgado ou para defender interêsses próprios inadiáveis;<br><br>&nbsp;&nbsp;&nbsp;&nbsp;&nbsp;4º - já haver manifestado por escrito sua opinião contrária ao direito que o necessitado pretende pleitear;<br><br>&nbsp;&nbsp;&nbsp;&nbsp; 5º - haver dado à parte contrária parecer escrito sôbre a contenda. <br><br>&nbsp;&nbsp;&nbsp;&nbsp;&nbsp; <i>Parágrafo único. </i>A recusa será solicitada ao Juiz, que, de plano, a concederá, temporária ou definitivamente, ou a denegará. <br><br>&nbsp;&nbsp;&nbsp;&nbsp;&nbsp;Art. 16.&nbsp;Se o advogado, ao comparecer em juízo, não exibir o instrumento do mandato outorgado pelo assistido, o Juiz determinará que se exarem na ata da audiência os têrmos da referida outorga. <br><br>&nbsp;&nbsp;&nbsp;&nbsp;&nbsp;Art. 17.&nbsp;Caberá recurso de agravo de instrumento das decisões proferidas em conseqüência de aplicação desta Lei, salvo quando a decisão fôr denegatória da assistência, caso em que o agravo será de petição. <br><br>&nbsp;&nbsp;&nbsp;&nbsp;&nbsp;Art. 18.&nbsp;Os acadêmicos de direito, a partir da 4ª série, poderão ser indicados pela assistência judiciária, ou nomeados pelo Juiz para auxiliar o patrocínio das causas dos necessitados, ficando sujeitos às mesmas obrigações impostas por esta Lei aos advogados. <br><br>&nbsp;&nbsp;&nbsp;&nbsp;&nbsp;Art. 19.&nbsp;Esta Lei entrará em vigor trinta dias depois da sua publicação no <em>Diário Oficial da União</em>, revogadas as disposições em contrário.</p>\\n<p>Rio de Janeiro, 5 de fevereiro de 1950; 129º da Independência e 62º da República.</p>\\n<p>EURICO G. DUTRA. <br>Adroaldo Mesquita da Costa <br></p>\\n\\t\\t\\t\\t\\t\\t</div>'"
      ]
     },
     "execution_count": 66,
     "metadata": {},
     "output_type": "execute_result"
    }
   ],
   "source": [
    "teste.paragraph()"
   ]
  },
  {
   "cell_type": "code",
   "execution_count": null,
   "metadata": {},
   "outputs": [],
   "source": []
  }
 ],
 "metadata": {
  "kernelspec": {
   "display_name": "Python 3",
   "language": "python",
   "name": "python3"
  },
  "language_info": {
   "codemirror_mode": {
    "name": "ipython",
    "version": 3
   },
   "file_extension": ".py",
   "mimetype": "text/x-python",
   "name": "python",
   "nbconvert_exporter": "python",
   "pygments_lexer": "ipython3",
   "version": "3.6.10"
  }
 },
 "nbformat": 4,
 "nbformat_minor": 4
}
