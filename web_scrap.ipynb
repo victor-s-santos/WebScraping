{
 "cells": [
  {
   "cell_type": "code",
   "execution_count": 345,
   "metadata": {},
   "outputs": [],
   "source": [
    "#Defining the webscrapper class\n",
    "import time\n",
    "from bs4 import BeautifulSoup\n",
    "from selenium import webdriver\n",
    "from selenium.webdriver.firefox.options import Options\n",
    "#lei=law, n=article number, p=paragraph number, inciso=item, alinea=point\n",
    "class Scrap:\n",
    "    def __init__(self, lei, n=None, p=None, inciso=None, alinea=None):\n",
    "        \"\"\"Initializing the driver\"\"\"\n",
    "        self.lei = lei\n",
    "        self.n = n\n",
    "        self.p = p\n",
    "        self.inciso1 = inciso\n",
    "        self.alinea = alinea\n",
    "        \n",
    "        self.m = 0\n",
    "        self.a = 0\n",
    "        self.an = 0\n",
    "        self.at = 0\n",
    "        self.inc = 0\n",
    "        self.art = str('Art. ' + str(self.n))\n",
    "        self.lista_paragrafo = []\n",
    "        self.lista_inciso = []\n",
    "        self.lista_alinea = []\n",
    "        \n",
    "        url = 'https://www2.camara.leg.br/busca/?q=' + lei\n",
    "        option = Options()\n",
    "        option.headless = True\n",
    "        driver = webdriver.Firefox(options=option)\n",
    "        driver.get(url)\n",
    "        driver.find_element_by_xpath(\"//div[@id='resultadoBusca']//ul//li//span//a\").click()\n",
    "        driver.find_element_by_xpath(\"//div[@class='sessao']//a\").click()\n",
    "        element = driver.find_element_by_xpath(\"//div[@class='texto']\")\n",
    "        self.titulo = driver.find_element_by_class_name('ementa')\n",
    "        html_content = element.get_attribute('outerHTML')\n",
    "        self.titulo = self.titulo.get_attribute('outerHTML')\n",
    "        #time.sleep(2)\n",
    "        driver.quit()\n",
    "\n",
    "        self.soup = BeautifulSoup(html_content, 'lxml')\n",
    "        self.texto = self.soup.find_all(text=True)\n",
    "\n",
    "        self.titulo = BeautifulSoup(self.titulo, 'lxml')\n",
    "        self.titulo = self.titulo.find_all(text=True)\n",
    "        \n",
    "    def title(self):\n",
    "        \"\"\"Returns the law title\"\"\" \n",
    "        for i in range(len(self.titulo)):\n",
    "            self.titulo[i] = self.titulo[i].replace('\\n', '')\n",
    "            self.titulo[i] = self.titulo[i].replace('\\t', '')\n",
    "            if '' in self.titulo:\n",
    "                self.titulo.remove('')\n",
    "            return(self.titulo[0])\n",
    "   \n",
    "    def article(self):\n",
    "        for i in range(len(self.texto)):\n",
    "            if (f'Art. {int(self.n)}') in self.texto[i]:\n",
    "                self.texto[i] = self.texto[i].replace('\\n', '')\n",
    "                self.texto[i] = self.texto[i].replace('\\t', '')\n",
    "                self.texto[i] = self.texto[i].replace('\\xa0', '')\n",
    "                self.i2 = i\n",
    "                return(self.texto[i])\n",
    "\n",
    "    def paragraph(self):\n",
    "        self.article()\n",
    "        \"\"\"Returns every laws paragraph of the inserted article\"\"\"\n",
    "        for i in range(self.i2,len(self.texto)):\n",
    "            if '' in self.texto:\n",
    "                self.texto.remove('')\n",
    "        \n",
    "        for i in range(self.i2, len(self.texto)):\n",
    "            if (f'Art. {int(self.n) +1}') in self.texto[i]:\n",
    "                break\n",
    "\n",
    "            if '§' in self.texto[i]:\n",
    "                self.texto[i] = self.texto[i].replace('\\n', '')\n",
    "                self.texto[i] = self.texto[i].replace('\\t', '')\n",
    "                self.texto[i] = self.texto[i].replace('\\xa0', '')\n",
    "                self.lista_paragrafo.append(self.texto[i])\n",
    "                \n",
    "        if len(self.lista_paragrafo) == 0:\n",
    "            return('O artigo requisitado não possui parágrafos.')\n",
    "        \n",
    "        if self.p is not None:\n",
    "            return(self.article(),self.lista_paragrafo[(self.p)-1])\n",
    "        else:\n",
    "            return(self.article(),self.lista_paragrafo)\n",
    "    \n",
    "    \n",
    "    def inciso(self):\n",
    "        \"\"\"Returns the requested item from the article / law, \n",
    "        if no item was requested the entire list is returned\"\"\"\n",
    "        if self.inciso1 is not None:\n",
    "            for i in range(self.i2, len(self.texto)):\n",
    "                if (f'Art. {int(self.n) +1}') in self.texto[i]:\n",
    "                    break\n",
    "                if (str(self.inciso1)) in self.texto[i]:\n",
    "                    self.texto[i] = self.texto[i].replace('\\xa0', '')\n",
    "                    return(self.texto[i])\n",
    "        else:\n",
    "            for i in range(self.i2, len(self.texto)):\n",
    "                if (f'Art. {int(self.n) +1}') in self.texto[i]:\n",
    "                    break\n",
    "                if ('I' or 'II' or 'III' or 'IV' or 'V'\n",
    "                   or 'VI' or 'VII' or 'VIII' or 'IX' or 'X') in self.texto[i]:\n",
    "                    self.texto[i] = self.texto[i].replace('\\xa0', '')\n",
    "                    self.lista_inciso.append(self.texto[i])\n",
    "            return(self.lista_inciso)            "
   ]
  },
  {
   "cell_type": "code",
   "execution_count": 347,
   "metadata": {},
   "outputs": [],
   "source": [
    "teste = Scrap(lei='lei 1.060', n=3, p=1)"
   ]
  },
  {
   "cell_type": "code",
   "execution_count": 348,
   "metadata": {},
   "outputs": [
    {
     "data": {
      "text/plain": [
       "'Estabelece normas para a concessão de assistência judiciária aos necessitados. '"
      ]
     },
     "execution_count": 348,
     "metadata": {},
     "output_type": "execute_result"
    }
   ],
   "source": [
    "teste.title()"
   ]
  },
  {
   "cell_type": "code",
   "execution_count": 349,
   "metadata": {},
   "outputs": [
    {
     "data": {
      "text/plain": [
       "'Art. 3ºA assistência judiciária compreende as seguintes isenções: '"
      ]
     },
     "execution_count": 349,
     "metadata": {},
     "output_type": "execute_result"
    }
   ],
   "source": [
    "teste.article()"
   ]
  },
  {
   "cell_type": "code",
   "execution_count": 350,
   "metadata": {},
   "outputs": [
    {
     "data": {
      "text/plain": [
       "'O artigo requisitado não possui parágrafos.'"
      ]
     },
     "execution_count": 350,
     "metadata": {},
     "output_type": "execute_result"
    }
   ],
   "source": [
    "teste.paragraph()"
   ]
  },
  {
   "cell_type": "code",
   "execution_count": 351,
   "metadata": {},
   "outputs": [
    {
     "data": {
      "text/plain": [
       "[' I - das taxas judiciárias e dos selos; ',\n",
       " ' II - dos emolumentos e custas devidos aos Juízes, órgãos do Ministério Público e serventuários da Justiça; ',\n",
       " ' III - das despesas com as publicações indispensáveis no jornal encarregado da divulgação dos atos oficiais; ',\n",
       " ' IV - das indenizações devidas às testemunhas que, quando empregados, receberão do empregador salário integral, como se em serviço estivessem, ressalvado o direito regressivo contra o poder público federal, no Distrito Federal e nos Territórios; ou contra o poder público estadual, nos Estados; ']"
      ]
     },
     "execution_count": 351,
     "metadata": {},
     "output_type": "execute_result"
    }
   ],
   "source": [
    "teste.inciso()"
   ]
  },
  {
   "cell_type": "code",
   "execution_count": 188,
   "metadata": {},
   "outputs": [],
   "source": [
    "#outra classe\n",
    "teste2 = Scrap(lei='lei 1.060', n=5, p=1, inciso='I')"
   ]
  },
  {
   "cell_type": "code",
   "execution_count": 189,
   "metadata": {},
   "outputs": [
    {
     "data": {
      "text/plain": [
       "'Estabelece normas para a concessão de assistência judiciária aos necessitados. '"
      ]
     },
     "execution_count": 189,
     "metadata": {},
     "output_type": "execute_result"
    }
   ],
   "source": [
    "teste2.title()"
   ]
  },
  {
   "cell_type": "code",
   "execution_count": 190,
   "metadata": {},
   "outputs": [
    {
     "data": {
      "text/plain": [
       "'Art. 5ºO Juiz, se não tiver fundadas razões para indeferir o pedido, deverá julgá-lo de plano, motivando ou não o deferimento dentro do prazo de setenta e duas horas. '"
      ]
     },
     "execution_count": 190,
     "metadata": {},
     "output_type": "execute_result"
    }
   ],
   "source": [
    "teste2.article()"
   ]
  },
  {
   "cell_type": "code",
   "execution_count": 191,
   "metadata": {},
   "outputs": [
    {
     "data": {
      "text/plain": [
       "('Art. 5ºO Juiz, se não tiver fundadas razões para indeferir o pedido, deverá julgá-lo de plano, motivando ou não o deferimento dentro do prazo de setenta e duas horas. ',\n",
       " ' § 1º Deferido o pedido, o Juiz determinará que o serviço de assistência judiciária, organizado e mantido pelo Estado, onde houver, indique, no prazo de dois dias úteis o advogado que patrocinará a causa do necessitado. ')"
      ]
     },
     "execution_count": 191,
     "metadata": {},
     "output_type": "execute_result"
    }
   ],
   "source": [
    "teste2.paragraph()"
   ]
  },
  {
   "cell_type": "code",
   "execution_count": null,
   "metadata": {},
   "outputs": [],
   "source": [
    "\"\"\"O programa funciona bem para os casos em que os incisos aparecem após o parágrafo, \n",
    "ao invés do título do artigo\"\"\""
   ]
  }
 ],
 "metadata": {
  "kernelspec": {
   "display_name": "Python 3",
   "language": "python",
   "name": "python3"
  },
  "language_info": {
   "codemirror_mode": {
    "name": "ipython",
    "version": 3
   },
   "file_extension": ".py",
   "mimetype": "text/x-python",
   "name": "python",
   "nbconvert_exporter": "python",
   "pygments_lexer": "ipython3",
   "version": "3.8.3"
  }
 },
 "nbformat": 4,
 "nbformat_minor": 4
}
