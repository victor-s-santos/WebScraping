{
 "cells": [
  {
   "cell_type": "markdown",
   "metadata": {},
   "source": [
    "* __Installing packages__"
   ]
  },
  {
   "cell_type": "code",
   "execution_count": 6,
   "metadata": {},
   "outputs": [],
   "source": [
    "# Install a pip package in the current Jupyter kernel\n",
    "import sys\n",
    "!{sys.executable} -m pip install -r requirements.txt"
   ]
  },
  {
   "cell_type": "markdown",
   "metadata": {},
   "source": [
    "# Rodando o programa"
   ]
  },
  {
   "cell_type": "code",
   "execution_count": 1,
   "metadata": {},
   "outputs": [],
   "source": [
    "#importando as libs\n",
    "import time\n",
    "from bs4 import BeautifulSoup\n",
    "from selenium import webdriver\n",
    "from selenium.webdriver.firefox.options import Options"
   ]
  },
  {
   "cell_type": "code",
   "execution_count": null,
   "metadata": {},
   "outputs": [],
   "source": [
    "#rodando o programa\n",
    "url = 'https://www2.camara.leg.br/busca/?q=lei 9503'\n",
    "option = Options()\n",
    "option.headless = True\n",
    "driver = webdriver.Firefox(options=option)\n",
    "driver.get(url)\n",
    "time.sleep(10)\n",
    "driver.find_element_by_xpath(\"//div[@id='resultadoBusca']//ul//li//span//a\").click()\n",
    "time.sleep(10)\n",
    "driver.find_element_by_xpath(\"//div[@class='sessao']//a\").click()\n",
    "time.sleep(10)\n",
    "element = driver.find_element_by_xpath(\"//div[@class='texto']\")\n",
    "titulo = driver.find_element_by_class_name('ementa')\n",
    "html_content = element.get_attribute('outerHTML')\n",
    "titulo = titulo.get_attribute('outerHTML')\n",
    "time.sleep(5)\n",
    "driver.quit()\n",
    "\n",
    "soup = BeautifulSoup(html_content, 'lxml')\n",
    "text = soup.find_all(text=True)\n",
    "\n",
    "titulo = BeautifulSoup(titulo, 'lxml')\n",
    "titulo = titulo.find_all(text=True)\n",
    "\n",
    "for i in range(len(text)):\n",
    "    text[i] = text[i].replace('\\n', '')\n",
    "    text[i] = text[i].replace('\\t', '')\n",
    "    text[i] = text[i].replace('\\xa0', '')\n",
    "    \n",
    "for i in range(len(titulo)):\n",
    "    titulo[i] = titulo[i].replace('\\n', '')\n",
    "    titulo[i] = titulo[i].replace('\\t', '')\n",
    "    \n",
    "for i in range(len(text)):\n",
    "    if '' in text:\n",
    "        text.remove('')\n",
    "\n",
    "for i in range(len(titulo)):\n",
    "    if '' in titulo:\n",
    "        titulo.remove('')\n",
    "    \n",
    "n = 29\n",
    "m = 0\n",
    "inciso = 'III'\n",
    "alinea = 'a)'\n",
    "a = 0\n",
    "an = 0\n",
    "at = 0\n",
    "art = str('Art. ' + str(n))\n",
    "lista_paragrafo = []\n",
    "lista_inciso = []\n",
    "lista_alinea = []\n",
    "for i in range(len(text)):\n",
    "    if art in text[i]:\n",
    "        lista_paragrafo.append(text[i])\n",
    "        m += 1\n",
    "    if m != 0 and '§' in text[i]:\n",
    "        lista_paragrafo.append(text[i])\n",
    "        \n",
    "    if m != 0 and 'Parágrafo único.' in text[i]:\n",
    "        lista_paragrafo.append(text[i+1])\n",
    "        \n",
    "    if m != 0 and inciso in text[i]:\n",
    "        lista_inciso.append('Inciso' + text[i])\n",
    "        m = 0# m retorna a zero para não trazer o próximo inciso\n",
    "        a += 1\n",
    "     #--ler parágrafos--# \n",
    "        for j in range(i, len(text)):\n",
    "            if m == 0 and '§' in text[j]:\n",
    "                lista_paragrafo.append(text[j])\n",
    "            if str('Art. ' + str(n+1)) in text[j]:\n",
    "                break\n",
    "        \n",
    "    if a != 0 and an == 0 and alinea != '' and alinea in text[i]:\n",
    "        lista_alinea.append('Alinea '+ alinea + text[i+1])\n",
    "        an += 1#para não trazer outra alínea\n",
    "        \n",
    "    if str('Art. ' + str(n+1)) in text[i]:\n",
    "        break\n",
    "\n",
    "print(titulo[0])\n",
    "print('Nº: ' + lista_paragrafo[0])\n",
    "for i in range(1, len(lista_paragrafo)): \n",
    "    print(lista_paragrafo[i])\n",
    "print(lista_inciso[0])\n",
    "print(lista_alinea[0])"
   ]
  },
  {
   "cell_type": "code",
   "execution_count": 1,
   "metadata": {},
   "outputs": [],
   "source": [
    "import time\n",
    "from bs4 import BeautifulSoup\n",
    "from selenium import webdriver\n",
    "from selenium.webdriver.firefox.options import Options\n",
    "\n",
    "def web_scrap(lei='lei 9503', n=29, inciso='III', alinea='a)'):\n",
    "    \"\"\"Deve retornar o título da lei, o Inciso e a alinea solicitados\"\"\"\n",
    "    print('Aguarde enquanto nossos robos procuram pelas informações solicitadas...')\n",
    "    url = 'https://www2.camara.leg.br/busca/?q=' + lei\n",
    "    option = Options()\n",
    "    option.headless = True\n",
    "    driver = webdriver.Firefox(options=option)\n",
    "    driver.get(url)\n",
    "    time.sleep(2)\n",
    "    driver.find_element_by_xpath(\"//div[@id='resultadoBusca']//ul//li//span//a\").click()\n",
    "    time.sleep(2)\n",
    "    driver.find_element_by_xpath(\"//div[@class='sessao']//a\").click()\n",
    "    time.sleep(2)\n",
    "    element = driver.find_element_by_xpath(\"//div[@class='texto']\")\n",
    "    titulo = driver.find_element_by_class_name('ementa')\n",
    "    html_content = element.get_attribute('outerHTML')\n",
    "    titulo = titulo.get_attribute('outerHTML')\n",
    "    time.sleep(2)\n",
    "    driver.quit()\n",
    "\n",
    "    soup = BeautifulSoup(html_content, 'lxml')\n",
    "    text = soup.find_all(text=True)\n",
    "\n",
    "    titulo = BeautifulSoup(titulo, 'lxml')\n",
    "    titulo = titulo.find_all(text=True)\n",
    "\n",
    "    for i in range(len(text)):\n",
    "        text[i] = text[i].replace('\\n', '')\n",
    "        text[i] = text[i].replace('\\t', '')\n",
    "        text[i] = text[i].replace('\\xa0', '')\n",
    "\n",
    "    for i in range(len(titulo)):\n",
    "        titulo[i] = titulo[i].replace('\\n', '')\n",
    "        titulo[i] = titulo[i].replace('\\t', '')\n",
    "\n",
    "    for i in range(len(text)):\n",
    "        if '' in text:\n",
    "            text.remove('')\n",
    "\n",
    "    for i in range(len(titulo)):\n",
    "        if '' in titulo:\n",
    "            titulo.remove('')\n",
    "\n",
    "    m = 0\n",
    "    a = 0\n",
    "    an = 0\n",
    "    at = 0\n",
    "    art = str('Art. ' + str(n))\n",
    "    lista_paragrafo = []\n",
    "    lista_inciso = []\n",
    "    lista_alinea = []\n",
    "    for i in range(len(text)):\n",
    "        if art in text[i]:\n",
    "            lista_paragrafo.append(text[i])\n",
    "            m += 1\n",
    "        if m != 0 and '§' in text[i]:\n",
    "            lista_paragrafo.append(text[i])\n",
    "\n",
    "        if m != 0 and 'Parágrafo único.' in text[i]:\n",
    "            lista_paragrafo.append(text[i+1])\n",
    "\n",
    "        if m != 0 and inciso in text[i]:\n",
    "            lista_inciso.append('Inciso' + text[i])\n",
    "            m = 0\n",
    "            a += 1\n",
    "            if text[i + 1] != 'a)':\n",
    "                break\n",
    "         \n",
    "            for j in range(i, len(text)):\n",
    "                if m == 0 and '§' in text[j]:\n",
    "                    lista_paragrafo.append(text[j])\n",
    "                if str('Art. ' + str(n+1)) in text[j]:\n",
    "                    break\n",
    "\n",
    "        if a != 0 and an == 0 and alinea != '' and alinea in text[i]:\n",
    "            lista_alinea.append('Alinea '+ alinea + text[i+1])\n",
    "            an += 1\n",
    "\n",
    "        if str('Art. ' + str(n+1)) in text[i]:\n",
    "            break\n",
    "\n",
    "    print(titulo[0])\n",
    "    print('Nº: ' + lista_paragrafo[0])\n",
    "    for i in range(1, len(lista_paragrafo)): \n",
    "        print(lista_paragrafo[i])\n",
    "    if len(lista_inciso) > 0:\n",
    "        print(lista_inciso[0])\n",
    "    if len(lista_alinea) > 0:\n",
    "        print(lista_alinea[0])\n",
    "    print('\\n')\n",
    "    print('Muito obrigado!')"
   ]
  },
  {
   "cell_type": "code",
   "execution_count": 5,
   "metadata": {
    "scrolled": true
   },
   "outputs": [
    {
     "name": "stdout",
     "output_type": "stream",
     "text": [
      "Aguarde enquanto nossos robos procuram pelas informações solicitadas...\n",
      "Aprova o texto do Decreto-Lei nº 1104, de 30 de abril de 1970, que altera o Decreto-Lei nº 1060, de 21 de outubro de 1969.\n"
     ]
    },
    {
     "ename": "IndexError",
     "evalue": "list index out of range",
     "output_type": "error",
     "traceback": [
      "\u001b[0;31m---------------------------------------------------------------------------\u001b[0m",
      "\u001b[0;31mIndexError\u001b[0m                                Traceback (most recent call last)",
      "\u001b[0;32m<ipython-input-5-2a9422a28d04>\u001b[0m in \u001b[0;36m<module>\u001b[0;34m\u001b[0m\n\u001b[0;32m----> 1\u001b[0;31m \u001b[0mweb_scrap\u001b[0m\u001b[0;34m(\u001b[0m\u001b[0mlei\u001b[0m\u001b[0;34m=\u001b[0m\u001b[0;34m'lei 1060'\u001b[0m\u001b[0;34m,\u001b[0m \u001b[0mn\u001b[0m\u001b[0;34m=\u001b[0m\u001b[0;36m4\u001b[0m\u001b[0;34m)\u001b[0m\u001b[0;34m\u001b[0m\u001b[0;34m\u001b[0m\u001b[0m\n\u001b[0m",
      "\u001b[0;32m<ipython-input-1-8f7dba7eb201>\u001b[0m in \u001b[0;36mweb_scrap\u001b[0;34m(lei, n, inciso, alinea)\u001b[0m\n\u001b[1;32m     86\u001b[0m \u001b[0;34m\u001b[0m\u001b[0m\n\u001b[1;32m     87\u001b[0m     \u001b[0mprint\u001b[0m\u001b[0;34m(\u001b[0m\u001b[0mtitulo\u001b[0m\u001b[0;34m[\u001b[0m\u001b[0;36m0\u001b[0m\u001b[0;34m]\u001b[0m\u001b[0;34m)\u001b[0m\u001b[0;34m\u001b[0m\u001b[0;34m\u001b[0m\u001b[0m\n\u001b[0;32m---> 88\u001b[0;31m     \u001b[0mprint\u001b[0m\u001b[0;34m(\u001b[0m\u001b[0;34m'Nº: '\u001b[0m \u001b[0;34m+\u001b[0m \u001b[0mlista_paragrafo\u001b[0m\u001b[0;34m[\u001b[0m\u001b[0;36m0\u001b[0m\u001b[0;34m]\u001b[0m\u001b[0;34m)\u001b[0m\u001b[0;34m\u001b[0m\u001b[0;34m\u001b[0m\u001b[0m\n\u001b[0m\u001b[1;32m     89\u001b[0m     \u001b[0;32mfor\u001b[0m \u001b[0mi\u001b[0m \u001b[0;32min\u001b[0m \u001b[0mrange\u001b[0m\u001b[0;34m(\u001b[0m\u001b[0;36m1\u001b[0m\u001b[0;34m,\u001b[0m \u001b[0mlen\u001b[0m\u001b[0;34m(\u001b[0m\u001b[0mlista_paragrafo\u001b[0m\u001b[0;34m)\u001b[0m\u001b[0;34m)\u001b[0m\u001b[0;34m:\u001b[0m\u001b[0;34m\u001b[0m\u001b[0;34m\u001b[0m\u001b[0m\n\u001b[1;32m     90\u001b[0m         \u001b[0mprint\u001b[0m\u001b[0;34m(\u001b[0m\u001b[0mlista_paragrafo\u001b[0m\u001b[0;34m[\u001b[0m\u001b[0mi\u001b[0m\u001b[0;34m]\u001b[0m\u001b[0;34m)\u001b[0m\u001b[0;34m\u001b[0m\u001b[0;34m\u001b[0m\u001b[0m\n",
      "\u001b[0;31mIndexError\u001b[0m: list index out of range"
     ]
    }
   ],
   "source": [
    "web_scrap(lei='lei 1060', n=4)\n",
    "#algumas leis o selenium necessita acessar outro link (não é a mesma ordem que os demais), por isso este problema"
   ]
  },
  {
   "cell_type": "code",
   "execution_count": 10,
   "metadata": {},
   "outputs": [
    {
     "data": {
      "text/plain": [
       "{'a': 'b'}"
      ]
     },
     "execution_count": 10,
     "metadata": {},
     "output_type": "execute_result"
    }
   ],
   "source": [
    "lista = ['a', 'b', 'c']\n",
    "dicio = { lista[0]:lista[1]}\n",
    "dicio"
   ]
  }
 ],
 "metadata": {
  "kernelspec": {
   "display_name": "Python 3",
   "language": "python",
   "name": "python3"
  },
  "language_info": {
   "codemirror_mode": {
    "name": "ipython",
    "version": 3
   },
   "file_extension": ".py",
   "mimetype": "text/x-python",
   "name": "python",
   "nbconvert_exporter": "python",
   "pygments_lexer": "ipython3",
   "version": "3.8.3+"
  }
 },
 "nbformat": 4,
 "nbformat_minor": 4
}
