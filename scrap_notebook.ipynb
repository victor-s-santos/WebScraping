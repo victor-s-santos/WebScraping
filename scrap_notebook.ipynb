{
 "cells": [
  {
   "cell_type": "markdown",
   "metadata": {},
   "source": [
    "* __Installing packages__"
   ]
  },
  {
   "cell_type": "code",
   "execution_count": 6,
   "metadata": {},
   "outputs": [],
   "source": [
    "# Install a pip package in the current Jupyter kernel\n",
    "import sys\n",
    "!{sys.executable} -m pip install -r requirements.txt"
   ]
  },
  {
   "cell_type": "markdown",
   "metadata": {},
   "source": [
    "# Rodando o programa"
   ]
  },
  {
   "cell_type": "code",
   "execution_count": 1,
   "metadata": {},
   "outputs": [],
   "source": [
    "#importando as libs\n",
    "import time\n",
    "import requests\n",
    "import pandas as pd\n",
    "from bs4 import BeautifulSoup\n",
    "from selenium import webdriver\n",
    "from selenium.webdriver.firefox.options import Options\n",
    "import json"
   ]
  },
  {
   "cell_type": "code",
   "execution_count": 2,
   "metadata": {},
   "outputs": [
    {
     "name": "stdout",
     "output_type": "stream",
     "text": [
      "Institui o Código de Trânsito Brasileiro. \n",
      "Nº: Art. 29. O trânsito de veículos nas vias terrestres abertas a circulação obedecerá às seguintes normas: \n",
      "§ 1º As normas de ultrapassagem previstas nas alíneas a e b do inciso X e a e b do inciso XI aplicam-se à transposição de faixas, que pode ser realizada tanto pela faixa da esquerda como pela da direita. \n",
      "§ 2º Respeitadas as normas de circulação e conduta estabelecidas neste artigo, em ordem decrescente, os veículos de maior porte serão sempre responsáveis pela segurança dos menores, os motorizados pelos não motorizados e, juntos, pela incolumidade dos pedestres. \n",
      "Inciso III - quando veículos, transitando por fluxos que se cruzem, se aproximarem de local não sinalizado, terá preferência de passagem: \n",
      "Alinea a)no caso de apenas um fluxo ser proveniente de rodovia, aquele que estiver circulando por ela; \n"
     ]
    }
   ],
   "source": [
    "#rodando o programa\n",
    "url = 'https://www2.camara.leg.br/busca/?q=lei 9503'\n",
    "option = Options()\n",
    "option.headless = True\n",
    "driver = webdriver.Firefox(options=option)\n",
    "driver.get(url)\n",
    "time.sleep(10)\n",
    "driver.find_element_by_xpath(\"//div[@id='resultadoBusca']//ul//li//span//a\").click()\n",
    "time.sleep(10)\n",
    "driver.find_element_by_xpath(\"//div[@class='sessao']//a\").click()\n",
    "time.sleep(10)\n",
    "element = driver.find_element_by_xpath(\"//div[@class='texto']\")\n",
    "titulo = driver.find_element_by_class_name('ementa')\n",
    "html_content = element.get_attribute('outerHTML')\n",
    "titulo = titulo.get_attribute('outerHTML')\n",
    "time.sleep(5)\n",
    "driver.quit()\n",
    "\n",
    "soup = BeautifulSoup(html_content, 'lxml')\n",
    "text = soup.find_all(text=True)\n",
    "\n",
    "titulo = BeautifulSoup(titulo, 'lxml')\n",
    "titulo = titulo.find_all(text=True)\n",
    "\n",
    "for i in range(len(text)):\n",
    "    text[i] = text[i].replace('\\n', '')\n",
    "    text[i] = text[i].replace('\\t', '')\n",
    "    text[i] = text[i].replace('\\xa0', '')\n",
    "    \n",
    "for i in range(len(titulo)):\n",
    "    titulo[i] = titulo[i].replace('\\n', '')\n",
    "    titulo[i] = titulo[i].replace('\\t', '')\n",
    "    \n",
    "for i in range(len(text)):\n",
    "    if '' in text:\n",
    "        text.remove('')\n",
    "\n",
    "for i in range(len(titulo)):\n",
    "    if '' in titulo:\n",
    "        titulo.remove('')\n",
    "    \n",
    "n = 29\n",
    "m = 0\n",
    "inciso = 'III'\n",
    "alinea = 'a)'\n",
    "a = 0\n",
    "an = 0\n",
    "at = 0\n",
    "art = str('Art. ' + str(n))\n",
    "lista_paragrafo = []\n",
    "lista_inciso = []\n",
    "lista_alinea = []\n",
    "for i in range(len(text)):\n",
    "    if art in text[i]:\n",
    "        lista_paragrafo.append(text[i])\n",
    "        m += 1\n",
    "    if m != 0 and '§' in text[i]:\n",
    "        lista_paragrafo.append(text[i])\n",
    "        \n",
    "    if m != 0 and 'Parágrafo único.' in text[i]:\n",
    "        lista_paragrafo.append(text[i+1])\n",
    "        \n",
    "    if m != 0 and inciso in text[i]:\n",
    "        lista_inciso.append('Inciso' + text[i])\n",
    "        m = 0# m retorna a zero para não trazer o próximo inciso\n",
    "        a += 1\n",
    "     #--ler parágrafos--# \n",
    "        for j in range(i, len(text)):\n",
    "            if m == 0 and '§' in text[j]:\n",
    "                lista_paragrafo.append(text[j])\n",
    "            if str('Art. ' + str(n+1)) in text[j]:\n",
    "                break\n",
    "        \n",
    "    if a != 0 and an == 0 and alinea != '' and alinea in text[i]:\n",
    "        lista_alinea.append('Alinea '+ alinea + text[i+1])\n",
    "        an += 1#para não trazer outra alínea\n",
    "        \n",
    "    if str('Art. ' + str(n+1)) in text[i]:\n",
    "        break\n",
    "\n",
    "print(titulo[0])\n",
    "print('Nº: ' + lista_paragrafo[0])\n",
    "for i in range(1, len(lista_paragrafo)): \n",
    "    print(lista_paragrafo[i])\n",
    "print(lista_inciso[0])\n",
    "print(lista_alinea[0])"
   ]
  }
 ],
 "metadata": {
  "kernelspec": {
   "display_name": "Python 3",
   "language": "python",
   "name": "python3"
  },
  "language_info": {
   "codemirror_mode": {
    "name": "ipython",
    "version": 3
   },
   "file_extension": ".py",
   "mimetype": "text/x-python",
   "name": "python",
   "nbconvert_exporter": "python",
   "pygments_lexer": "ipython3",
   "version": "3.8.3+"
  }
 },
 "nbformat": 4,
 "nbformat_minor": 4
}
