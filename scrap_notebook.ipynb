{
 "cells": [
  {
   "cell_type": "markdown",
   "metadata": {},
   "source": [
    "* __Installing packages__"
   ]
  },
  {
   "cell_type": "code",
   "execution_count": 2,
   "metadata": {},
   "outputs": [
    {
     "name": "stdout",
     "output_type": "stream",
     "text": [
      "Requirement already satisfied: numpy in /home/visus/.pyenv/versions/3.8-dev/lib/python3.8/site-packages (from -r requirements.txt (line 1)) (1.18.5)\n",
      "Requirement already satisfied: pandas in /home/visus/.pyenv/versions/3.8-dev/lib/python3.8/site-packages (from -r requirements.txt (line 2)) (1.0.4)\n",
      "Requirement already satisfied: requests in /home/visus/.pyenv/versions/3.8-dev/lib/python3.8/site-packages (from -r requirements.txt (line 3)) (2.23.0)\n",
      "Requirement already satisfied: beautifulsoup4==4.9.1 in /home/visus/.pyenv/versions/3.8-dev/lib/python3.8/site-packages (from -r requirements.txt (line 4)) (4.9.1)\n",
      "Requirement already satisfied: pytz>=2017.2 in /home/visus/.pyenv/versions/3.8-dev/lib/python3.8/site-packages (from pandas->-r requirements.txt (line 2)) (2020.1)\n",
      "Requirement already satisfied: python-dateutil>=2.6.1 in /home/visus/.pyenv/versions/3.8-dev/lib/python3.8/site-packages (from pandas->-r requirements.txt (line 2)) (2.8.1)\n",
      "Requirement already satisfied: certifi>=2017.4.17 in /home/visus/.pyenv/versions/3.8-dev/lib/python3.8/site-packages (from requests->-r requirements.txt (line 3)) (2020.4.5.2)\n",
      "Requirement already satisfied: idna<3,>=2.5 in /home/visus/.pyenv/versions/3.8-dev/lib/python3.8/site-packages (from requests->-r requirements.txt (line 3)) (2.9)\n",
      "Requirement already satisfied: chardet<4,>=3.0.2 in /home/visus/.pyenv/versions/3.8-dev/lib/python3.8/site-packages (from requests->-r requirements.txt (line 3)) (3.0.4)\n",
      "Requirement already satisfied: urllib3!=1.25.0,!=1.25.1,<1.26,>=1.21.1 in /home/visus/.pyenv/versions/3.8-dev/lib/python3.8/site-packages (from requests->-r requirements.txt (line 3)) (1.25.9)\n",
      "Requirement already satisfied: soupsieve>1.2 in /home/visus/.pyenv/versions/3.8-dev/lib/python3.8/site-packages (from beautifulsoup4==4.9.1->-r requirements.txt (line 4)) (2.0.1)\n",
      "Requirement already satisfied: six>=1.5 in /home/visus/.pyenv/versions/3.8-dev/lib/python3.8/site-packages (from python-dateutil>=2.6.1->pandas->-r requirements.txt (line 2)) (1.15.0)\n",
      "\u001b[33mWARNING: You are using pip version 19.2.3, however version 20.1.1 is available.\n",
      "You should consider upgrading via the 'pip install --upgrade pip' command.\u001b[0m\n"
     ]
    }
   ],
   "source": [
    "# Install a pip package in the current Jupyter kernel\n",
    "import sys\n",
    "!{sys.executable} -m pip install -r requirements.txt"
   ]
  },
  {
   "cell_type": "code",
   "execution_count": null,
   "metadata": {},
   "outputs": [],
   "source": []
  }
 ],
 "metadata": {
  "kernelspec": {
   "display_name": "Python 3",
   "language": "python",
   "name": "python3"
  },
  "language_info": {
   "codemirror_mode": {
    "name": "ipython",
    "version": 3
   },
   "file_extension": ".py",
   "mimetype": "text/x-python",
   "name": "python",
   "nbconvert_exporter": "python",
   "pygments_lexer": "ipython3",
   "version": "3.8.3+"
  }
 },
 "nbformat": 4,
 "nbformat_minor": 4
}
