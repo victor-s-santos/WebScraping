{
 "cells": [
  {
   "cell_type": "markdown",
   "metadata": {},
   "source": [
    "__Aparentemente, uma lei termina em:__\n",
    "- `Este texto não substitui o original publicado`\n",
    "\n",
    "__E inicia com:__\n",
    "\n",
    "- `LEI Nº 1.060`\n",
    "\n",
    "Na página específica da lei"
   ]
  },
  {
   "cell_type": "code",
   "execution_count": 10,
   "metadata": {},
   "outputs": [
    {
     "data": {
      "text/plain": [
       "'LEI Nº 1.060, DE 5 DE FEVEREIRO DE 1950\\nEstabelece normas para a concessão de assistência judiciária aos necessitados.\\n\\nO PRESIDENTE DA REPÚBLICA: \\nFaço saber que o CONGRESSO NACIONAL decreta e eu sanciono a seguinte Lei: \\n\\n     Art. 1º Os poderes públicos federal e estadual concederão assistência judiciária aos necessitados nos têrmos da presente Lei.\\n\\n     Art. 2º Gozarão dos benefícios desta Lei os nacionais ou estrangeiros residentes no país, que necessitarem recorrer à Justiça penal, civil, militar ou do trabalho.\\n\\n      Parágrafo único. Considera-se necessitado, para os fins legais, todo aquêle cuja situação econômica não lhe permita pagar as custas do processo e os honorários de advogado, sem prejuízo do sustento próprio ou da família.\\n\\n     Art. 3º A assistência judiciária compreende as seguintes isenções:\\n\\n      I - das taxas judiciárias e dos selos;\\n      II - dos emolumentos e custas devidos aos Juízes, órgãos do Ministério Público e serventuários da Justiça;\\n      III - das despesas com as publicações indispensáveis no jornal encarregado da divulgação dos atos oficiais;\\n      IV - das indenizações devidas às testemunhas que, quando empregados, receberão do empregador salário integral, como se em serviço estivessem, ressalvado o direito regressivo contra o poder público federal, no Distrito Federal e nos Territórios; ou contra o poder público estadual, nos Estados;\\n      V - dos honorários de advogado e peritos.\\n\\n     Art. 4º A parte, que pretender gozar os benefícios da assistência judiciária, requererá ao Juiz competente lhos conceda, mencionando, na petição, o rendimento ou vencimento que percebe e os encargos próprios e os da família.\\n\\n      § 1º A petição será instruída por um atestado de que conste ser o requerente necessitado, não podendo pagar as despesas do processo. Êste documento será expedido, isento de selos e emolumentos, pela autoridade policial ou pelo Prefeito municipal.\\n\\n      § 2º Nas capitais dos Estados e no Distrito Federal, o atestado da competência do Prefeito poderá ser expedido por autoridade expressamente designada pelo mesmo.\\n\\n     Art. 5º O Juiz, se não tiver fundadas razões para indeferir o pedido, deverá julgá-lo de plano, motivando ou não o deferimento dentro do prazo de setenta e duas horas.\\n\\n      § 1º Deferido o pedido, o Juiz determinará que o serviço de assistência judiciária, organizado e mantido pelo Estado, onde houver, indique, no prazo de dois dias úteis o advogado que patrocinará a causa do necessitado.\\n\\n      § 2º Se no Estado não houver serviço de assistência judiciária, por êle mantido, caberá a indicação à Ordem dos Advogados, por suas Seções Estaduais, ou Subseções Municipais.\\n\\n      § 3º Nos municípios em que não existirem Subseções da Ordem dos Advogados do Brasil, o próprio Juiz fará a nomeação do advogado que patrocinará a causa do necessitado.\\n\\n      § 4º Será preferido para a defesa da causa o advogado que o interessado indicar e que declare aceitar o encargo.\\n\\n     Art. 6º O pedido, quando formulado no curso da ação, não a suspenderá, podendo o Juiz, em face das provas, conceder ou denegar de plano o benefício de assistência. A petição, nêste caso, será autuada em separado, apensando-se os respectivos autos aos da causa principal, depois de resolvido o incidente.\\n\\n     Art. 7º A parte contrária poderá, em qualquer fase da lide, requerer a revogação dos benefícios de assistência, desde que prove a inexistência ou o desaparecimento dos requisitos essenciais à sua concessão.\\n\\n      Parágrafo único. Tal requerimento não suspenderá o curso da ação e se processará pela forma estabelecida no final do artigo 6º desta Lei.\\n\\n     Art. 8º Ocorrendo as circunstâncias mencionadas no artigo anterior, poderá o Juiz, ex-officio, decretar a revogação dos benefícios, ouvida a parte interessada dentro de quarenta e oito horas improrrogáveis.\\n\\n     Art. 9º Os benefícios da assistência judiciária compreendem todos os atos do processo até decisão final do litígio, em tôdas as instâncias.\\n\\n     Art. 10. São individuais e concedidos em cada caso ocorrente os benefícios de assistência judiciária, que se não transmitem ao cessionário de direito e se extinguem pela morte do beneficiário, podendo, entretanto, ser concedidos aos herdeiros que continuarem a demanda e que necessitarem de tais favores, na forma estabelecida nesta Lei.\\n\\n     Art. 11. Os honorários de advogado e peritos, as custas do processo, as taxas e selos judiciários serão pagos pelo vencido, quando o beneficiário de assistência fôr vencedor na causa.\\n\\n      § 1º Os honorários do advogado serão arbitrados pelo Juiz até o máximo de 15% (quinze por cento) sôbre o líquido apurado na execução da sentença. \\n\\n      § 2º A parte vencida poderá acionar a vencedora para rehaver as despesas do processo, inclusive honorários do advogado, desde que prove ter a última perdido a condição legal de necessitada.\\n\\n     Art. 12. A parte beneficiada pela isenção do pagamento das custas ficará obrigada a pagá-las, desde que possa fazê-lo, sem prejuízo do sustento próprio ou da família. Se dentro de cinco anos, a contar da sentença final, o assistido não puder satisfazer tal pagamento, a obrigação ficará prescrita.\\n\\n     Art. 13. Se o assistido puder atender, em parte, as despesas do processo, o Juiz mandará pagar as custas que serão rateadas entre os que tiverem direito ao seu recebimento.\\n\\n     Art. 14. Os advogados indicados pela assistência ou nomeados pelo Juiz serão obrigados, salvo justo motivo, a critério do Juiz, a patrocinar as causas dos necessitados, sob pena de multa de Cr$ 200,00 (duzentos cruzeiros) a Cr$ 1.000,00 (mil cruzeiros).\\n\\n      Parágrafo único. As multas previstas nêste artigo reverterão em proveito do advogado que assumir o patrocínio da causa.\\n\\n     Art. 15. São motivos para a recusa do mandato pelo advogado designado ou nomeado:\\n\\n     1º - estar impedido de exercer a advocacia;\\n\\n     2º - ser procurador constituído pela parte contrária ou ter com ela relações profissionais de interêsse atual;\\n\\n     3º - ter necessidade de se ausentar da sede do Juízo para atender a outro mandato anteriormente outorgado ou para defender interêsses próprios inadiáveis;\\n\\n     4º - já haver manifestado por escrito sua opinião contrária ao direito que o necessitado pretende pleitear;\\n\\n     5º - haver dado à parte contrária parecer escrito sôbre a contenda.\\n\\n      Parágrafo único. A recusa será solicitada ao Juiz, que, de plano, a concederá, temporária ou definitivamente, ou a denegará.\\n\\n     Art. 16. Se o advogado, ao comparecer em juízo, não exibir o instrumento do mandato outorgado pelo assistido, o Juiz determinará que se exarem na ata da audiência os têrmos da referida outorga.\\n\\n     Art. 17. Caberá recurso de agravo de instrumento das decisões proferidas em conseqüência de aplicação desta Lei, salvo quando a decisão fôr denegatória da assistência, caso em que o agravo será de petição.\\n\\n     Art. 18. Os acadêmicos de direito, a partir da 4ª série, poderão ser indicados pela assistência judiciária, ou nomeados pelo Juiz para auxiliar o patrocínio das causas dos necessitados, ficando sujeitos às mesmas obrigações impostas por esta Lei aos advogados.\\n\\n     Art. 19. Esta Lei entrará em vigor trinta dias depois da sua publicação no Diário Oficial da União, revogadas as disposições em contrário.\\n\\nRio de Janeiro, 5 de fevereiro de 1950; 129º da Independência e 62º da República.\\n\\nEURICO G. DUTRA.\\nAdroaldo Mesquita da Costa\\n\\n\\nEste texto não substitui o original publicado no Diário Oficial da União - Seção 1 de 13/02/1950'"
      ]
     },
     "execution_count": 10,
     "metadata": {},
     "output_type": "execute_result"
    }
   ],
   "source": [
    "import re\n",
    "\n",
    "lei_1060 = open('lei1060.txt', 'r')\n",
    "lei_1060 = lei_1060.read()\n",
    "len(lei_1060)\n",
    "lei_1060"
   ]
  },
  {
   "cell_type": "markdown",
   "metadata": {},
   "source": [
    "## Título da Lei"
   ]
  },
  {
   "cell_type": "code",
   "execution_count": 12,
   "metadata": {},
   "outputs": [
    {
     "data": {
      "text/plain": [
       "39"
      ]
     },
     "execution_count": 12,
     "metadata": {},
     "output_type": "execute_result"
    }
   ],
   "source": [
    "\"\"\"titulo(do \\n até o próximo \\n)\"\"\"\n",
    "titulo_inicio = re.search('\\n', lei_1060).start()\n",
    "titulo_inicio"
   ]
  },
  {
   "cell_type": "code",
   "execution_count": 16,
   "metadata": {},
   "outputs": [
    {
     "data": {
      "text/plain": [
       "'\\nEstabelece normas para a concessão de assistência judiciária aos necessitados.\\n\\nO PRESIDENTE DA REPÚBLICA: \\nFaço saber que o CONGRESSO NACIONAL decreta e eu sanciono a seguinte Lei: \\n\\n     Art. 1º Os poderes públicos federal e estadual concederão assistência judiciária aos necessitados nos têrmos da presente Lei.\\n\\n     Art. 2º Gozarão dos benefícios desta Lei os nacionais ou estrangeiros residentes no país, que necessitarem recorrer à Justiça penal, civil, militar ou do trabalho.\\n\\n      Parágrafo único. Considera-se necessitado, para os fins legais, todo aquêle cuja situação econômica não lhe permita pagar as custas do processo e os honorários de advogado, sem prejuízo do sustento próprio ou da família.\\n\\n     Art. 3º A assistência judiciária compreende as seguintes isenções:\\n\\n      I - das taxas judiciárias e dos selos;\\n      II - dos emolumentos e custas devidos aos Juízes, órgãos do Ministério Público e serventuários da Justiça;\\n      III - das despesas com as publicações indispensáveis no jornal encarregado da divulgação dos atos oficiais;\\n      IV - das indenizações devidas às testemunhas que, quando empregados, receberão do empregador salário integral, como se em serviço estivessem, ressalvado o direito regressivo contra o poder público federal, no Distrito Federal e nos Territórios; ou contra o poder público estadual, nos Estados;\\n      V - dos honorários de advogado e peritos.\\n\\n     Art. 4º A parte, que pretender gozar os benefícios da assistência judiciária, requererá ao Juiz competente lhos conceda, mencionando, na petição, o rendimento ou vencimento que percebe e os encargos próprios e os da família.\\n\\n      § 1º A petição será instruída por um atestado de que conste ser o requerente necessitado, não podendo pagar as despesas do processo. Êste documento será expedido, isento de selos e emolumentos, pela autoridade policial ou pelo Prefeito municipal.\\n\\n      § 2º Nas capitais dos Estados e no Distrito Federal, o atestado da competência do Prefeito poderá ser expedido por autoridade expressamente designada pelo mesmo.\\n\\n     Art. 5º O Juiz, se não tiver fundadas razões para indeferir o pedido, deverá julgá-lo de plano, motivando ou não o deferimento dentro do prazo de setenta e duas horas.\\n\\n      § 1º Deferido o pedido, o Juiz determinará que o serviço de assistência judiciária, organizado e mantido pelo Estado, onde houver, indique, no prazo de dois dias úteis o advogado que patrocinará a causa do necessitado.\\n\\n      § 2º Se no Estado não houver serviço de assistência judiciária, por êle mantido, caberá a indicação à Ordem dos Advogados, por suas Seções Estaduais, ou Subseções Municipais.\\n\\n      § 3º Nos municípios em que não existirem Subseções da Ordem dos Advogados do Brasil, o próprio Juiz fará a nomeação do advogado que patrocinará a causa do necessitado.\\n\\n      § 4º Será preferido para a defesa da causa o advogado que o interessado indicar e que declare aceitar o encargo.\\n\\n     Art. 6º O pedido, quando formulado no curso da ação, não a suspenderá, podendo o Juiz, em face das provas, conceder ou denegar de plano o benefício de assistência. A petição, nêste caso, será autuada em separado, apensando-se os respectivos autos aos da causa principal, depois de resolvido o incidente.\\n\\n     Art. 7º A parte contrária poderá, em qualquer fase da lide, requerer a revogação dos benefícios de assistência, desde que prove a inexistência ou o desaparecimento dos requisitos essenciais à sua concessão.\\n\\n      Parágrafo único. Tal requerimento não suspenderá o curso da ação e se processará pela forma estabelecida no final do artigo 6º desta Lei.\\n\\n     Art. 8º Ocorrendo as circunstâncias mencionadas no artigo anterior, poderá o Juiz, ex-officio, decretar a revogação dos benefícios, ouvida a parte interessada dentro de quarenta e oito horas improrrogáveis.\\n\\n     Art. 9º Os benefícios da assistência judiciária compreendem todos os atos do processo até decisão final do litígio, em tôdas as instâncias.\\n\\n     Art. 10. São individuais e concedidos em cada caso ocorrente os benefícios de assistência judiciária, que se não transmitem ao cessionário de direito e se extinguem pela morte do beneficiário, podendo, entretanto, ser concedidos aos herdeiros que continuarem a demanda e que necessitarem de tais favores, na forma estabelecida nesta Lei.\\n\\n     Art. 11. Os honorários de advogado e peritos, as custas do processo, as taxas e selos judiciários serão pagos pelo vencido, quando o beneficiário de assistência fôr vencedor na causa.\\n\\n      § 1º Os honorários do advogado serão arbitrados pelo Juiz até o máximo de 15% (quinze por cento) sôbre o líquido apurado na execução da sentença. \\n\\n      § 2º A parte vencida poderá acionar a vencedora para rehaver as despesas do processo, inclusive honorários do advogado, desde que prove ter a última perdido a condição legal de necessitada.\\n\\n     Art. 12. A parte beneficiada pela isenção do pagamento das custas ficará obrigada a pagá-las, desde que possa fazê-lo, sem prejuízo do sustento próprio ou da família. Se dentro de cinco anos, a contar da sentença final, o assistido não puder satisfazer tal pagamento, a obrigação ficará prescrita.\\n\\n     Art. 13. Se o assistido puder atender, em parte, as despesas do processo, o Juiz mandará pagar as custas que serão rateadas entre os que tiverem direito ao seu recebimento.\\n\\n     Art. 14. Os advogados indicados pela assistência ou nomeados pelo Juiz serão obrigados, salvo justo motivo, a critério do Juiz, a patrocinar as causas dos necessitados, sob pena de multa de Cr$ 200,00 (duzentos cruzeiros) a Cr$ 1.000,00 (mil cruzeiros).\\n\\n      Parágrafo único. As multas previstas nêste artigo reverterão em proveito do advogado que assumir o patrocínio da causa.\\n\\n     Art. 15. São motivos para a recusa do mandato pelo advogado designado ou nomeado:\\n\\n     1º - estar impedido de exercer a advocacia;\\n\\n     2º - ser procurador constituído pela parte contrária ou ter com ela relações profissionais de interêsse atual;\\n\\n     3º - ter necessidade de se ausentar da sede do Juízo para atender a outro mandato anteriormente outorgado ou para defender interêsses próprios inadiáveis;\\n\\n     4º - já haver manifestado por escrito sua opinião contrária ao direito que o necessitado pretende pleitear;\\n\\n     5º - haver dado à parte contrária parecer escrito sôbre a contenda.\\n\\n      Parágrafo único. A recusa será solicitada ao Juiz, que, de plano, a concederá, temporária ou definitivamente, ou a denegará.\\n\\n     Art. 16. Se o advogado, ao comparecer em juízo, não exibir o instrumento do mandato outorgado pelo assistido, o Juiz determinará que se exarem na ata da audiência os têrmos da referida outorga.\\n\\n     Art. 17. Caberá recurso de agravo de instrumento das decisões proferidas em conseqüência de aplicação desta Lei, salvo quando a decisão fôr denegatória da assistência, caso em que o agravo será de petição.\\n\\n     Art. 18. Os acadêmicos de direito, a partir da 4ª série, poderão ser indicados pela assistência judiciária, ou nomeados pelo Juiz para auxiliar o patrocínio das causas dos necessitados, ficando sujeitos às mesmas obrigações impostas por esta Lei aos advogados.\\n\\n     Art. 19. Esta Lei entrará em vigor trinta dias depois da sua publicação no Diário Oficial da União, revogadas as disposições em contrário.\\n\\nRio de Janeiro, 5 de fevereiro de 1950; 129º da Independência e 62º da República.\\n\\nEURICO G. DUTRA.\\nAdroaldo Mesquita da Costa\\n\\n\\nEste texto não substitui o original publicado no Diário Oficial da União - Seção 1 de 13/02/1950'"
      ]
     },
     "execution_count": 16,
     "metadata": {},
     "output_type": "execute_result"
    }
   ],
   "source": [
    "\"Logo, agora podemos definir o início do nosso título\"\n",
    "lei_1060[titulo_inicio:]"
   ]
  },
  {
   "cell_type": "code",
   "execution_count": 17,
   "metadata": {},
   "outputs": [
    {
     "data": {
      "text/plain": [
       "'Estabelece normas para a concessão de assistência judiciária aos necessitados.'"
      ]
     },
     "execution_count": 17,
     "metadata": {},
     "output_type": "execute_result"
    }
   ],
   "source": [
    "\"Assim, aplicando etapas do tratamento do texto: O título vai até '\\n'\"\n",
    "lei_1060[titulo_inicio:].split('\\n')[1]"
   ]
  },
  {
   "cell_type": "markdown",
   "metadata": {},
   "source": [
    "## Artigo"
   ]
  },
  {
   "cell_type": "markdown",
   "metadata": {},
   "source": [
    "Art. 16. Se o advogado, ao comparecer em juízo, não exibir o instrumento do mandato outorgado pelo assistido, o Juiz determinará que se exarem na ata da audiência os têrmos da referida outorga.\\n\\n"
   ]
  },
  {
   "cell_type": "code",
   "execution_count": 21,
   "metadata": {},
   "outputs": [
    {
     "data": {
      "text/plain": [
       "'Art. 16. Se o advogado, ao comparecer em juízo, não exibir o instrumento do mandato outorgado pelo assistido, o Juiz determinará que se exarem na ata da audiência os têrmos da referida outorga.\\n\\n     Art. 17. Caberá recurso de agravo de instrumento das decisões proferidas em conseqüência de aplicação desta Lei, salvo quando a decisão fôr denegatória da assistência, caso em que o agravo será de petição.\\n\\n     Art. 18. Os acadêmicos de direito, a partir da 4ª série, poderão ser indicados pela assistência judiciária, ou nomeados pelo Juiz para auxiliar o patrocínio das causas dos necessitados, ficando sujeitos às mesmas obrigações impostas por esta Lei aos advogados.\\n\\n     Art. 19. Esta Lei entrará em vigor trinta dias depois da sua publicação no Diário Oficial da União, revogadas as disposições em contrário.\\n\\nRio de Janeiro, 5 de fevereiro de 1950; 129º da Independência e 62º da República.\\n\\nEURICO G. DUTRA.\\nAdroaldo Mesquita da Costa\\n\\n\\nEste texto não substitui o original publicado no Diário Oficial da União - Seção 1 de 13/02/1950'"
      ]
     },
     "execution_count": 21,
     "metadata": {},
     "output_type": "execute_result"
    }
   ],
   "source": [
    "\"Vamos buscar o artigo 16\"\n",
    "n = str(16)\n",
    "artigo_inicio = re.search(f'Art. {n}', lei_1060).start()\n",
    "lei_1060[artigo_inicio:]"
   ]
  },
  {
   "cell_type": "code",
   "execution_count": 23,
   "metadata": {},
   "outputs": [
    {
     "data": {
      "text/plain": [
       "'Art. 16. Se o advogado, ao comparecer em juízo, não exibir o instrumento do mandato outorgado pelo assistido, o Juiz determinará que se exarem na ata da audiência os têrmos da referida outorga.'"
      ]
     },
     "execution_count": 23,
     "metadata": {},
     "output_type": "execute_result"
    }
   ],
   "source": [
    "\"\"\"Novamente, o fim do artigo é encontrado em \\n\\n\"\"\"\n",
    "lei_1060[artigo_inicio:].split('\\n\\n')[0]"
   ]
  },
  {
   "cell_type": "code",
   "execution_count": 24,
   "metadata": {},
   "outputs": [
    {
     "data": {
      "text/plain": [
       "'Art. 2º Gozarão dos benefícios desta Lei os nacionais ou estrangeiros residentes no país, que necessitarem recorrer à Justiça penal, civil, militar ou do trabalho.'"
      ]
     },
     "execution_count": 24,
     "metadata": {},
     "output_type": "execute_result"
    }
   ],
   "source": [
    "\"Vamos buscar o artigo 2\"\n",
    "n = str(2)\n",
    "artigo_inicio = re.search(f'Art. {n}', lei_1060).start()\n",
    "lei_1060[artigo_inicio:].split('\\n\\n')[0]"
   ]
  }
 ],
 "metadata": {
  "kernelspec": {
   "display_name": "Python 3",
   "language": "python",
   "name": "python3"
  },
  "language_info": {
   "codemirror_mode": {
    "name": "ipython",
    "version": 3
   },
   "file_extension": ".py",
   "mimetype": "text/x-python",
   "name": "python",
   "nbconvert_exporter": "python",
   "pygments_lexer": "ipython3",
   "version": "3.6.10"
  }
 },
 "nbformat": 4,
 "nbformat_minor": 4
}
