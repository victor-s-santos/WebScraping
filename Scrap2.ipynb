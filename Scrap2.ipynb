{
 "cells": [
  {
   "cell_type": "markdown",
   "metadata": {},
   "source": [
    "> ## Neste notebook o usuário deve entrar com o nome da lei, o inciso e a alínea, e o programa retornará cada um dos parâmetros solicitados."
   ]
  },
  {
   "cell_type": "code",
   "execution_count": 1,
   "metadata": {},
   "outputs": [],
   "source": [
    "import time\n",
    "import requests\n",
    "import pandas as pd\n",
    "from bs4 import BeautifulSoup\n",
    "from selenium import webdriver\n",
    "from selenium.webdriver.firefox.options import Options\n",
    "import json"
   ]
  },
  {
   "cell_type": "code",
   "execution_count": null,
   "metadata": {},
   "outputs": [],
   "source": [
    "url = 'https://www2.camara.leg.br/busca/?q=lei 9503'\n",
    "option = Options()\n",
    "option.headless = True\n",
    "driver = webdriver.Firefox(options=option)\n",
    "driver.get(url)\n",
    "time.sleep(10)\n",
    "driver.quit()"
   ]
  },
  {
   "cell_type": "code",
   "execution_count": 3,
   "metadata": {},
   "outputs": [
    {
     "data": {
      "text/plain": [
       "\"\\n//div[@class='nba-stat-table']//table//thead//tr//th[@data-field='PTS'] é o caminho que o navegador vai fazer\\npara dar o click\\n\""
      ]
     },
     "execution_count": 3,
     "metadata": {},
     "output_type": "execute_result"
    }
   ],
   "source": [
    "#simulando o click\n",
    "url = 'https://www2.camara.leg.br/busca/?q=lei 9503'\n",
    "option = Options()\n",
    "option.headless = True\n",
    "driver = webdriver.Firefox()\n",
    "driver.get(url)\n",
    "time.sleep(10)\n",
    "driver.find_element_by_xpath(\"//div[@id='resultadoBusca']//ul//li//span//a\").click()\n",
    "time.sleep(10)\n",
    "driver.find_element_by_xpath(\"//div[@id='resultadoBusca']//ul//li//span//a\").click()\n",
    "\"\"\"\n",
    "//div[@class='nba-stat-table']//table//thead//tr//th[@data-field='PTS'] é o caminho que o navegador vai fazer\n",
    "para dar o click\n",
    "\"\"\"\n",
    "#pegando a tabela\n",
    "#element = driver.find_element_by_xpath(\"//div[@class='nba-stat-table']//table\")\n",
    "#html_content = element.get_attribute('outerHTML')\n",
    "#print(html_content)\n",
    "#driver.quit()"
   ]
  }
 ],
 "metadata": {
  "kernelspec": {
   "display_name": "Python 3",
   "language": "python",
   "name": "python3"
  },
  "language_info": {
   "codemirror_mode": {
    "name": "ipython",
    "version": 3
   },
   "file_extension": ".py",
   "mimetype": "text/x-python",
   "name": "python",
   "nbconvert_exporter": "python",
   "pygments_lexer": "ipython3",
   "version": "3.8.3+"
  }
 },
 "nbformat": 4,
 "nbformat_minor": 4
}
